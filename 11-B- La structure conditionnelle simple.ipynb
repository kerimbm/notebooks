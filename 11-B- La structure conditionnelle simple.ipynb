{
 "cells": [
  {
   "cell_type": "code",
   "execution_count": 12,
   "metadata": {
    "deletable": false,
    "editable": false,
    "hide_input": true,
    "init_cell": true,
    "nbgrader": {
     "grade": false,
     "grade_id": "cell-31a13c6a83e7beab",
     "locked": true,
     "schema_version": 3,
     "solution": false,
     "task": false
    }
   },
   "outputs": [],
   "source": [
    "from IPython.display import HTML, display\n",
    "from IPython.core.magic import register_line_cell_magic\n",
    "import urllib.request\n",
    "\n",
    "@register_line_cell_magic\n",
    "def tutor(line, cell):\n",
    "    code = urllib.parse.urlencode({\"code\": cell})\n",
    "    display(HTML(\"\"\"\n",
    "    <iframe width=\"970\" height=\"500px\" frameborder=\"0\"\n",
    "            src=\"http://pythontutor.com/iframe-embed.html#%s&py=3\">\n",
    "    </iframe>\n",
    "    \"\"\" % code))"
   ]
  },
  {
   "cell_type": "markdown",
   "metadata": {
    "deletable": false,
    "editable": false,
    "hide_input": false,
    "run_control": {
     "frozen": true
    }
   },
   "source": [
    "<div style=\"background-color:#fff5f5;border:2px solid #faa;padding:20px 0 10px 0;\">\n",
    "    <div style=\"margin-left:30px;font-size:28px;color: #009955;\">Objectifs :</div>\n",
    "    <div style=\"font-size:18px;color: #0077cc;line-height:35px;margin-left:70px;\">\n",
    "        <ul>\n",
    "<li>Comprendre l’utilité d’une structure conditionnelle.</li>\n",
    "<li>Utiliser les structures conditionnelles pour effectuer des choix en fonction des circonstances.</li>\n",
    "<li>Utiliser la structure conditionnelle simple pour résoudre un problème.</li>\n",
    "<li>Maîtriser les expressions booléennes dans les conditions.</li>\n",
    "<li>Traduire un algorithme en un programme exécutable.</li>\n",
    "<li>Écrire un programme pour résoudre un problème.</li>\n",
    "        </ul>\n",
    "    </div>\n",
    "</div>"
   ]
  },
  {
   "cell_type": "markdown",
   "metadata": {
    "deletable": false,
    "editable": false,
    "run_control": {
     "frozen": true
    }
   },
   "source": [
    "<span style=\"font-size:20px; text-decoration: underline;\">_Rappel :_</span> <br/>\n",
    "<span style=\"margin-left:30px;\"></span>des erreurs sont glissées dans la définition de la procédure ```multiplierpar(x)``` ci-dessous. Le programme doit afficher le résultat de la multiplication de a par 3, mais ça ne fonctionne pas...\n",
    "\n",
    "Corriger le programme pour qu'il affiche le résultat attendu :"
   ]
  },
  {
   "cell_type": "code",
   "execution_count": null,
   "metadata": {},
   "outputs": [],
   "source": [
    "multiplierpar(x)\n",
    "    a = a * x\n",
    "\n",
    "a = int(input('Saisir a : '))\n",
    "multiplierpar(3)\n",
    "print(a)"
   ]
  },
  {
   "cell_type": "markdown",
   "metadata": {
    "deletable": false,
    "editable": false,
    "hide_input": true,
    "nbgrader": {
     "grade": false,
     "grade_id": "cell-ed195f646049f244",
     "locked": true,
     "schema_version": 3,
     "solution": false,
     "task": false
    },
    "run_control": {
     "frozen": true
    }
   },
   "source": [
    "<span style=\"margin-left:30px;font-size:28px;color: #005599;\">VI- Les structures conditionnelles :</span><br>\n",
    "<span style=\"margin-left:60px;font-size:20px;color: #0077cc;\">1- La structure conditionnelle simple :</span><br>\n",
    "\n",
    "<span style=\"font-size:20px; text-decoration: underline;\">_Activité :_</span> <br/>\n",
    "<span style=\"margin-left:30px;\"></span>Ecrire un programme Python qui calcule puis affiche la racine carrée d’un réel donné.\n",
    "\n",
    "<span style=\"font-size:20px; text-decoration: underline;\">_Solution :_</span> <br/>"
   ]
  },
  {
   "cell_type": "code",
   "execution_count": null,
   "metadata": {},
   "outputs": [],
   "source": [
    "from math import sqrt                  # sqrt(x) : fonction permet de calculer la racine carrée de x.\n",
    "x = float(input('Saisir un réel : '))  # Saisie d'un réel\n",
    "..................                     # Calculer la racine carrée. Attention : risque d'erreur !!!\n",
    "print(racine)                          # Afficher la variable racine"
   ]
  },
  {
   "cell_type": "markdown",
   "metadata": {
    "deletable": false,
    "editable": false,
    "nbgrader": {
     "grade": false,
     "grade_id": "cell-29d581190da8f707",
     "locked": true,
     "schema_version": 3,
     "solution": false,
     "task": false
    },
    "run_control": {
     "frozen": true
    }
   },
   "source": [
    "<span style=\"font-size:20px; text-decoration: underline;\">_Remarque :_</span> <br/>\n",
    "<span style=\"margin-left:30px;\"></span>Une structure conditionnelle permet à un programme de modifier l’ordre d’exécution de ses instructions en fonction d’une condition (```x >= 0```). Elle fonctionne comme : \"Si la condition est remplie, alors, exécutez le traitement 1 sinon exécutez le traitement 2\".\n",
    "\n",
    "<img src=\"https://coursenligne.edublogs.org/files/2021/08/procedure.png\">\n",
    "\n",
    "<span style=\"font-size:20px; text-decoration: underline;\">_Syntaxe :_</span> <br>\n",
    "\n",
    "<img src=\"https://coursenligne.edublogs.org/files/2021/08/tab-5.png\">"
   ]
  },
  {
   "cell_type": "code",
   "execution_count": 13,
   "metadata": {
    "deletable": false,
    "editable": false,
    "hide_input": true,
    "init_cell": true
   },
   "outputs": [
    {
     "data": {
      "text/html": [
       " <iframe style=\"border: 1px solid #aaa; width:100%; height:calc(100vw * 0.5625);\" frameborder=\"0\"  \n",
       "                    src=\"https://coursenligne.edublogs.org/files/2021/08/si-simple.mp4\"> </iframe> "
      ],
      "text/plain": [
       "<IPython.core.display.HTML object>"
      ]
     },
     "metadata": {},
     "output_type": "display_data"
    }
   ],
   "source": [
    "display(HTML(\"\"\" <iframe style=\"border: 1px solid #aaa; width:100%; height:calc(100vw * 0.5625);\" frameborder=\"0\"  \n",
    "                    src=\"https://coursenligne.edublogs.org/files/2021/08/si-simple.mp4\"> </iframe> \"\"\"))"
   ]
  },
  {
   "cell_type": "markdown",
   "metadata": {
    "deletable": false,
    "editable": false,
    "nbgrader": {
     "grade": false,
     "grade_id": "cell-00746f9dea6e108a",
     "locked": true,
     "schema_version": 3,
     "solution": false,
     "task": false
    },
    "run_control": {
     "frozen": true
    }
   },
   "source": [
    "<span style=\"font-size:20px; text-decoration: underline;\">_Application 1 :_</span> <br/>\n",
    "<span style=\"margin-left:30px;\"></span>Ecrire l'analyse, l'algorithme et la traduction en Python d'un programme solution de l’activité précédente.\n",
    "\n",
    "<span style=\"font-size:20px; text-decoration: underline;\">_Solution :_</span> <br/>"
   ]
  },
  {
   "cell_type": "code",
   "execution_count": null,
   "metadata": {},
   "outputs": [],
   "source": [
    "..."
   ]
  },
  {
   "cell_type": "markdown",
   "metadata": {
    "deletable": false,
    "editable": false,
    "nbgrader": {
     "grade": false,
     "grade_id": "cell-86225e4df8659ed1",
     "locked": true,
     "schema_version": 3,
     "solution": false,
     "task": false
    },
    "run_control": {
     "frozen": true
    }
   },
   "source": [
    "<span style=\"font-size:20px; text-decoration: underline;\">_Application 2 :_</span> <br/>\n",
    "<span style=\"margin-left:30px;\"></span>Ecrire un programme Python qui vérifie la parité d’un entier donné puis déduire l’algorithme associé..\n",
    "\n",
    "<span style=\"font-size:20px; text-decoration: underline;\">_Solution :_</span> <br/>"
   ]
  },
  {
   "cell_type": "code",
   "execution_count": null,
   "metadata": {},
   "outputs": [],
   "source": [
    "a = ......(input('Saisir un entier : '))  # Saisir un entier\n",
    "if ............ :                         # Tester si la valeur saisie est pair\n",
    "    print(a, ' ............')             # Afficher : a est pair\n",
    "else :                                    # Sinon\n",
    "    print(a, ' ............')             # Afficher : a est impair\n",
    "\n",
    "# déduire l'agorithme."
   ]
  },
  {
   "cell_type": "markdown",
   "metadata": {
    "deletable": false,
    "editable": false,
    "run_control": {
     "frozen": true
    }
   },
   "source": [
    "<span style=\"font-size:20px; text-decoration: underline;\">_Application 3 :_</span> <br/>\n",
    "<span style=\"margin-left:30px;\"></span>La valeur absolue d'un nombre réel ```x```, notée $ \\lvert x \\rvert $, est définie par :\n",
    "- $ \\lvert x \\rvert = x $ si $ x \\geq 0 $\n",
    "- $ \\lvert x \\rvert = -x $ sinon\n",
    "\n",
    "Ecrire la fonction ```valeurAbsolue(x)``` qui retourne la valeur absolue du nombre ```x```."
   ]
  },
  {
   "cell_type": "code",
   "execution_count": null,
   "metadata": {},
   "outputs": [],
   "source": [
    "def valeurAbsolue(x):\n",
    "    ...\n",
    "    \n",
    "print(valeurAbsolue(-7))"
   ]
  },
  {
   "cell_type": "markdown",
   "metadata": {
    "deletable": false,
    "editable": false,
    "run_control": {
     "frozen": true
    }
   },
   "source": [
    "<span style=\"font-size:20px; text-decoration: underline;\">_Application 4 :_</span> <br/>\n",
    "<span style=\"margin-left:30px;\"></span>Ecrire un programme Python qui affiche le maximum de deux entiers\n",
    "saisis au clavier. Ajouter une fonction qui affiche leur minimum."
   ]
  },
  {
   "cell_type": "code",
   "execution_count": null,
   "metadata": {},
   "outputs": [],
   "source": [
    "def ...\n",
    "\n",
    "..."
   ]
  },
  {
   "cell_type": "code",
   "execution_count": 14,
   "metadata": {
    "deletable": false,
    "editable": false,
    "hide_input": true,
    "init_cell": true,
    "nbgrader": {
     "grade": false,
     "grade_id": "cell-2e962c6f8dccdcb5",
     "locked": true,
     "schema_version": 3,
     "solution": false,
     "task": false
    },
    "scrolled": false
   },
   "outputs": [
    {
     "data": {
      "text/html": [
       " <iframe width=\"100%\" height=\"650px\" frameborder=\"0\"\n",
       "                    src=\"https://myquiz3.herokuapp.com/quiz/si-simple\"> </iframe> "
      ],
      "text/plain": [
       "<IPython.core.display.HTML object>"
      ]
     },
     "metadata": {},
     "output_type": "display_data"
    }
   ],
   "source": [
    "display(HTML(\"\"\" <iframe width=\"100%\" height=\"650px\" frameborder=\"0\"\n",
    "                    src=\"https://myquiz3.herokuapp.com/quiz/si-simple\"> </iframe> \"\"\"))"
   ]
  },
  {
   "cell_type": "markdown",
   "metadata": {
    "deletable": false,
    "editable": false,
    "nbgrader": {
     "grade": false,
     "grade_id": "cell-bbedc24a39427921",
     "locked": true,
     "schema_version": 3,
     "solution": false,
     "task": false
    },
    "run_control": {
     "frozen": true
    }
   },
   "source": [
    "<span style=\"font-size:20px; text-decoration: underline;\">_Exercice collaboratif :_</span> <br/>\n",
    "<span style=\"margin-left:30px;\"></span>Ecrire un programme qui permet de saisir la moyenne d’un élève puis d’afficher l’appréciation adéquate :\n",
    "\n",
    "|          |                   |\n",
    "|---------:|:------------------|\n",
    "|Echec     |si 0 <= moy < 10   |\n",
    "|Passable  |si 10 <= moy < 13  |\n",
    "|Bien      |si 13 <= moy < 16  |\n",
    "|Excellent |si 16 <= moy <= 20 |"
   ]
  }
 ],
 "metadata": {
  "celltoolbar": "Initialization Cell",
  "kernelspec": {
   "display_name": "Python 3",
   "language": "python",
   "name": "python3"
  },
  "language_info": {
   "codemirror_mode": {
    "name": "ipython",
    "version": 3
   },
   "file_extension": ".py",
   "mimetype": "text/x-python",
   "name": "python",
   "nbconvert_exporter": "python",
   "pygments_lexer": "ipython3",
   "version": "3.7.3"
  }
 },
 "nbformat": 4,
 "nbformat_minor": 4
}
