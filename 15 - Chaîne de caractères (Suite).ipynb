{
 "cells": [
  {
   "cell_type": "code",
   "execution_count": null,
   "metadata": {
    "deletable": false,
    "editable": false,
    "hide_input": true,
    "init_cell": true,
    "nbgrader": {
     "cell_type": "code",
     "checksum": "0092e91883f098dece1cb596d118f869",
     "grade": false,
     "grade_id": "cell-5629cbc1c7c10614",
     "locked": true,
     "schema_version": 3,
     "solution": false,
     "task": false
    }
   },
   "outputs": [],
   "source": [
    "from IPython.display import HTML, display\n",
    "from IPython.core.magic import register_line_cell_magic\n",
    "import urllib.request\n",
    "\n",
    "@register_line_cell_magic\n",
    "def tutor(line, cell):\n",
    "    code = urllib.parse.urlencode({\"code\": cell})\n",
    "    display(HTML(\"\"\"\n",
    "    <iframe width=\"970\" height=\"500px\" frameborder=\"0\"\n",
    "            src=\"http://pythontutor.com/iframe-embed.html#%s&py=3\">\n",
    "    </iframe>\n",
    "    \"\"\" % code))"
   ]
  },
  {
   "cell_type": "markdown",
   "metadata": {
    "deletable": false,
    "editable": false,
    "run_control": {
     "frozen": true
    }
   },
   "source": [
    "<div style=\"background-color:#fff5f5;border:2px solid #faa;padding:20px 0 10px 0;\"><span style=\"margin-left:30px;font-size:28px;color: #009955;\">Rappel :</span><br>\n",
    "<span style=\"font-size:18px;color: #0077cc;line-height:35px;\">\n",
    "<span style=\"margin-left:100px;\">- Le type booléen.</span><br>\n",
    "<span style=\"margin-left:100px;\">- Le type chaîne de caractères.</span><br>\n",
    "</span>\n",
    "<span style=\"margin-left:30px;font-size:28px;color: #009955;\">Objectifs :</span><br>\n",
    "<span style=\"font-size:18px;color: #0077cc;line-height:35px;\">\n",
    "<span style=\"margin-left:100px;\">- Connaître les différentes manipulations sur les chaînes de caractères.</span><br>\n",
    "<span style=\"margin-left:100px;\">- Appliquer les notiens vues précedement sur les chaînes de caractères.</span><br>\n",
    "</span></div>"
   ]
  },
  {
   "cell_type": "markdown",
   "metadata": {
    "deletable": false,
    "editable": false,
    "nbgrader": {
     "cell_type": "markdown",
     "checksum": "51af4af7e74b62fd8a25d4ca4fd32f42",
     "grade": false,
     "grade_id": "cell-c4b0268b634d740f",
     "locked": true,
     "schema_version": 3,
     "solution": false,
     "task": false
    },
    "run_control": {
     "frozen": true
    }
   },
   "source": [
    "<span style=\"margin-left:30px;font-size:28px;color: #005599;\">VII- Les Types de Données et les Expressions :</span><br>\n",
    "\n",
    "<span style=\"margin-left:60px;font-size:20px;color: #0077cc;\">4- Le type chaîne de caractères :</span><br>\n",
    "\n",
    "_<span style=\"font-size:20px; text-decoration: underline;\">d- Sélection de chaînes :</span>_ <br/>\n",
    "<span style=\"margin-left:30px;\"></span>Nous allons voir, maintenant, comment sélectionner une partie d'une chaîne. <br>\n",
    "Le syntaxe est le suivant : ch[deb : fin : pas]\n",
    "\n",
    "_<span style=\"font-size:20px; text-decoration: underline;\">Activité :</span>_ <br/>\n",
    "<span style=\"margin-left:30px;\"></span>Soit la chaîne de caractère suivante : ch = \"Informatique\"<br>\n",
    "Ecrire un programme Python qui affiche les deux premières lettres puis le reste de la chaîne.\n",
    "\n",
    "_<span style=\"font-size:20px; text-decoration: underline;\">Solution :</span>_ <br/>"
   ]
  },
  {
   "cell_type": "code",
   "execution_count": null,
   "metadata": {},
   "outputs": [],
   "source": [
    "ch = ..................      # Affectation\n",
    "print(ch[:2])                # Sélectionner les deux premiers lettres"
   ]
  },
  {
   "cell_type": "code",
   "execution_count": null,
   "metadata": {},
   "outputs": [],
   "source": [
    "print(ch[...:])              # Sélectionner la chaîne sauf les 2 premières lettres"
   ]
  },
  {
   "cell_type": "markdown",
   "metadata": {
    "deletable": false,
    "editable": false,
    "nbgrader": {
     "cell_type": "markdown",
     "checksum": "b933ac0412ee344a435867382695749c",
     "grade": false,
     "grade_id": "cell-e27fd739f1ec5cf5",
     "locked": true,
     "schema_version": 3,
     "solution": false,
     "task": false
    },
    "run_control": {
     "frozen": true
    }
   },
   "source": [
    "_<span style=\"font-size:20px; text-decoration: underline;\">Remarque :</span>_ <br/>\n",
    "- La sélection consiste à extraire une partie de la chaîne. Cette opération renvoie le morceau de la chaîne sélectionné, sans modifier la chaîne d’origine.\n",
    "\n",
    "_<span style=\"font-size:20px; text-decoration: underline;\">Application :</span>_ <br/>\n",
    "<span style=\"margin-left:30px;\"></span>Soit la chaîne de caractère suivante : ch = \"Informatique\"<br>\n",
    "En utilisant la téchnique de sélection, écrire un programme Python qui :\n",
    "- Affiche toute la chaîne.\n",
    "- Remplace les cinq premières lettres par 'Auto'\n",
    "- Affiche les lettres de la chaîne ch avec un pas de deux\n",
    "- Affiche la chaîne inversée\n",
    "\n",
    "_<span style=\"font-size:20px; text-decoration: underline;\">Solution :</span>_ <br/>"
   ]
  },
  {
   "cell_type": "code",
   "execution_count": null,
   "metadata": {},
   "outputs": [],
   "source": [
    "ch = 'Informatique'     # Affectation\n",
    "print(ch[...])          # Sélectionner toute la chaîne"
   ]
  },
  {
   "cell_type": "code",
   "execution_count": null,
   "metadata": {},
   "outputs": [],
   "source": [
    "ch = 'Auto'+ch[...]      # Remplacer les cinq premières lettres par ‘Auto’\n",
    "print(ch)"
   ]
  },
  {
   "cell_type": "code",
   "execution_count": null,
   "metadata": {},
   "outputs": [],
   "source": [
    "......(ch[::...])          # Sélectionner les lettres de la chaîne avec un pas de deux"
   ]
  },
  {
   "cell_type": "code",
   "execution_count": null,
   "metadata": {},
   "outputs": [],
   "source": [
    "......(ch[::...])         # Inverser la chaine"
   ]
  },
  {
   "cell_type": "markdown",
   "metadata": {
    "deletable": false,
    "editable": false,
    "nbgrader": {
     "cell_type": "markdown",
     "checksum": "2aa7959b891d881129ee97dde018fac8",
     "grade": false,
     "grade_id": "cell-3b550c49859e1728",
     "locked": true,
     "schema_version": 3,
     "solution": false,
     "task": false
    },
    "run_control": {
     "frozen": true
    }
   },
   "source": [
    "_<span style=\"font-size:20px; text-decoration: underline;\">e- Concaténation de chaînes :</span>_ <br/>\n",
    "<span style=\"margin-left:30px;\"></span>La concaténation consiste à assembler plusieurs petites chaînes pour en construire de plus grandes, on la réalise sous Python à l’aide de l’opérateur + (cet opérateur réalise donc l’opération d’addition lorsqu’on l’applique à des nombres, et l’opération de concaténation lorsqu’on l’applique à des chaînes).\n",
    "\n",
    "_<span style=\"font-size:20px; text-decoration: underline;\">Activité :</span>_ <br/>\n",
    "<span style=\"margin-left:30px;\"></span>Soit les deux chaînes de caractères suivantes : a = '2ème ' et b = 'info '\n",
    "Ecrire l’instruction Python qui concatène les deux chaînes a et b dans une chaîne ch.\n",
    "Ecrire une deuxième instruction qui concatène ch avec le chiffre « 2 ».\n"
   ]
  },
  {
   "cell_type": "code",
   "execution_count": null,
   "metadata": {},
   "outputs": [],
   "source": [
    "a = '2ème '\n",
    "b = 'info '\n",
    "ch = ... + ...      # concaténation de a et b\n",
    "print(...)\n",
    "ch = ch  ...  ...   # concaténation de ch et 2 !!!"
   ]
  },
  {
   "cell_type": "markdown",
   "metadata": {
    "deletable": false,
    "editable": false,
    "nbgrader": {
     "cell_type": "markdown",
     "checksum": "c5da1857bbdc0b99e323a61cf80db1b5",
     "grade": false,
     "grade_id": "cell-38c1fa0964705044",
     "locked": true,
     "schema_version": 3,
     "solution": false,
     "task": false
    },
    "run_control": {
     "frozen": true
    }
   },
   "source": [
    "_<span style=\"font-size:20px; text-decoration: underline;\">Remarque :</span>_ <br/>\n",
    "- Erreur d’interprétation : on ne peut pas concaténer une chaîne avec un nombre. La solution est de convertir le chiffre « 2 » en une chaîne avant l’opération de concaténation :\n"
   ]
  },
  {
   "cell_type": "code",
   "execution_count": null,
   "metadata": {},
   "outputs": [],
   "source": [
    "ch = ch + str(...)\n",
    "print(ch)"
   ]
  },
  {
   "cell_type": "markdown",
   "metadata": {
    "deletable": false,
    "editable": false,
    "nbgrader": {
     "cell_type": "markdown",
     "checksum": "8855af89e528df23faab4fd6dbb03624",
     "grade": false,
     "grade_id": "cell-844b1927cc7091bc",
     "locked": true,
     "schema_version": 3,
     "solution": false,
     "task": false
    },
    "run_control": {
     "frozen": true
    }
   },
   "source": [
    "_<span style=\"font-size:20px; text-decoration: underline;\">f- Répétition de chaînes :</span>_ <br/>\n",
    "\n",
    "_<span style=\"font-size:20px; text-decoration: underline;\">Activité :</span>_ <br/>\n",
    "<span style=\"margin-left:30px;\"></span>Ecrire un programme Python qui répète une chaîne trois fois.\n"
   ]
  },
  {
   "cell_type": "code",
   "execution_count": null,
   "metadata": {},
   "outputs": [],
   "source": [
    "ch = 'A!'\n",
    "print(ch ... 3)"
   ]
  },
  {
   "cell_type": "markdown",
   "metadata": {
    "deletable": false,
    "editable": false,
    "run_control": {
     "frozen": true
    }
   },
   "source": [
    "_<span style=\"font-size:20px; text-decoration: underline;\">Remarque :</span>_ <br/>\n",
    "- L’opérateur * permet de répéter la chaîne ch plusieurs fois.\n",
    "- La séquence \\n dans une chaîne provoque un saut à la ligne (n’est valable qu’avec print).\n",
    "- La séquence \\\\' permet d’insérer une apostrophe dans une chaîne délimitée par des apostrophes.\n",
    "- De la même manière, la séquence \\\\\" permet d’insérer des guillemets dans une chaîne délimitée par des guillemets.\n"
   ]
  },
  {
   "cell_type": "code",
   "execution_count": null,
   "metadata": {
    "deletable": false,
    "editable": false,
    "hide_input": true,
    "init_cell": true
   },
   "outputs": [],
   "source": [
    "display(HTML(\"\"\" <iframe style=\"border: 1px solid #aaa; width:100%; height:calc(100vw * 0.5625);\" frameborder=\"0\"  \n",
    "                    src=\"https://kerimbm.edublogs.org/files/2020/10/09-chaine.mp4\"> </iframe> \"\"\"))"
   ]
  },
  {
   "cell_type": "markdown",
   "metadata": {
    "deletable": false,
    "editable": false,
    "nbgrader": {
     "cell_type": "markdown",
     "checksum": "c814a9089389656822c41efa44f4558f",
     "grade": false,
     "grade_id": "cell-1ddd3a23f9a4938b",
     "locked": true,
     "schema_version": 3,
     "solution": false,
     "task": false
    },
    "run_control": {
     "frozen": true
    }
   },
   "source": [
    "_<span style=\"font-size:20px; text-decoration: underline;\">Application :</span>_ <br/>\n",
    "<span style=\"margin-left:30px;\"></span>Écrire un programme Python qui permet de saisir une chaîne de caractère ch contenant un nom et prénom puis de les inverser.<br>\n",
    "Exemple : Ayari Ahmed<br>\n",
    "Le programme affiche : Ahmed Ayari"
   ]
  },
  {
   "cell_type": "code",
   "execution_count": null,
   "metadata": {},
   "outputs": [],
   "source": []
  },
  {
   "cell_type": "markdown",
   "metadata": {
    "deletable": false,
    "editable": false,
    "nbgrader": {
     "cell_type": "markdown",
     "checksum": "ea35660c29e72fdd5c51513dc58ee04e",
     "grade": false,
     "grade_id": "cell-5b439926e2977e67",
     "locked": true,
     "schema_version": 3,
     "solution": false,
     "task": false
    },
    "run_control": {
     "frozen": true
    }
   },
   "source": [
    "_<span style=\"font-size:20px; text-decoration: underline;\">Exercice :</span>_ 19 (Série V)."
   ]
  }
 ],
 "metadata": {
  "kernelspec": {
   "display_name": "Python 3",
   "language": "python",
   "name": "python3"
  },
  "language_info": {
   "codemirror_mode": {
    "name": "ipython",
    "version": 3
   },
   "file_extension": ".py",
   "mimetype": "text/x-python",
   "name": "python",
   "nbconvert_exporter": "python",
   "pygments_lexer": "ipython3",
   "version": "3.7.3"
  }
 },
 "nbformat": 4,
 "nbformat_minor": 4
}
