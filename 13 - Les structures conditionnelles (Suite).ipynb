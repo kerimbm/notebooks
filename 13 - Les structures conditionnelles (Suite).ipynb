{
 "cells": [
  {
   "cell_type": "code",
   "execution_count": 5,
   "metadata": {
    "deletable": false,
    "editable": false,
    "hide_input": true,
    "init_cell": true,
    "nbgrader": {
     "grade": false,
     "grade_id": "cell-0962acf67650c5a6",
     "locked": true,
     "schema_version": 3,
     "solution": false,
     "task": false
    }
   },
   "outputs": [],
   "source": [
    "from IPython.display import HTML, display\n",
    "from IPython.core.magic import register_line_cell_magic\n",
    "import urllib.request\n",
    "\n",
    "@register_line_cell_magic\n",
    "def tutor(line, cell):\n",
    "    code = urllib.parse.urlencode({\"code\": cell})\n",
    "    display(HTML(\"\"\"\n",
    "    <iframe width=\"970\" height=\"500px\" frameborder=\"0\"\n",
    "            src=\"http://pythontutor.com/iframe-embed.html#%s&py=3\">\n",
    "    </iframe>\n",
    "    \"\"\" % code))"
   ]
  },
  {
   "cell_type": "markdown",
   "metadata": {
    "deletable": false,
    "editable": false,
    "run_control": {
     "frozen": true
    }
   },
   "source": [
    "<div style=\"background-color:#fff5f5;border:2px solid #faa;padding:20px 0 10px 0;\">\n",
    "    <div style=\"margin-left:30px;font-size:28px;color: #009955;\">Objectifs :</div>\n",
    "    <div style=\"font-size:18px;color: #0077cc;line-height:35px;margin-left:70px;\">\n",
    "        <ul>\n",
    "<li>Utiliser les structures conditionnelles pour effectuer des choix en fonction des circonstances.</li>\n",
    "<li>Utiliser la structure conditionnelle généralisée pour résoudre un problème.</li>\n",
    "<li>Utiliser la structure conditionnelle à choix multiples pour résoudre un problème.</li>\n",
    "<li>Traduire un algorithme en un programme exécutable.</li>\n",
    "<li>Écrire un programme pour résoudre un problème.</li>\n",
    "        </ul>\n",
    "    </div>\n",
    "</div>"
   ]
  },
  {
   "cell_type": "markdown",
   "metadata": {
    "deletable": false,
    "editable": false,
    "run_control": {
     "frozen": true
    }
   },
   "source": [
    "<span style=\"font-size:20px; text-decoration: underline;\">_Rappel :_</span> <br/>\n",
    "<span style=\"margin-left:30px;\"></span>Demander à l'utilisateur de fournir un caractère et dire s'il s'agit :\n",
    "- D'une lettre minuscule, \n",
    "- D'une lettre majuscule, \n",
    "- D'un chiffre."
   ]
  },
  {
   "cell_type": "code",
   "execution_count": null,
   "metadata": {},
   "outputs": [],
   "source": [
    "def typeCaractere(c):\n",
    "    if ord('a') <= ord(...) <= ... :\n",
    "        print('lettre minuscule')\n",
    "\n",
    "    if ... :\n",
    "        print('lettre majuscule')\n",
    "\n",
    "    ...\n",
    "        print('chiffre')\n",
    "\n",
    "car = input('Saisir un caractère : ')\n",
    "typeCaractere(car)"
   ]
  },
  {
   "cell_type": "markdown",
   "metadata": {
    "deletable": false,
    "editable": false,
    "run_control": {
     "frozen": true
    }
   },
   "source": [
    "<span style=\"margin-left:30px;font-size:28px;color: #005599;\">VI- Les structures conditionnelles :</span><br>\n",
    "<span style=\"margin-left:60px;font-size:20px;color: #0077cc;\">2- La structure conditionnelle généralisée :</span><br>\n",
    "\n",
    "<span style=\"font-size:20px; text-decoration: underline;\">_Activité :_</span> <br/>\n",
    "<span style=\"margin-left:30px;\"></span>Ecrire un programme Python qui permet de fournir un caractère et dire s'il s'agit :\n",
    "- D'une lettre minuscule, \n",
    "- D'une lettre majuscule, \n",
    "- D'un chiffre,\n",
    "- D'un symbole."
   ]
  },
  {
   "cell_type": "code",
   "execution_count": null,
   "metadata": {},
   "outputs": [],
   "source": [
    "..."
   ]
  },
  {
   "cell_type": "markdown",
   "metadata": {
    "deletable": false,
    "editable": false,
    "nbgrader": {
     "grade": false,
     "grade_id": "cell-9e7b587b805fcb85",
     "locked": true,
     "schema_version": 3,
     "solution": false,
     "task": false
    },
    "run_control": {
     "frozen": true
    }
   },
   "source": [
    "<span style=\"font-size:20px; text-decoration: underline;\">_Remarque :_</span> <br/>\n",
    "<span style=\"margin-left:30px;\"></span>La structure conditionnelle généralisée permet d’effectuer autant de tests que l’on souhaite. En effet, chaque ```elif``` possède son propre test ce qui va nous permettre d’apporter des réponses très précises à différentes situations.\n",
    "\n",
    "<img src=\"https://coursenligne.edublogs.org/files/2021/08/si-generalisee.png\"></img>\n",
    "\n",
    "<span style=\"font-size:20px; text-decoration: underline;\">_Syntaxe :_</span> <br/>\n",
    "\n",
    "<img src=\"https://coursenligne.edublogs.org/files/2021/08/tab-6.png\">"
   ]
  },
  {
   "cell_type": "markdown",
   "metadata": {
    "deletable": false,
    "editable": false,
    "nbgrader": {
     "grade": false,
     "grade_id": "cell-f363af1c1c8f276f",
     "locked": true,
     "schema_version": 3,
     "solution": false,
     "task": false
    },
    "run_control": {
     "frozen": true
    }
   },
   "source": [
    "<span style=\"font-size:20px; text-decoration: underline;\">_Application 1 :_</span> <br/>\n",
    "<span style=\"margin-left:30px;\"></span>Ecrire l'analyse, l'algorithme et la traduction en Python d'un programme qui permet de résoudre l'activité précédente en utilisant la structure conditionnelle généralisée."
   ]
  },
  {
   "cell_type": "code",
   "execution_count": null,
   "metadata": {},
   "outputs": [],
   "source": [
    "..."
   ]
  },
  {
   "cell_type": "markdown",
   "metadata": {
    "deletable": false,
    "editable": false,
    "run_control": {
     "frozen": true
    }
   },
   "source": [
    "<span style=\"font-size:20px; text-decoration: underline;\">_Application 2 :_</span> <br/>\n",
    "<span style=\"margin-left:30px;\"></span>En utilisant la structure conditionnelle généralisée, écrire un programme qui permet de saisir la moyenne d’un élève puis d’afficher l’appréciation adéquate :\n",
    "\n",
    "|          |                   |\n",
    "|:---------|:------------------|\n",
    "|Echec     |si 0 <= moy < 10   |\n",
    "|Passable  |si 10 <= moy < 13  |\n",
    "|Bien      |si 13 <= moy < 16  |\n",
    "|Excellent |si 16 <= moy <= 20 |\n",
    "\n",
    "\n",
    "<span style=\"font-size:20px; text-decoration: underline;\">_Solution :_</span> <br/>\n"
   ]
  },
  {
   "cell_type": "code",
   "execution_count": null,
   "metadata": {},
   "outputs": [],
   "source": [
    "moy = ......... (input('Saisir la moyenne : '))  # Saisir la moyenne\n",
    "............... :                                # Tester si la moyenne est inférieure à 10\n",
    "    print('Echec')                               # Afficher : Echec\n",
    "............... :                                # Tester si la moyenne est inférieure à 13\n",
    "    print('Passable')                            # Afficher : Passable\n",
    "............... :                                # Tester si la moyenne est inférieure à 16\n",
    "    print('Bien')                                # Afficher : Bien\n",
    "......... :                                      # Tester si la moyenne est inférieure à 20\n",
    "    print('Excellent')                           # Afficher : Excellent\n",
    "\n",
    "# déduire l'agorithme."
   ]
  },
  {
   "cell_type": "markdown",
   "metadata": {
    "deletable": false,
    "editable": false,
    "run_control": {
     "frozen": true
    }
   },
   "source": [
    "<span style=\"font-size:20px; text-decoration: underline;\">_Application 3 :_</span> <br/>\n",
    "<span style=\"margin-left:30px;\"></span>On considère le programme suivant : \n",
    "```python\n",
    "if x >= 19: \n",
    "    print(\"Bonjour\") \n",
    "elif x >= 16: \n",
    "    print(\"Bonsoir\") \n",
    "else: \n",
    "    print(\"Bonne nuit\") \n",
    "```\n",
    "Quelle valeur de ```x``` permet d'afficher ```\"Bonne nuit\"``` ?\n",
    "- 17\n",
    "- 19\n",
    "- 37\n",
    "- 0"
   ]
  },
  {
   "cell_type": "markdown",
   "metadata": {
    "deletable": false,
    "editable": false,
    "run_control": {
     "frozen": true
    }
   },
   "source": [
    "<span style=\"font-size:20px; text-decoration: underline;\">_Application 4 :_</span> <br/>\n",
    "<span style=\"margin-left:30px;\"></span>Écrire un programme pour trouver le maximum de trois nombres saisie au clavier. Ajouter une fonction qui affiche leur minimum."
   ]
  },
  {
   "cell_type": "code",
   "execution_count": null,
   "metadata": {},
   "outputs": [],
   "source": [
    "def maximum3(x, y, z):\n",
    "    ...\n",
    "\n",
    "\n",
    "..."
   ]
  },
  {
   "cell_type": "markdown",
   "metadata": {
    "deletable": false,
    "editable": false,
    "run_control": {
     "frozen": true
    }
   },
   "source": [
    "<span style=\"font-size:20px; text-decoration: underline;\">_Exercices collaboratif :_</span> <br>\n",
    "<span style=\"margin-left:30px;\"></span>Ecrire un script Python, qui saisit deux réels ```M``` et ```N``` et un opérateur (```+```, ```-```, ```*```, ```/```)\n",
    "puis affiche le résultat de l’opération."
   ]
  },
  {
   "cell_type": "markdown",
   "metadata": {
    "deletable": false,
    "editable": false,
    "run_control": {
     "frozen": true
    }
   },
   "source": [
    "<span style=\"font-size:20px; text-decoration: underline;\">_Exercices :_</span> 9 et 10 (Série II)."
   ]
  },
  {
   "cell_type": "markdown",
   "metadata": {
    "deletable": false,
    "editable": false,
    "run_control": {
     "frozen": true
    }
   },
   "source": [
    "<span style=\"margin-left:60px;font-size:20px;color: #0077cc;\">3- La structure de contrôle à choix multiples :</span><br>\n",
    "\n",
    "<span style=\"margin-left:30px;\"></span>L’instruction « Selon » permet de sélectionner un bloc d’instructions à exécuter en fonction de la valeur d’une expression. C’est une variante de « SI ... SINON SI » mais elle reste moins souple car elle n’accepte que des égalités (Les conditions comme delta > 0 ou delta < 0, doivent être réalisés avec SI ... SINON SI)\n",
    "\n",
    "<img src=\"https://coursenligne.edublogs.org/files/2021/08/selon.png\">\n",
    "\n",
    "<span style=\"font-size:20px; text-decoration: underline;\">_Syntaxe :_</span> <br/>\n",
    "\n",
    "<img src=\"https://coursenligne.edublogs.org/files/2021/08/selon-algo.png\">\n",
    "\n",
    "<span style=\"font-size:20px; text-decoration: underline;\">_Remarque :_</span> <br/>\n",
    "- Si le « sélecteur » ne correspond à aucune des « valeur i », le traitement par défaut « Sinon » est exécuté.\n",
    "- Contrairement à d’autres langages, l'instruction « Selon » n'existe pas en Python, il faut la remplacer par une suite de « SI ... SINON SI ».\n",
    "\n",
    "<span style=\"font-size:20px; text-decoration: underline;\">_Application :_</span> <br/>\n",
    "<span style=\"margin-left:30px;\"></span>Ecrire l’analyse et l’algorithme d’un programme qui accepte un numéro du jour de la semaine (1-7) et affiche le nom du jour correspondant."
   ]
  },
  {
   "cell_type": "code",
   "execution_count": 6,
   "metadata": {
    "deletable": false,
    "editable": false,
    "hide_input": true,
    "init_cell": true,
    "nbgrader": {
     "grade": false,
     "grade_id": "cell-cce3f128b4be1f9a",
     "locked": true,
     "schema_version": 3,
     "solution": false,
     "task": false
    }
   },
   "outputs": [
    {
     "data": {
      "text/html": [
       " <iframe width=\"100%\" height=\"650px\" frameborder=\"0\"\n",
       "                    src=\"https://myquiz3.herokuapp.com/quiz/si-generalisee-selon\"> </iframe> "
      ],
      "text/plain": [
       "<IPython.core.display.HTML object>"
      ]
     },
     "metadata": {},
     "output_type": "display_data"
    }
   ],
   "source": [
    "display(HTML(\"\"\" <iframe width=\"100%\" height=\"650px\" frameborder=\"0\"\n",
    "                    src=\"https://myquiz3.herokuapp.com/quiz/si-generalisee-selon\"> </iframe> \"\"\"))"
   ]
  }
 ],
 "metadata": {
  "celltoolbar": "Initialization Cell",
  "kernelspec": {
   "display_name": "Python 3",
   "language": "python",
   "name": "python3"
  },
  "language_info": {
   "codemirror_mode": {
    "name": "ipython",
    "version": 3
   },
   "file_extension": ".py",
   "mimetype": "text/x-python",
   "name": "python",
   "nbconvert_exporter": "python",
   "pygments_lexer": "ipython3",
   "version": "3.7.3"
  }
 },
 "nbformat": 4,
 "nbformat_minor": 4
}
