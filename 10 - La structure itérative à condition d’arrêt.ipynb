{
 "cells": [
  {
   "cell_type": "code",
   "execution_count": null,
   "metadata": {
    "deletable": false,
    "editable": false,
    "hide_input": true,
    "init_cell": true,
    "nbgrader": {
     "cell_type": "code",
     "checksum": "59c2447459df35ddf9b1e40518a38d93",
     "grade": false,
     "grade_id": "cell-6066f314307f8dc2",
     "locked": true,
     "schema_version": 3,
     "solution": false,
     "task": false
    }
   },
   "outputs": [],
   "source": [
    "from IPython.display import HTML, display\n",
    "from IPython.core.magic import register_line_cell_magic\n",
    "import urllib.request\n",
    "\n",
    "@register_line_cell_magic\n",
    "def tutor(line, cell):\n",
    "    code = urllib.parse.urlencode({\"code\": cell})\n",
    "    display(HTML(\"\"\"\n",
    "    <iframe width=\"970\" height=\"500px\" frameborder=\"0\"\n",
    "            src=\"http://pythontutor.com/iframe-embed.html#%s&py=3\">\n",
    "    </iframe>\n",
    "    \"\"\" % code))"
   ]
  },
  {
   "cell_type": "markdown",
   "metadata": {
    "deletable": false,
    "editable": false,
    "run_control": {
     "frozen": true
    }
   },
   "source": [
    "<div style=\"background-color:#fff5f5;border:2px solid #faa;padding:20px 0 10px 0;\"><span style=\"margin-left:30px;font-size:28px;color: #009955;\">Rappel :</span><br>\n",
    "<span style=\"font-size:18px;color: #0077cc;line-height:35px;\">\n",
    "<span style=\"margin-left:100px;\">- La structure de contrôle itérative complète.</span><br>\n",
    "</span>\n",
    "<span style=\"margin-left:30px;font-size:28px;color: #009955;\">Objectifs :</span><br>\n",
    "<span style=\"font-size:18px;color: #0077cc;line-height:35px;\">\n",
    "<span style=\"margin-left:100px;\">- Utiliser la structure itérative à condition d’arrêt pour résoudre un problème.</span><br>\n",
    "<span style=\"margin-left:100px;\">- Utiliser la structure itérative adéquate pour résoudre un problème.</span><br>\n",
    "<span style=\"margin-left:100px;\">- Consolider les requis appris au cours de la séance en réalisant une application et un exercice.</span><br>\n",
    "</span></div>"
   ]
  },
  {
   "cell_type": "markdown",
   "metadata": {
    "deletable": false,
    "editable": false,
    "nbgrader": {
     "cell_type": "markdown",
     "checksum": "5482d16297d2f8b4976e6f9c52ad9e1d",
     "grade": false,
     "grade_id": "cell-1513b72d7b7772f9",
     "locked": true,
     "schema_version": 3,
     "solution": false,
     "task": false
    },
    "run_control": {
     "frozen": true
    }
   },
   "source": [
    "<span style=\"margin-left:30px;font-size:28px;color: #005599;\">V- Les structures de contrôle itératives :</span><br>\n",
    "\n",
    "<span style=\"margin-left:60px;font-size:20px;color: #0077cc;\">2- La structure itérative à condition d’arrêt :</span><br>\n",
    "\n",
    "_<span style=\"font-size:20px; text-decoration: underline;\">Activité :</span>_ <br/>\n",
    "<span style=\"margin-left:30px;\"></span>Ecrire un programme Python qui calcule la moyenne d’un élève en ajoutant un contrôle de saisie sur les notes de telle façon qu’elles soient dans l’intervalle [0, 20]."
   ]
  },
  {
   "cell_type": "code",
   "execution_count": null,
   "metadata": {},
   "outputs": [],
   "source": [
    ".....................\n",
    "dc1 = float(input('Saisir la note de DC1 : '))\n",
    ".....................\n",
    "dc2 = float(input('Saisir la note de DC2 : '))\n",
    ".....................\n",
    "ds = float(input('Saisir la note de DS : '))\n",
    "moy = (dc1 + dc2 + 2*ds)/4\n",
    "print('La moyenne est : ', moy)"
   ]
  },
  {
   "cell_type": "markdown",
   "metadata": {
    "deletable": false,
    "editable": false,
    "nbgrader": {
     "cell_type": "markdown",
     "checksum": "4701d8fd4a9e240415a49b9ed594ad25",
     "grade": false,
     "grade_id": "cell-db68bc17001f1f7e",
     "locked": true,
     "schema_version": 3,
     "solution": false,
     "task": false
    },
    "run_control": {
     "frozen": true
    }
   },
   "source": [
    "_<span style=\"font-size:20px; text-decoration: underline;\">Définition :</span>_ <br/>\n",
    "<span style=\"margin-left:30px;\"></span>La structure itérative à condition d’arrêt permet de répéter un traitement (ensemble d’instructions) un nombre fini de fois mais inconnu à l’avance.\n",
    "\n",
    "_<span style=\"font-size:20px; text-decoration: underline;\">Syntaxe :</span>_ <br/>\n",
    "\n",
    "<img src=\"https://coursenligne.edublogs.org/files/2020/10/tab-8.png\"></img>\n",
    "\n",
    "_<span style=\"font-size:20px; text-decoration: underline;\">Remarque :</span>_ <br/>\n",
    "- Si on ne connaît pas à l’avance le nombre de répétitions, on choisit la boucle « Tant que ».\n",
    "- Le nombre d’itération dans la structure while (Tant que) doit être fini. En effet, elle s’arrête lorsque la condition est évaluée à faux."
   ]
  },
  {
   "cell_type": "code",
   "execution_count": null,
   "metadata": {
    "deletable": false,
    "editable": false,
    "hide_input": true,
    "init_cell": true
   },
   "outputs": [],
   "source": [
    "display(HTML(\"\"\" <iframe style=\"border: 1px solid #aaa; width:100%; height:calc(100vw * 0.5625);\" frameborder=\"0\"  \n",
    "                    src=\"https://kerimbm.edublogs.org/files/2020/10/06-while.mp4\"> </iframe> \"\"\"))"
   ]
  },
  {
   "cell_type": "markdown",
   "metadata": {
    "deletable": false,
    "editable": false,
    "run_control": {
     "frozen": true
    }
   },
   "source": [
    "_<span style=\"font-size:20px; text-decoration: underline;\">Application :</span>_ <br/>\n",
    "<span style=\"margin-left:30px;\"></span>Refaire l’activité précédente en utilisant la structure « Tant que »."
   ]
  },
  {
   "cell_type": "code",
   "execution_count": null,
   "metadata": {},
   "outputs": [],
   "source": [
    "dc1 = -1\n",
    "while(dc1<0 or dc1>20) :\n",
    "    dc1 = float(input('Saisir la note de DC1 : '))\n",
    "\n",
    "dc2 = ...\n",
    "........................\n",
    "    dc2 = float(input('Saisir la note de DC2 : '))\n",
    "\n",
    ".........\n",
    "......(..................) :\n",
    "    ... = float(input('Saisir la note de DS : '))\n",
    "\n",
    "moy = (dc1 + dc2 + 2*ds)/4\n",
    "print('La moyenne est : ', ...)\n",
    "\n",
    "# déduire l'algorithme !"
   ]
  },
  {
   "cell_type": "markdown",
   "metadata": {
    "deletable": false,
    "editable": false,
    "nbgrader": {
     "cell_type": "markdown",
     "checksum": "c2798c11c8e0916dd6240c1022b5f0ed",
     "grade": false,
     "grade_id": "cell-33b8cb254fbe9000",
     "locked": true,
     "schema_version": 3,
     "solution": false,
     "task": false
    },
    "run_control": {
     "frozen": true
    }
   },
   "source": [
    "_<span style=\"font-size:20px; text-decoration: underline;\">Application :</span>_ <br/>\n",
    "<span style=\"margin-left:30px;\"></span>Ecrire l'analyse, l'algorithme et la traduction en Python d'un programme permettant d’afficher la somme d’une liste de nombres saisis au clavier. La liste se termine par –1 qui ne fera pas partie de la somme."
   ]
  },
  {
   "cell_type": "code",
   "execution_count": null,
   "metadata": {
    "deletable": false,
    "editable": false,
    "hide_input": true,
    "init_cell": true,
    "nbgrader": {
     "cell_type": "code",
     "checksum": "b8c08f5942e44af1cab4a1986d7efb39",
     "grade": false,
     "grade_id": "cell-d28bde23c1896285",
     "locked": true,
     "schema_version": 3,
     "solution": false,
     "task": false
    }
   },
   "outputs": [],
   "source": [
    "display(HTML(\"\"\" <iframe width=\"100%\" height=\"1080\" frameborder=\"0\"\n",
    "                    src=\"https://sofuspy.herokuapp.com/sofuspy/run.html\"> </iframe> \"\"\"))"
   ]
  },
  {
   "cell_type": "code",
   "execution_count": null,
   "metadata": {},
   "outputs": [],
   "source": []
  },
  {
   "cell_type": "markdown",
   "metadata": {
    "deletable": false,
    "editable": false,
    "nbgrader": {
     "cell_type": "markdown",
     "checksum": "8e43c2cee375a2fb6253a607f6652819",
     "grade": false,
     "grade_id": "cell-4600565ab79f3d8a",
     "locked": true,
     "schema_version": 3,
     "solution": false,
     "task": false
    },
    "run_control": {
     "frozen": true
    }
   },
   "source": [
    "_<span style=\"font-size:20px; text-decoration: underline;\">Exercice :</span>_ <br/>\n",
    "<span style=\"margin-left:30px;\"></span>Ecrire un programme Python qui permet de calculer le PGCD de deux entiers entrés au clavier. La méthode de la différence permet de faire ce calcul :\n",
    "\n",
    "PGCD (m, n) = PGCD (m-n, n) si m > n et on pose m = m - n<br>\n",
    "Ou<br>\n",
    "PGCD (m, n) = PGCD (m, n-m) si n > m et on pose n = n – m<br>\n",
    "\n",
    "<span style=\"margin-left:10px;\"><img style=\"display:inline;\" src=\"https://coursenligne.edublogs.org/files/2020/10/remarque.png\"></img> **Le calcul s’arrête quand m devient égal à n**</span>\n",
    "\n",
    "Exemples : <br>\n",
    "PGCD (16,10) = PGCD (6, 10) <br>\n",
    "<span style=\"margin-left:98px;\"></span>= PGCD (6, 4)<br>\n",
    "<span style=\"margin-left:98px;\"></span>= PGCD (2, 4)<br>\n",
    "<span style=\"margin-left:98px;\"></span>= PGCD (2, 2)<br>\n",
    "<span style=\"margin-left:98px;\"></span>=2<br>\n",
    "\n",
    "PGCD (184,184) = 184    aucun calcul ne sera fait.\n",
    "\n",
    "_<span style=\"font-size:20px; text-decoration: underline;\">Solution :</span>_ <br/>\n"
   ]
  },
  {
   "cell_type": "code",
   "execution_count": null,
   "metadata": {},
   "outputs": [],
   "source": [
    "m = n = -1\n",
    "while m < 0 :\n",
    "    m = ...(input('Saisir le 1er entier : '))\n",
    "while ... < 0 :\n",
    "    n = ...(......('Saisir le 2ème entier : '))\n",
    "\n",
    "while m ... n:\n",
    "    if m ... n :\n",
    "        m = m - n\n",
    "    else :\n",
    "        n = ......\n",
    "print(...)\n",
    "\n",
    "# déduire l'algorithme"
   ]
  },
  {
   "cell_type": "code",
   "execution_count": null,
   "metadata": {
    "deletable": false,
    "editable": false,
    "hide_input": true,
    "init_cell": true,
    "nbgrader": {
     "cell_type": "code",
     "checksum": "aff5b91f83833f240c9b6f34ace96bb9",
     "grade": false,
     "grade_id": "cell-49deb1d9f3ebd1ab",
     "locked": true,
     "schema_version": 3,
     "solution": false,
     "task": false
    }
   },
   "outputs": [],
   "source": [
    "display(HTML(\"\"\" <iframe width=\"100%\" height=\"650px\" frameborder=\"0\"\n",
    "                    src=\"https://myquiz2.herokuapp.com/quiz/while\"> </iframe> \"\"\"))"
   ]
  }
 ],
 "metadata": {
  "kernelspec": {
   "display_name": "Python 3",
   "language": "python",
   "name": "python3"
  },
  "language_info": {
   "codemirror_mode": {
    "name": "ipython",
    "version": 3
   },
   "file_extension": ".py",
   "mimetype": "text/x-python",
   "name": "python",
   "nbconvert_exporter": "python",
   "pygments_lexer": "ipython3",
   "version": "3.7.3"
  }
 },
 "nbformat": 4,
 "nbformat_minor": 4
}
