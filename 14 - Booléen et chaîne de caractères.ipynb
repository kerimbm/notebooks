{
 "cells": [
  {
   "cell_type": "code",
   "execution_count": null,
   "metadata": {
    "deletable": false,
    "editable": false,
    "hide_input": true,
    "init_cell": true,
    "nbgrader": {
     "cell_type": "code",
     "checksum": "1f99bdf9bdbf746e826b0db39126d65d",
     "grade": false,
     "grade_id": "cell-97cc0e6b407dd014",
     "locked": true,
     "schema_version": 3,
     "solution": false,
     "task": false
    }
   },
   "outputs": [],
   "source": [
    "from IPython.display import HTML, display\n",
    "from IPython.core.magic import register_line_cell_magic\n",
    "import urllib.request\n",
    "\n",
    "@register_line_cell_magic\n",
    "def tutor(line, cell):\n",
    "    code = urllib.parse.urlencode({\"code\": cell})\n",
    "    display(HTML(\"\"\"\n",
    "    <iframe width=\"970\" height=\"500px\" frameborder=\"0\"\n",
    "            src=\"http://172.16.10.144:8003/iframe-embed.html#%s&py=3\">\n",
    "    </iframe>\n",
    "    \"\"\" % code))"
   ]
  },
  {
   "cell_type": "markdown",
   "metadata": {
    "deletable": false,
    "editable": false,
    "run_control": {
     "frozen": true
    }
   },
   "source": [
    "<div style=\"background-color:#fff5f5;border:2px solid #faa;padding:20px 0 10px 0;\"><span style=\"margin-left:30px;font-size:28px;color: #009955;\">Rappel :</span><br>\n",
    "<span style=\"font-size:18px;color: #0077cc;line-height:35px;\">\n",
    "<span style=\"margin-left:100px;\">- Les opérateurs arithmétique et logique.</span><br>\n",
    "</span>\n",
    "<span style=\"margin-left:30px;font-size:28px;color: #009955;\">Objectifs :</span><br>\n",
    "<span style=\"font-size:18px;color: #0077cc;line-height:35px;\">\n",
    "<span style=\"margin-left:100px;\">- Utiliser efficacement les variables de type booléen.</span><br>\n",
    "<span style=\"margin-left:100px;\">- Connaître les différentes manipulations sur les chaînes de caractères.</span><br>\n",
    "<span style=\"margin-left:100px;\">- Appliquer les notiens vues précedement sur les booléen et les chaînes de caractères.</span><br>\n",
    "</span></div>"
   ]
  },
  {
   "cell_type": "markdown",
   "metadata": {
    "deletable": false,
    "editable": false,
    "nbgrader": {
     "cell_type": "markdown",
     "checksum": "6a6b439b504f8fbcde0efc3537604fe0",
     "grade": false,
     "grade_id": "cell-77d7ad23af941f8e",
     "locked": true,
     "schema_version": 3,
     "solution": false,
     "task": false
    },
    "run_control": {
     "frozen": true
    }
   },
   "source": [
    "<span style=\"margin-left:30px;font-size:28px;color: #005599;\">VII- Les Types de Données et les Expressions :</span><br>\n",
    "\n",
    "<span style=\"margin-left:60px;font-size:20px;color: #0077cc;\">3- Le type booléen :</span><br>\n",
    "\n",
    "<span style=\"margin-left:30px;\"></span>Dans certains cas, il sera nécessaire d’utiliser une variable ne contient que les valeurs logiques (vrai ou faux). On doit utiliser, dans ce cas, le type booléen.\n",
    "\n",
    "_<span style=\"font-size:20px; text-decoration: underline;\">a- Domaine des valeurs de type booléen :</span>_ <br/>\n",
    "<span style=\"margin-left:30px;\"></span>Ce type contient l’un des valeurs logiques : vrai (True en Python) ou faux (False en Python).\n",
    "\n",
    "_<span style=\"font-size:20px; text-decoration: underline;\">b- Les opérateurs logiques sur les booléens :</span>_ <br/>\n",
    "\n",
    "<img src=\"http://172.16.10.144:8011/img/tab-12.png\"></img>\n",
    "\n",
    "_<span style=\"font-size:20px; text-decoration: underline;\">Table de vérité :</span>_ <br/>\n",
    "\n",
    "<img src=\"http://172.16.10.144:8011/img/tab-13.png\"></img>\n",
    "\n",
    "_<span style=\"font-size:20px; text-decoration: underline;\">Remarque :</span>_ <br/>\n",
    "- L’opérateur « not » nécessite un seul opérande, on dit qu’il est unaire par contre tous les autres utilisent deux opérandes, on dit qu’ils sont binaires.\n",
    "\n",
    "_<span style=\"font-size:20px; text-decoration: underline;\">c- Règle de priorité :</span>_ <br/>\n",
    "<span style=\"margin-left:30px;\"></span>Il existe un ordre de priorité entre les opérateurs logiques.\n",
    "\n",
    "<img src=\"http://172.16.10.144:8011/img/tab-14.png\"></img>\n",
    "\n",
    "_<span style=\"font-size:20px; text-decoration: underline;\">Remarque :</span>_ <br/>\n",
    "- Si deux opérateurs ont la même priorité, le calcul de l’expression logique se fera de gauche à droite. \n",
    "- Dans tous les cas, les opérations mises entre parenthèses sont prioritaires. Les parenthèses les plus internes sont les plus prioritaires.\n",
    "\n",
    "_<span style=\"font-size:20px; text-decoration: underline;\">Application :</span>_ <br/>\n",
    "<span style=\"margin-left:30px;\"></span>Evaluer les expressions logiques suivantes, sachant que : A=10 et B= 6\n",
    "- X = (B >= 20) and not (A < 4)\n",
    "- Y = (B < 10) or (not (B = 6) and (A > B))\n",
    "- Z = not (not (int (7.67) = 7) or sqrt (2) > 2)"
   ]
  },
  {
   "cell_type": "markdown",
   "metadata": {
    "deletable": false,
    "editable": false,
    "nbgrader": {
     "cell_type": "markdown",
     "checksum": "aeab2bd9fa9ed129fd838ac1c8b5c78f",
     "grade": false,
     "grade_id": "cell-00cb7fc9b470074a",
     "locked": true,
     "schema_version": 3,
     "solution": false,
     "task": false
    },
    "run_control": {
     "frozen": true
    }
   },
   "source": [
    "_<span style=\"font-size:20px; text-decoration: underline;\">Exercice :</span>_ 2 (Série V)."
   ]
  },
  {
   "cell_type": "markdown",
   "metadata": {
    "deletable": false,
    "editable": false,
    "nbgrader": {
     "cell_type": "markdown",
     "checksum": "6e1ae3ad9f5dcee83e9c2f395df4b745",
     "grade": false,
     "grade_id": "cell-f3613cfdeae05a02",
     "locked": true,
     "schema_version": 3,
     "solution": false,
     "task": false
    },
    "run_control": {
     "frozen": true
    }
   },
   "source": [
    "<span style=\"margin-left:60px;font-size:20px;color: #0077cc;\">4- Le type chaîne de caractères :</span><br>\n",
    "\n",
    "_<span style=\"font-size:20px; text-decoration: underline;\">a- Définition :</span>_ <br/>\n",
    "<span style=\"margin-left:30px;\"></span>Une chaîne de caractère est une entité composée d’une suite de n caractères. Si n=0, on dit que la chaîne est vide.\n",
    "\n",
    "_<span style=\"font-size:20px; text-decoration: underline;\">Remarque :</span>_ <br/>\n",
    "- Un caractère est représenté par le caractère lui-même. On distingue plusieurs types de caractères :<br>\n",
    "<span style=\"margin-left:30px;\"></span>- Les lettres alphabétiques en minuscules [\"a\"..\"z\"] et en majuscule [\"A\"..\"Z\"]<br>\n",
    "<span style=\"margin-left:30px;\"></span>- Les chiffres [\"0\".. \"9\"]<br>\n",
    "<span style=\"margin-left:30px;\"></span>- Les symboles : \"!\", \">\", \"#\", \")\" ,…<br>\n",
    "<span style=\"margin-left:30px;\"></span>- Les caractères non imprimables comme l’espace, le retour chariot (Entrée)…\n",
    "- Tous ces caractères sont ordonnés selon leurs codes ASCII qui varient de 0 à 255. Exemple :<br>\n",
    "<span style=\"margin-left:30px;\"></span>- Code ascii de \"A\" = 65<br>\n",
    "<span style=\"margin-left:30px;\"></span>- Code ascii de \"a\" = 97<br>\n",
    "<span style=\"margin-left:30px;\"></span>- Code ascii de \"0\" = 48\n",
    "- Puisque les caractères sont ordonnés selon leurs codes ASCII, on peut donc, les comparer :\n",
    "Exemple :<br>\n",
    "<span style=\"margin-left:30px;\"></span>- \"A\" < \"B\" puisque 65 < 66 ;<br>\n",
    "<span style=\"margin-left:30px;\"></span>- \"E\" > \"D\" puisque 69 > 68.\n",
    "- L’espace est un caractère blanc : \"  \"\n",
    "- On pourra accéder en lecture au ième caractère d’une chaîne CH en utilisant la notation CH[i] où 0≤ i ≤ len (CH) -1 avec len (CH) désigne la longueur de la chaîne CH.\n",
    "- En Python, les chaînes de caractères sont définies entre guillemets (\" \") ou apostrophes (‘ ’).\n",
    "\n",
    "_<span style=\"font-size:20px; text-decoration: underline;\">b- Parcours de chaînes par indice :</span>_ <br/>\n",
    "<span style=\"margin-left:30px;\"></span>On précise entre crochets [ ] l’indice (la position) du caractère auquel on souhaite accéder.\n",
    "\n",
    "_<span style=\"font-size:20px; text-decoration: underline;\">Activité :</span>_ <br/>\n",
    "<span style=\"margin-left:30px;\"></span>Soit la chaîne de caractère suivante : ch = \"abcde\"\n",
    "-\tEcrire un programme Python qui affiche le $1^{er}$, le $3^{ème}$ et le dernier caractère de la chaîne ch.\n",
    "-\tEssayer de remplacer le $1^{er}$ caractère par la lettre \"z\""
   ]
  },
  {
   "cell_type": "code",
   "execution_count": null,
   "metadata": {},
   "outputs": [],
   "source": [
    "ch = 'abcde'\n",
    "print(ch[0])      # Première lettre de la chaîne ch"
   ]
  },
  {
   "cell_type": "code",
   "execution_count": null,
   "metadata": {},
   "outputs": [],
   "source": [
    "print(ch[...])    # Troisième lettre de la chaîne ch"
   ]
  },
  {
   "cell_type": "code",
   "execution_count": null,
   "metadata": {},
   "outputs": [],
   "source": [
    "print(ch[...])    # Dernière lettre de la chaîne ch"
   ]
  },
  {
   "cell_type": "code",
   "execution_count": null,
   "metadata": {},
   "outputs": [],
   "source": [
    "...............   # Remplacer le 1er caractère de ch par la lettre \"z\" !!!"
   ]
  },
  {
   "cell_type": "markdown",
   "metadata": {
    "deletable": false,
    "editable": false,
    "nbgrader": {
     "cell_type": "markdown",
     "checksum": "1410c632a58a87f2b2f0b670d2476d13",
     "grade": false,
     "grade_id": "cell-dd77d526b8dc3889",
     "locked": true,
     "schema_version": 3,
     "solution": false,
     "task": false
    },
    "run_control": {
     "frozen": true
    }
   },
   "source": [
    "_<span style=\"font-size:20px; text-decoration: underline;\">Remarque :</span>_ <br/>\n",
    "- Les chaînes de caractères ne peuvent pas être modifiées après leur création. On les appelle objets immuables.\n",
    "\n",
    "_<span style=\"font-size:20px; text-decoration: underline;\">c- Parcours de chaînes par « for » :</span>_ <br/>\n",
    "\n",
    "_<span style=\"font-size:20px; text-decoration: underline;\">Activité :</span>_ <br/>\n",
    "<span style=\"margin-left:30px;\"></span>Soit la chaîne de caractère suivante : ch = \"Ma chaîne !\" <br>\n",
    "En utilisant une structure itérative, écrire un programme Python qui affiche chaque caractère de la chaîne ch dans une ligne.\n",
    "\n",
    "_<span style=\"font-size:20px; text-decoration: underline;\">Solution :</span>_ <br/>"
   ]
  },
  {
   "cell_type": "code",
   "execution_count": null,
   "metadata": {},
   "outputs": [],
   "source": [
    "ch = ...............\n",
    "for car in ... :\n",
    "    print(...)"
   ]
  },
  {
   "cell_type": "code",
   "execution_count": null,
   "metadata": {
    "deletable": false,
    "editable": false,
    "hide_input": true,
    "init_cell": true
   },
   "outputs": [],
   "source": [
    "display(HTML(\"\"\" <iframe width=\"100%\" height=\"650px\" frameborder=\"0\"\n",
    "                    src=\"http://172.16.10.144:8030/quiz/booleen-chaine\"> </iframe> \"\"\"))"
   ]
  },
  {
   "cell_type": "markdown",
   "metadata": {
    "deletable": false,
    "editable": false,
    "nbgrader": {
     "cell_type": "markdown",
     "checksum": "f9d275ff96e5b3228893eb3467975ef8",
     "grade": false,
     "grade_id": "cell-2d0c66130be72eb2",
     "locked": true,
     "schema_version": 3,
     "solution": false,
     "task": false
    },
    "run_control": {
     "frozen": true
    }
   },
   "source": [
    "_<span style=\"font-size:20px; text-decoration: underline;\">Exercices :</span>_ 12 et 13 (Série V)."
   ]
  }
 ],
 "metadata": {
  "kernelspec": {
   "display_name": "Python 3",
   "language": "python",
   "name": "python3"
  },
  "language_info": {
   "codemirror_mode": {
    "name": "ipython",
    "version": 3
   },
   "file_extension": ".py",
   "mimetype": "text/x-python",
   "name": "python",
   "nbconvert_exporter": "python",
   "pygments_lexer": "ipython3",
   "version": "3.7.3"
  }
 },
 "nbformat": 4,
 "nbformat_minor": 4
}
