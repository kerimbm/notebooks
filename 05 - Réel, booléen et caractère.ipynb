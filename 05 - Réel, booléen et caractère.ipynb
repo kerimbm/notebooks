{
 "cells": [
  {
   "cell_type": "code",
   "execution_count": null,
   "metadata": {
    "deletable": false,
    "editable": false,
    "hide_input": true,
    "init_cell": true
   },
   "outputs": [],
   "source": [
    "from IPython.display import HTML, display\n",
    "from IPython.core.magic import register_line_cell_magic\n",
    "import urllib.request\n",
    "\n",
    "@register_line_cell_magic\n",
    "def tutor(line, cell):\n",
    "    code = urllib.parse.urlencode({\"code\": cell})\n",
    "    display(HTML(\"\"\"\n",
    "    <iframe width=\"970\" height=\"500px\" frameborder=\"0\"\n",
    "            src=\"http://pythontutor.com/iframe-embed.html#%s&py=3\">\n",
    "    </iframe>\n",
    "    \"\"\" % code))"
   ]
  },
  {
   "cell_type": "markdown",
   "metadata": {
    "deletable": false,
    "editable": false,
    "run_control": {
     "frozen": true
    }
   },
   "source": [
    "<div style=\"background-color:#fff5f5;border:2px solid #faa;padding:20px 0 10px 0;\">\n",
    "    <div style=\"margin-left:30px;font-size:28px;color: #009955;\">Objectifs :</div>\n",
    "    <div style=\"font-size:18px;color: #0077cc;line-height:35px;margin-left:70px;\">\n",
    "        <ul>\n",
    "<li>Distinguer les usages et les particularités de chaque type de données, afin d’utiliser le plus adapté pour déclarer un objet nécessaire dans la résolution d’un problème donné.</li>\n",
    "<li>Utiliser les opérateurs arithmétique et logique sur les réel.</li>\n",
    "<li>Utiliser efficacement les variables de type booléen.</li>\n",
    "<li>Manipuler des variables de type caractère.</li>\n",
    "        </ul>\n",
    "    </div>\n",
    "</div>"
   ]
  },
  {
   "cell_type": "markdown",
   "metadata": {
    "deletable": false,
    "editable": false,
    "run_control": {
     "frozen": true
    }
   },
   "source": [
    "<span style=\"font-size:20px; text-decoration: underline;\">_Rappel :_</span> <br/>\n"
   ]
  },
  {
   "cell_type": "code",
   "execution_count": null,
   "metadata": {
    "deletable": false,
    "editable": false,
    "hide_input": true,
    "init_cell": true
   },
   "outputs": [],
   "source": [
    "display(HTML(\"\"\" <iframe width=\"100%\" height=\"650px\" frameborder=\"0\"\n",
    "                    src=\"https://myquiz3.herokuapp.com/quiz/entier\"> </iframe> \"\"\"))"
   ]
  },
  {
   "cell_type": "markdown",
   "metadata": {
    "deletable": false,
    "editable": false,
    "nbgrader": {
     "cell_type": "markdown",
     "checksum": "589ec1033df1e6efa7d6601df9755470",
     "grade": false,
     "grade_id": "cell-8038ed1f4e9ca2e2",
     "locked": true,
     "schema_version": 3,
     "solution": false,
     "task": false
    },
    "run_control": {
     "frozen": true
    }
   },
   "source": [
    "<span style=\"margin-left:30px;font-size:28px;color: #005599;\">IV- Les Types de Données et les Expressions :</span><br>\n",
    "<span style=\"margin-left:60px;font-size:20px;color: #0077cc;\">2- Les nombres à virgule flottante :</span><br>\n",
    "\n",
    "<span style=\"font-size:20px; text-decoration: underline;\">_a- Domaine des valeurs :_</span> <br/>\n",
    "<span style=\"margin-left:30px;\"></span>Les nombres à virgule flottante utilisés pour représenter des réels sont tous à double précision, soit des nombres codés sur 8 octets (64 bits).\n",
    "\n",
    "<span style=\"font-size:20px; text-decoration: underline;\">_b- Les opérateurs arithmétiques sur les nombres à virgule flottante :</span>_ <br>\n",
    "<span style=\"margin-left:30px;\"></span>Les opérateurs arithmétiques sont :+ , - , * , / (division réelle) et ** (puissance)\n",
    "\n",
    "<span style=\"font-size:20px; text-decoration: underline;\">_c- Les opérateurs relationnels sur les nombres à virgule flottante :_</span> <br/>\n",
    "\n",
    "<img src=\"https://coursenligne.edublogs.org/files/2020/10/tab-11.png\"></img>\n",
    "\n",
    "<span style=\"font-size:20px; text-decoration: underline;\">_Application 1 :_</span> <br/>\n",
    "<span style=\"margin-left:30px;\"></span>Traduire en Python les affectations suivantes :\n",
    "- $A = 8X^2 + 3X – 10$\n",
    "- $B = - (b+ \\sqrt{dlt}) / (2a)$"
   ]
  },
  {
   "cell_type": "code",
   "execution_count": null,
   "metadata": {},
   "outputs": [],
   "source": [
    "A = ...\n",
    "print(A)"
   ]
  },
  {
   "cell_type": "code",
   "execution_count": null,
   "metadata": {},
   "outputs": [],
   "source": [
    "B = ...\n",
    "......"
   ]
  },
  {
   "cell_type": "markdown",
   "metadata": {
    "deletable": false,
    "editable": false,
    "run_control": {
     "frozen": true
    }
   },
   "source": [
    "<span style=\"font-size:20px; text-decoration: underline;\">_Application 2 :_</span> <br/>\n",
    "<span style=\"margin-left:30px;\"></span>Modifier le code Python suivant afin qu'il affiche le résultat correct de l'opération : $ {2} + \\frac{32}{21*51} $"
   ]
  },
  {
   "cell_type": "code",
   "execution_count": null,
   "metadata": {},
   "outputs": [],
   "source": [
    "print(2 + 32 / 21 * 51)"
   ]
  },
  {
   "cell_type": "markdown",
   "metadata": {
    "deletable": false,
    "editable": false,
    "nbgrader": {
     "cell_type": "markdown",
     "checksum": "caaa72ce30cc1f2acfb8a9af939c8290",
     "grade": false,
     "grade_id": "cell-24e1a4778234aef4",
     "locked": true,
     "schema_version": 3,
     "solution": false,
     "task": false
    },
    "run_control": {
     "frozen": true
    }
   },
   "source": [
    "<span style=\"font-size:20px; text-decoration: underline;\">_Exercice collaboratif :_</span> <br/>\n",
    "<span style=\"margin-left:30px;\"></span>Ecrire un programme Python qui calcule la distance ```D``` entre deux points A et B de coordonnées respectives $(x_1, y_1)$ et $(x_2, y_2)$ sachant que la distance entre deux points est :\n",
    "\n",
    "$D = \\sqrt{(x_2 - x_1)^2 + (y_2 - y_1)^2}$\n",
    "\n",
    "Essayer d’apporter des améliorations à votre programme (A l’aide de la bibliothèque turtle, dessiner deux points $A(x_1, y_1)$ et $B(x_2, y_2)$ et un trait entre ces deux points de longueur ```D```)."
   ]
  },
  {
   "cell_type": "markdown",
   "metadata": {
    "deletable": false,
    "editable": false,
    "run_control": {
     "frozen": true
    }
   },
   "source": [
    "<span style=\"margin-left:60px;font-size:20px;color: #0077cc;\">3- Le type booléen :</span><br>\n",
    "\n",
    "<span style=\"font-size:20px; text-decoration: underline;\">_a- Activité :_</span><br/>\n",
    "\n",
    "<span style=\"margin-left:30px;\"></span>Exécuter les cellules suivantes, puis déduire les valeurs possibles des résultats :"
   ]
  },
  {
   "cell_type": "code",
   "execution_count": null,
   "metadata": {},
   "outputs": [],
   "source": [
    "7 > 4"
   ]
  },
  {
   "cell_type": "code",
   "execution_count": null,
   "metadata": {},
   "outputs": [],
   "source": [
    "7 < 4"
   ]
  },
  {
   "cell_type": "code",
   "execution_count": null,
   "metadata": {},
   "outputs": [],
   "source": [
    "12 >= 12"
   ]
  },
  {
   "cell_type": "code",
   "execution_count": null,
   "metadata": {},
   "outputs": [],
   "source": [
    "12 <= 12"
   ]
  },
  {
   "cell_type": "code",
   "execution_count": null,
   "metadata": {},
   "outputs": [],
   "source": [
    "3 + 2 == 5"
   ]
  },
  {
   "cell_type": "code",
   "execution_count": null,
   "metadata": {},
   "outputs": [],
   "source": [
    "3 + 2 != 5"
   ]
  },
  {
   "cell_type": "markdown",
   "metadata": {
    "deletable": false,
    "editable": false,
    "run_control": {
     "frozen": true
    }
   },
   "source": [
    "<span style=\"font-size:20px; text-decoration: underline;\">_b- Définition :_</span><br/>\n",
    "<span style=\"margin-left:30px;\"></span>Une variable booléenne est une variable qui ne peut prendre que deux valeurs : Vrai ou Faux.\n",
    "\n",
    "<span style=\"font-size:20px; text-decoration: underline;\">_Exemple :_</span><br/>"
   ]
  },
  {
   "cell_type": "code",
   "execution_count": null,
   "metadata": {
    "init_cell": true
   },
   "outputs": [],
   "source": [
    "age = 15\n",
    "eleve = age <= 19"
   ]
  },
  {
   "cell_type": "code",
   "execution_count": null,
   "metadata": {},
   "outputs": [],
   "source": [
    "# Afficher la valeur de la variable \"eleve\"\n",
    "eleve"
   ]
  },
  {
   "cell_type": "code",
   "execution_count": null,
   "metadata": {},
   "outputs": [],
   "source": [
    "age = 15\n",
    "etudiant = ... > 19"
   ]
  },
  {
   "cell_type": "code",
   "execution_count": null,
   "metadata": {},
   "outputs": [],
   "source": [
    "# Afficher la valeur de la variable \"etudiant\"\n",
    "..."
   ]
  },
  {
   "cell_type": "markdown",
   "metadata": {
    "deletable": false,
    "editable": false,
    "run_control": {
     "frozen": true
    }
   },
   "source": [
    "<span style=\"font-size:20px; text-decoration: underline;\">_c- Domaine des valeurs de type booléen :_</span> <br/>\n",
    "<span style=\"margin-left:30px;\"></span>Ce type contient l’un des valeurs logiques : vrai (```True``` en Python) ou faux (```False``` en Python).\n",
    "\n",
    "<span style=\"font-size:20px; text-decoration: underline;\">_d- Les opérateurs logiques sur les booléens :_</span> <br/>\n",
    "\n",
    "<img src=\"https://coursenligne.edublogs.org/files/2021/08/tab-12.png\"></img>\n",
    "\n",
    "<span style=\"font-size:20px; text-decoration: underline;\">_Exemple :_</span><br/>"
   ]
  },
  {
   "cell_type": "code",
   "execution_count": null,
   "metadata": {
    "init_cell": true
   },
   "outputs": [],
   "source": [
    "A = True\n",
    "B = False"
   ]
  },
  {
   "cell_type": "markdown",
   "metadata": {
    "deletable": false,
    "editable": false,
    "run_control": {
     "frozen": true
    }
   },
   "source": [
    "<span style=\"font-size:20px; text-decoration: underline;\">_Application 1 :_</span> <br/>\n",
    "<span style=\"margin-left:30px;\"></span>Traduire en Python puis exécuter les expressions suivantes :\n",
    "\n",
    "- Non A"
   ]
  },
  {
   "cell_type": "code",
   "execution_count": null,
   "metadata": {},
   "outputs": [],
   "source": [
    "..."
   ]
  },
  {
   "cell_type": "markdown",
   "metadata": {
    "deletable": false,
    "editable": false,
    "run_control": {
     "frozen": true
    }
   },
   "source": [
    "- A et B"
   ]
  },
  {
   "cell_type": "code",
   "execution_count": null,
   "metadata": {},
   "outputs": [],
   "source": [
    "..."
   ]
  },
  {
   "cell_type": "markdown",
   "metadata": {
    "deletable": false,
    "editable": false,
    "run_control": {
     "frozen": true
    }
   },
   "source": [
    "- A ou B"
   ]
  },
  {
   "cell_type": "code",
   "execution_count": null,
   "metadata": {},
   "outputs": [],
   "source": [
    "..."
   ]
  },
  {
   "cell_type": "markdown",
   "metadata": {
    "deletable": false,
    "editable": false,
    "nbgrader": {
     "cell_type": "markdown",
     "checksum": "79e8f38ec8d2e598cf6e0ac28334518c",
     "grade": false,
     "grade_id": "cell-77d7ad23af941f8e",
     "locked": true,
     "schema_version": 3,
     "solution": false,
     "task": false
    },
    "run_control": {
     "frozen": true
    }
   },
   "source": [
    "<span style=\"font-size:20px; text-decoration: underline;\">_Table de vérité :_</span> <br/>\n",
    "\n",
    "<img src=\"https://coursenligne.edublogs.org/files/2021/08/tab-13.png\"></img>\n",
    "\n",
    "<span style=\"font-size:20px; text-decoration: underline;\">_e- Règle de priorité :_</span> <br/>\n",
    "<span style=\"margin-left:30px;\"></span>Il existe un ordre de priorité entre les opérateurs logiques.\n",
    "\n",
    "<img src=\"https://coursenligne.edublogs.org/files/2021/08/tab-14.png\"></img>\n",
    "\n",
    "<span style=\"font-size:20px; text-decoration: underline;\">_Remarque :_</span> <br/>\n",
    "- Si deux opérateurs ont la même priorité, le calcul de l’expression logique se fera de gauche à droite. \n",
    "- Dans tous les cas, les opérations mises entre parenthèses sont prioritaires. Les parenthèses les plus internes sont les plus prioritaires.\n",
    "\n",
    "<span style=\"font-size:20px; text-decoration: underline;\">_Application 2 :_</span> <br/>\n",
    "<span style=\"margin-left:30px;\"></span>Parmi les conditions suivantes, une seule est vraie. Laquelle ?\n",
    "```\n",
    "A = 39 < 21\n",
    "B = 26 > 69\n",
    "C = 216 <= 142\n",
    "D = 30 > 21\n",
    "```\n",
    "Même question :\n",
    "```\n",
    "A = 11 < 63 and 39 >= 45\n",
    "B = 269 >= 149 and 39 >= 45\n",
    "C = not 39 <= 45 or 26 > 69\n",
    "D = 269 >= 149 or 39 >= 45\n",
    "```"
   ]
  },
  {
   "cell_type": "markdown",
   "metadata": {
    "deletable": false,
    "editable": false,
    "run_control": {
     "frozen": true
    }
   },
   "source": [
    "<span style=\"font-size:20px; text-decoration: underline;\">_Application 3 :_</span> <br/>\n",
    "1. Ecrire l'instruction Python qui permet de saisir un nombre ```N``` :"
   ]
  },
  {
   "cell_type": "code",
   "execution_count": null,
   "metadata": {},
   "outputs": [],
   "source": [
    "...                       # int(input())"
   ]
  },
  {
   "cell_type": "markdown",
   "metadata": {
    "deletable": false,
    "editable": false,
    "run_control": {
     "frozen": true
    }
   },
   "source": [
    "2. Vérifier s'il est positif :"
   ]
  },
  {
   "cell_type": "code",
   "execution_count": null,
   "metadata": {},
   "outputs": [],
   "source": [
    "...                       # N >= 0"
   ]
  },
  {
   "cell_type": "markdown",
   "metadata": {
    "deletable": false,
    "editable": false,
    "run_control": {
     "frozen": true
    }
   },
   "source": [
    "3. Ecrire l'instruction Python qui permet de saisir un deuxième nombre ```M``` :"
   ]
  },
  {
   "cell_type": "code",
   "execution_count": null,
   "metadata": {},
   "outputs": [],
   "source": [
    "..."
   ]
  },
  {
   "cell_type": "markdown",
   "metadata": {
    "deletable": false,
    "editable": false,
    "run_control": {
     "frozen": true
    }
   },
   "source": [
    "4. Vérifier que son carré est inférieur à 10 :"
   ]
  },
  {
   "cell_type": "code",
   "execution_count": null,
   "metadata": {},
   "outputs": [],
   "source": [
    "..."
   ]
  },
  {
   "cell_type": "markdown",
   "metadata": {
    "deletable": false,
    "editable": false,
    "hide_input": true,
    "run_control": {
     "frozen": true
    }
   },
   "source": [
    "<span style=\"font-size:20px; text-decoration: underline;\">_Application 4 :_</span> <br/>\n",
    "<span style=\"margin-left:30px;\"></span>Evaluer les expressions logiques suivantes, sachant que : ```A = 10``` et ```B = 6```, puis vérifier vos résultats en Python.\n",
    "- ```X = (B >= 20) and not (A < 4)```\n",
    "- ```Y = (B < 10) or (not (B == 6) and (A > B))```\n",
    "- ```Z = not (not (int (7.67) == 7) or sqrt(2) > 2)```"
   ]
  },
  {
   "cell_type": "code",
   "execution_count": null,
   "metadata": {
    "init_cell": true
   },
   "outputs": [],
   "source": [
    "A = 10\n",
    "B = 6"
   ]
  },
  {
   "cell_type": "code",
   "execution_count": null,
   "metadata": {},
   "outputs": [],
   "source": [
    "X = ...\n",
    "print(X)"
   ]
  },
  {
   "cell_type": "code",
   "execution_count": null,
   "metadata": {},
   "outputs": [],
   "source": [
    "Y = ...\n",
    "......"
   ]
  },
  {
   "cell_type": "code",
   "execution_count": null,
   "metadata": {},
   "outputs": [],
   "source": [
    "Z = ...\n",
    "......"
   ]
  },
  {
   "cell_type": "markdown",
   "metadata": {
    "deletable": false,
    "editable": false,
    "run_control": {
     "frozen": true
    }
   },
   "source": [
    "<span style=\"margin-left:60px;font-size:20px;color: #0077cc;\">4- Le type caractère :</span><br>\n",
    "\n",
    "<span style=\"font-size:20px; text-decoration: underline;\">_Définition :_</span> <br/>\n",
    "<span style=\"margin-left:30px;\"></span>Un caractère est représenté par le caractère lui-même placé entre guillemets.\n",
    "\n",
    "<span style=\"font-size:20px; text-decoration: underline;\">_Remarque :_</span> <br/>\n",
    "- On distingue plusieurs types de caractères :<br>\n",
    "<span style=\"margin-left:30px;\"></span>- Les lettres alphabétiques en minuscules (de ```\"a\"``` à ```\"z\"```) et en majuscule (de ```\"A\"``` à ```\"Z\"```)<br>\n",
    "<span style=\"margin-left:30px;\"></span>- Les chiffres (de ```\"0\"``` à ```\"9\"```)<br>\n",
    "<span style=\"margin-left:30px;\"></span>- Les symboles : ```\"!\", \">\", \"#\", \")\" ,...```<br>\n",
    "<span style=\"margin-left:30px;\"></span>- Les caractères non imprimables comme l’espace, le retour chariot (Entrée)…\n",
    "- Tous ces caractères sont ordonnés selon leurs codes ASCII qui varient de ```0``` à ```255```.\n",
    "\n",
    "<span style=\"font-size:20px; text-decoration: underline;\">_Exemple :_</span> <br/>"
   ]
  },
  {
   "cell_type": "code",
   "execution_count": null,
   "metadata": {},
   "outputs": [],
   "source": [
    "ord('A')"
   ]
  },
  {
   "cell_type": "code",
   "execution_count": null,
   "metadata": {},
   "outputs": [],
   "source": [
    "...('a')"
   ]
  },
  {
   "cell_type": "code",
   "execution_count": null,
   "metadata": {},
   "outputs": [],
   "source": [
    "...('0')"
   ]
  },
  {
   "cell_type": "markdown",
   "metadata": {
    "deletable": false,
    "editable": false,
    "run_control": {
     "frozen": true
    }
   },
   "source": [
    "- Puisque les caractères sont ordonnés selon leurs codes ASCII, on peut alors, les comparer :\n",
    "\n",
    "<span style=\"font-size:20px; text-decoration: underline;\">_Exemple :_</span> <br/>\n"
   ]
  },
  {
   "cell_type": "code",
   "execution_count": null,
   "metadata": {},
   "outputs": [],
   "source": [
    "'A' < 'B'"
   ]
  },
  {
   "cell_type": "code",
   "execution_count": null,
   "metadata": {},
   "outputs": [],
   "source": [
    "'C' > 'B'"
   ]
  },
  {
   "cell_type": "markdown",
   "metadata": {
    "deletable": false,
    "editable": false,
    "run_control": {
     "frozen": true
    }
   },
   "source": [
    "- L’espace est un caractère blanc : ```\" \"```\n",
    "- En Python, les caractères sont définies entre guillemets (```\" \"```) ou apostrophes (```' '```)."
   ]
  },
  {
   "cell_type": "code",
   "execution_count": null,
   "metadata": {
    "deletable": false,
    "editable": false,
    "hide_input": true,
    "init_cell": true
   },
   "outputs": [],
   "source": [
    "display(HTML(\"\"\" <iframe width=\"100%\" height=\"650px\" frameborder=\"0\"\n",
    "                    src=\"https://myquiz3.herokuapp.com/quiz/reel-booleen-caractere\"> </iframe> \"\"\"))"
   ]
  },
  {
   "cell_type": "markdown",
   "metadata": {
    "deletable": false,
    "editable": false,
    "nbgrader": {
     "cell_type": "markdown",
     "checksum": "bde6656d1a6ca7e29ed529808bd061b0",
     "grade": false,
     "grade_id": "cell-00cb7fc9b470074a",
     "locked": true,
     "schema_version": 3,
     "solution": false,
     "task": false
    },
    "run_control": {
     "frozen": true
    }
   },
   "source": [
    "<span style=\"font-size:20px; text-decoration: underline;\">_Exercice :_</span> 7 et 8 (Série I)."
   ]
  }
 ],
 "metadata": {
  "kernelspec": {
   "display_name": "Python 3",
   "language": "python",
   "name": "python3"
  },
  "language_info": {
   "codemirror_mode": {
    "name": "ipython",
    "version": 3
   },
   "file_extension": ".py",
   "mimetype": "text/x-python",
   "name": "python",
   "nbconvert_exporter": "python",
   "pygments_lexer": "ipython3",
   "version": "3.7.3"
  }
 },
 "nbformat": 4,
 "nbformat_minor": 4
}
