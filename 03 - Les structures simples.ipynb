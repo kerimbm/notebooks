{
 "cells": [
  {
   "cell_type": "code",
   "execution_count": null,
   "metadata": {
    "deletable": false,
    "editable": false,
    "hide_input": true,
    "init_cell": true,
    "nbgrader": {
     "cell_type": "code",
     "checksum": "af398f7ecd555f9d86de3e0a89b1edd0",
     "grade": false,
     "grade_id": "cell-b5e2efa0d42c1af1",
     "locked": true,
     "schema_version": 3,
     "solution": false,
     "task": false
    }
   },
   "outputs": [],
   "source": [
    "from IPython.display import HTML, display\n",
    "from IPython.core.magic import register_line_cell_magic\n",
    "import urllib.request\n",
    "\n",
    "@register_line_cell_magic\n",
    "def tutor(line, cell):\n",
    "    code = urllib.parse.urlencode({\"code\": cell})\n",
    "    display(HTML(\"\"\"\n",
    "    <iframe width=\"970\" height=\"500px\" frameborder=\"0\"\n",
    "            src=\"http://pythontutor.com/iframe-embed.html#%s&py=3\">\n",
    "    </iframe>\n",
    "    \"\"\" % code))"
   ]
  },
  {
   "cell_type": "markdown",
   "metadata": {
    "deletable": false,
    "editable": false,
    "run_control": {
     "frozen": true
    }
   },
   "source": [
    "<div style=\"background-color:#fff5f5;border:2px solid #faa;padding:20px 0 10px 0;\">\n",
    "    <div style=\"margin-left:30px;font-size:28px;color: #009955;\">Objectifs :</div>\n",
    "    <div style=\"font-size:18px;color: #0077cc;line-height:35px;margin-left:70px;\">\n",
    "        <ul>\n",
    "<li>Dégager les objets nécessaires (variables/constantes) pour résoudre un problème.</li>\n",
    "<li>Connaître les règles de définition  des variables.</li>\n",
    "<li>Utiliser les structures simples pour lire des données, pour afficher des informations et pour attribuer une valeur à une variable.</li>\n",
    "<li>Exécuter une solution implémentée.</li>\n",
    "<li>Modifier un code de programmation existant pour changer le comportement d’un programme.</li>\n",
    "        </ul>\n",
    "    </div>\n",
    "</div>"
   ]
  },
  {
   "cell_type": "markdown",
   "metadata": {
    "deletable": false,
    "editable": false,
    "run_control": {
     "frozen": true
    }
   },
   "source": [
    "<span style=\"font-size:20px; text-decoration: underline;\">_Rappel :_</span>"
   ]
  },
  {
   "cell_type": "code",
   "execution_count": null,
   "metadata": {
    "deletable": false,
    "editable": false,
    "hide_input": true,
    "init_cell": true
   },
   "outputs": [],
   "source": [
    "display(HTML(\"\"\" <iframe width=\"100%\" height=\"650px\" frameborder=\"0\"\n",
    "                    src=\"https://myquiz3.herokuapp.com/quiz/demarche-resolution\"> </iframe> \"\"\"))"
   ]
  },
  {
   "cell_type": "markdown",
   "metadata": {
    "deletable": false,
    "editable": false,
    "hide_input": true,
    "nbgrader": {
     "cell_type": "markdown",
     "checksum": "e1989f65cf69842551a4818a03898b6f",
     "grade": false,
     "grade_id": "cell-4bdde5e906fe1f12",
     "locked": true,
     "schema_version": 3,
     "solution": false,
     "task": false
    },
    "run_control": {
     "frozen": true
    }
   },
   "source": [
    "<span style=\"margin-left:30px;font-size:28px;color: #005599;\">III- Les structures simples :</span><br>\n",
    "<span style=\"margin-left:60px;font-size:20px;color: #0077cc;\">1- Les variables :</span><br>\n",
    "\n",
    "<span style=\"font-size:20px; text-decoration: underline;\">_Définition :_</span> <br/>\n",
    "<span style=\"margin-left:30px;\"></span>Une variable est un objet pouvant prendre différentes valeurs tout le long d’un programme. Elle   est caractérisée par son nom, son type et son contenu.\n",
    "\n",
    "<span style=\"font-size:20px; text-decoration: underline;\">_Syntaxe :_</span> <br/>\n",
    "\n",
    "<img src=\"https://coursenligne.edublogs.org/files/2021/08/variable.png\">\n",
    "\n"
   ]
  },
  {
   "cell_type": "code",
   "execution_count": null,
   "metadata": {
    "deletable": false,
    "editable": false,
    "hide_input": true,
    "init_cell": true
   },
   "outputs": [],
   "source": [
    "display(HTML(\"\"\" <iframe style=\"border: 1px solid #aaa; width:100%; height:calc(100vw * 0.5625);\" frameborder=\"0\"  \n",
    "                    src=\"https://coursenligne.edublogs.org/files/2021/08/variables.mp4\"> </iframe> \"\"\"))"
   ]
  },
  {
   "cell_type": "markdown",
   "metadata": {
    "deletable": false,
    "editable": false,
    "run_control": {
     "frozen": true
    }
   },
   "source": [
    "<span style=\"font-size:20px; text-decoration: underline;\">_Activité :_</span> <br/>"
   ]
  },
  {
   "cell_type": "code",
   "execution_count": null,
   "metadata": {
    "init_cell": true
   },
   "outputs": [],
   "source": [
    "age = 27"
   ]
  },
  {
   "cell_type": "markdown",
   "metadata": {
    "deletable": false,
    "editable": false,
    "run_control": {
     "frozen": true
    }
   },
   "source": [
    "- Afficher la valeur de la variable ```age``` :"
   ]
  },
  {
   "cell_type": "code",
   "execution_count": null,
   "metadata": {},
   "outputs": [],
   "source": [
    "..."
   ]
  },
  {
   "cell_type": "markdown",
   "metadata": {
    "deletable": false,
    "editable": false,
    "run_control": {
     "frozen": true
    }
   },
   "source": [
    "- Modifier la variable précédente en lui affectant votre âge :"
   ]
  },
  {
   "cell_type": "code",
   "execution_count": null,
   "metadata": {},
   "outputs": [],
   "source": [
    "..."
   ]
  },
  {
   "cell_type": "markdown",
   "metadata": {
    "deletable": false,
    "editable": false,
    "run_control": {
     "frozen": true
    }
   },
   "source": [
    "- Afficher la valeur de la variable ```age``` :"
   ]
  },
  {
   "cell_type": "code",
   "execution_count": null,
   "metadata": {},
   "outputs": [],
   "source": [
    "..."
   ]
  },
  {
   "cell_type": "markdown",
   "metadata": {
    "deletable": false,
    "editable": false,
    "nbgrader": {
     "cell_type": "markdown",
     "checksum": "22dd2b61e11c16c5cab22ffa261e58bb",
     "grade": false,
     "grade_id": "cell-92bc093c03727c31",
     "locked": true,
     "schema_version": 3,
     "solution": false,
     "task": false
    },
    "run_control": {
     "frozen": true
    }
   },
   "source": [
    "<span style=\"font-size:20px; text-decoration: underline;\">_Remarque :_</span> <br/>\n",
    "<span style=\"margin-left:30px;\"></span>Le nom de la variable doit obéir à quelques règles simples :\n",
    "- Il doit être composé par des lettres, des chiffres et des traits d’union.\n",
    "- Seules les lettres ordinaires sont autorisées. Les lettres accentuées, les espaces, les caractères spéciaux sont interdits\n",
    "- Il doit commencer obligatoirement par une lettre.\n",
    "- Il est sensible à la casse (les majuscules et les minuscules sont distinguées)\n",
    "\n",
    "<span style=\"font-size:20px; text-decoration: underline;\">_Application 1 :_</span> <br/>\n",
    "<span style=\"margin-left:30px;\"></span>Exécuter puis corriger les instructions incorrectes :"
   ]
  },
  {
   "cell_type": "code",
   "execution_count": null,
   "metadata": {},
   "outputs": [],
   "source": [
    "Date Systeme = '29/09/2021'"
   ]
  },
  {
   "cell_type": "code",
   "execution_count": null,
   "metadata": {},
   "outputs": [],
   "source": [
    "2bornes = 100"
   ]
  },
  {
   "cell_type": "code",
   "execution_count": null,
   "metadata": {},
   "outputs": [],
   "source": [
    "Adresse-2 = 'Tunis'"
   ]
  },
  {
   "cell_type": "markdown",
   "metadata": {
    "deletable": false,
    "editable": false,
    "run_control": {
     "frozen": true
    }
   },
   "source": [
    "<span style=\"margin-left:60px;font-size:20px;color: #0077cc;\">2- Les constantes :</span><br>\n",
    "\n",
    "<span style=\"font-size:20px; text-decoration: underline;\">_Définition :_</span> <br/>\n",
    "<span style=\"margin-left:30px;\"></span>Une constante est un objet ayant une valeur fixe tout le long d’un programme. Elle est caractérisée par son nom et sa valeur.\n",
    "\n",
    "<span style=\"font-size:20px; text-decoration: underline;\">_Syntaxe :_</span> <br/>\n",
    "\n",
    "<img src=\"https://coursenligne.edublogs.org/files/2021/08/constante.png\">\n",
    "\n",
    "<span style=\"font-size:20px; text-decoration: underline;\">_Activité :_</span> <br/>\n",
    "<span style=\"margin-left:30px;\"></span>Exécuter la cellule suivante pour rappeler la valeur de pi :"
   ]
  },
  {
   "cell_type": "code",
   "execution_count": null,
   "metadata": {},
   "outputs": [],
   "source": [
    "from math import pi\n",
    "print(pi)"
   ]
  },
  {
   "cell_type": "markdown",
   "metadata": {
    "deletable": false,
    "editable": false,
    "run_control": {
     "frozen": true
    }
   },
   "source": [
    "<span style=\"font-size:20px; text-decoration: underline;\">_Remarque :_</span> <br>\n",
    "<span style=\"margin-left:30px;\"></span>Contrairement à d'autres langages, Python n'empêche pas la modification\n",
    "d'une constante."
   ]
  },
  {
   "cell_type": "code",
   "execution_count": null,
   "metadata": {},
   "outputs": [],
   "source": [
    "pi = ...\n",
    "print(...)"
   ]
  },
  {
   "cell_type": "markdown",
   "metadata": {
    "deletable": false,
    "editable": false,
    "nbgrader": {
     "cell_type": "markdown",
     "checksum": "dfabd9a795635847a20bd188f6ade882",
     "grade": false,
     "grade_id": "cell-bafb113c319e9379",
     "locked": true,
     "schema_version": 3,
     "solution": false,
     "task": false
    },
    "run_control": {
     "frozen": true
    }
   },
   "source": [
    "<span style=\"margin-left:60px;font-size:20px;color: #0077cc;\">3- L’affectation :</span><br>\n",
    "\n",
    "<span style=\"font-size:20px; text-decoration: underline;\">_Définition :_</span> <br/>\n",
    "<span style=\"margin-left:30px;\"></span>L’affectation est l’action qui consiste à attribuer une valeur à une variable. L’instruction d’affectation se note avec le signe \"<img style=\"display:inline;\" src=\"https://coursenligne.edublogs.org/files/2020/10/fleche.png\"></img>\". La variable réceptrice est placée à gauche du signe et l’expression est placée à sa droite.\n",
    "\n",
    "<span style=\"font-size:20px; text-decoration: underline;\">_Exemple :_</span> <br/>\n",
    "\n",
    "age <img style=\"display:inline;\" src=\"https://coursenligne.edublogs.org/files/2020/10/fleche.png\"></img> 17\n",
    "\n",
    "<img src=\"https://coursenligne.edublogs.org/files/2020/10/affectation-1.png\"></img>\n",
    "\n",
    "<span style=\"font-size:20px; text-decoration: underline;\">_Vocabulaire et Syntaxe :_</span> <br/>\n",
    "\n",
    "<img src=\"https://coursenligne.edublogs.org/files/2021/08/affectation-2.png\"></img>\n",
    "\n",
    "<span style=\"font-size:20px; text-decoration: underline;\">_Remarques :_</span> <br/>\n",
    "- La partie gauche du signe ```=``` doit toujours être une variable, puisqu’il s'agit d'un symbole d'affectation (mettre une valeur dans une variable), et non un symbole d'égalité. Ainsi, l'instruction ```m + 1 = b``` est interdite. Par contre, écrire ```a = a + 1``` est inacceptable en mathématique, alors que cette forme d'écriture est très fréquente en programmation. L'instruction ```a = a + 1``` signifie « augmenter la valeur de la variable ```a``` d'une unité » (ou encore : « incrémenter ```a``` »).\n",
    "- Sous Python, on peut assigner une valeur à plusieurs variables simultanément. Exemple :"
   ]
  },
  {
   "cell_type": "code",
   "execution_count": null,
   "metadata": {
    "init_cell": true
   },
   "outputs": [],
   "source": [
    "a = b = 7                                  # Affectations multiples"
   ]
  },
  {
   "cell_type": "code",
   "execution_count": null,
   "metadata": {},
   "outputs": [],
   "source": [
    "# Afficher les valeurs de a et b :\n",
    "..."
   ]
  },
  {
   "cell_type": "markdown",
   "metadata": {
    "deletable": false,
    "editable": false,
    "nbgrader": {
     "cell_type": "markdown",
     "checksum": "b41073e328e5033056e0afa045a7a13f",
     "grade": false,
     "grade_id": "cell-f1698578b6ee5119",
     "locked": true,
     "schema_version": 3,
     "solution": false,
     "task": false
    },
    "run_control": {
     "frozen": true
    }
   },
   "source": [
    "- On peut aussi effectuer des affectations parallèles à l'aide d'un seul opérateur :"
   ]
  },
  {
   "cell_type": "code",
   "execution_count": null,
   "metadata": {},
   "outputs": [],
   "source": [
    "a, b = ..., ..."
   ]
  },
  {
   "cell_type": "code",
   "execution_count": null,
   "metadata": {},
   "outputs": [],
   "source": [
    "# Afficher les valeurs de a et b :\n",
    "..."
   ]
  },
  {
   "cell_type": "markdown",
   "metadata": {
    "deletable": false,
    "editable": false,
    "nbgrader": {
     "cell_type": "markdown",
     "checksum": "b7852ee9d8135815acc6dc8726e8be79",
     "grade": false,
     "grade_id": "cell-db12da8bf606137f",
     "locked": true,
     "schema_version": 3,
     "solution": false,
     "task": false
    },
    "run_control": {
     "frozen": true
    }
   },
   "source": [
    "- Pour permuter deux variables on peut utiliser la syntaxe précédente :"
   ]
  },
  {
   "cell_type": "code",
   "execution_count": null,
   "metadata": {},
   "outputs": [],
   "source": [
    "# Permuter a et b\n",
    "..."
   ]
  },
  {
   "cell_type": "code",
   "execution_count": null,
   "metadata": {},
   "outputs": [],
   "source": [
    "# Afficher les valeurs de a et b :\n",
    "..."
   ]
  },
  {
   "cell_type": "markdown",
   "metadata": {
    "deletable": false,
    "editable": false,
    "nbgrader": {
     "cell_type": "markdown",
     "checksum": "b3566a23e23c781cd54833561d20c92e",
     "grade": false,
     "grade_id": "cell-a043add076e60da1",
     "locked": true,
     "schema_version": 3,
     "solution": false,
     "task": false
    },
    "run_control": {
     "frozen": true
    }
   },
   "source": [
    "- Pour incrémenter une variable (i.e augmenter sa valeur d'une unité) on peut écrire :"
   ]
  },
  {
   "cell_type": "code",
   "execution_count": null,
   "metadata": {},
   "outputs": [],
   "source": [
    "a = a + ..."
   ]
  },
  {
   "cell_type": "code",
   "execution_count": null,
   "metadata": {},
   "outputs": [],
   "source": [
    "# Afficher la valeur de a :\n",
    "..."
   ]
  },
  {
   "cell_type": "code",
   "execution_count": null,
   "metadata": {},
   "outputs": [],
   "source": [
    "# Ou aussi :\n",
    "a += ..."
   ]
  },
  {
   "cell_type": "code",
   "execution_count": null,
   "metadata": {},
   "outputs": [],
   "source": [
    "# Afficher la valeur de a :\n",
    "..."
   ]
  },
  {
   "cell_type": "code",
   "execution_count": null,
   "metadata": {},
   "outputs": [],
   "source": [
    "# Incrémenter la variable b :\n",
    "..."
   ]
  },
  {
   "cell_type": "code",
   "execution_count": null,
   "metadata": {},
   "outputs": [],
   "source": [
    "# Afficher la valeur de b :\n",
    "..."
   ]
  },
  {
   "cell_type": "markdown",
   "metadata": {
    "deletable": false,
    "editable": false,
    "nbgrader": {
     "cell_type": "markdown",
     "checksum": "5b4789769c1324295ebbc62a95eb5167",
     "grade": false,
     "grade_id": "cell-14a0754938f0f620",
     "locked": true,
     "schema_version": 3,
     "solution": false,
     "task": false
    },
    "run_control": {
     "frozen": true
    }
   },
   "source": [
    "<span style=\"font-size:20px; text-decoration: underline;\">_Application 2 :_</span> <br/>\n",
    "<span style=\"margin-left:30px;\"></span>Soit la séquence d’instructions suivante :\n",
    "\n",
    "1)\tX <img style=\"display:inline;\" src=\"https://coursenligne.edublogs.org/files/2020/10/fleche.png\"> 70 <br>\n",
    "\n",
    "2)\tY <img style=\"display:inline;\" src=\"https://coursenligne.edublogs.org/files/2020/10/fleche.png\"> 40 <br>\n",
    "\n",
    "3)\tZ <img style=\"display:inline;\" src=\"https://coursenligne.edublogs.org/files/2020/10/fleche.png\"> X + Y <br>\n",
    "\n",
    "4)\tX <img style=\"display:inline;\" src=\"https://coursenligne.edublogs.org/files/2020/10/fleche.png\"> X - Y <br>\n",
    "\n",
    "5)\tY <img style=\"display:inline;\" src=\"https://coursenligne.edublogs.org/files/2020/10/fleche.png\"> Y - X <br>\n",
    "\n",
    "Compléter le tableau suivant :\n",
    "\n",
    "<img src=\"https://coursenligne.edublogs.org/files/2021/08/tab-1.png\"></img>"
   ]
  },
  {
   "cell_type": "markdown",
   "metadata": {
    "deletable": false,
    "editable": false,
    "run_control": {
     "frozen": true
    }
   },
   "source": [
    "<span style=\"font-size:20px; text-decoration: underline;\">_Application 3 :_</span> <br/>\n",
    "<span style=\"margin-left:30px;\"></span>Voici un programme Python : \n",
    "```python\n",
    "a = ... \n",
    "b = a + 4 \n",
    "c = b * 3 \n",
    "print(c) \n",
    "```\n",
    "Une fois exécuté, le programme affiche 30. Quelle est la valeur de la variable ```a``` ?"
   ]
  },
  {
   "cell_type": "markdown",
   "metadata": {
    "deletable": false,
    "editable": false,
    "nbgrader": {
     "cell_type": "markdown",
     "checksum": "f95bc94eb39adea53840dc32277d10a9",
     "grade": false,
     "grade_id": "cell-ab8a7894179a9f71",
     "locked": true,
     "schema_version": 3,
     "solution": false,
     "task": false
    },
    "run_control": {
     "frozen": true
    }
   },
   "source": [
    "<span style=\"margin-left:60px;font-size:20px;color: #0077cc;\">4- Les opérations d’entrée/sortie :</span><br>\n",
    "\n",
    "<span style=\"font-size:20px; text-decoration: underline;\">_a- L’opération de sortie :_</span> <br/>\n",
    "<span style=\"margin-left:30px;\"></span>Elle regroupe toutes les opérations de sortie des résultats sur écran.\n",
    "\n",
    "<span style=\"font-size:20px; text-decoration: underline;\">_Remarque :_</span> <br/>\n",
    "<span style=\"margin-left:30px;\"></span>Cette opération s’appelle écriture.\n",
    "\n",
    "<span style=\"font-size:20px; text-decoration: underline;\">_Vocabulaire et Syntaxe :_</span> <br/>\n",
    "\n",
    "<img src=\"https://coursenligne.edublogs.org/files/2021/08/tab-2.png\"></img>"
   ]
  },
  {
   "cell_type": "code",
   "execution_count": null,
   "metadata": {
    "deletable": false,
    "editable": false,
    "hide_input": true,
    "init_cell": true,
    "nbgrader": {
     "cell_type": "code",
     "checksum": "d04ffa9bbee6f66c83b70f761b45c2e7",
     "grade": false,
     "grade_id": "cell-eda70ab3ccd50204",
     "locked": true,
     "schema_version": 3,
     "solution": false,
     "task": false
    }
   },
   "outputs": [],
   "source": [
    "display(HTML(\"\"\" <iframe style=\"border: 1px solid #aaa; width:100%; height:calc(100vw * 0.5625);\" frameborder=\"0\"  \n",
    "                    src=\"https://coursenligne.edublogs.org/files/2021/08/print-input.mp4\"> </iframe> \"\"\"))"
   ]
  },
  {
   "cell_type": "markdown",
   "metadata": {
    "deletable": false,
    "editable": false,
    "run_control": {
     "frozen": true
    }
   },
   "source": [
    "<span style=\"font-size:20px; text-decoration: underline;\">_Application 4 :_</span> <br/>\n",
    "1. Ecrire l'instruction Python qui affiche votre nom et prénom :"
   ]
  },
  {
   "cell_type": "code",
   "execution_count": null,
   "metadata": {},
   "outputs": [],
   "source": [
    "..."
   ]
  },
  {
   "cell_type": "markdown",
   "metadata": {
    "deletable": false,
    "editable": false,
    "run_control": {
     "frozen": true
    }
   },
   "source": [
    "2. Ecrire l'instruction Python qui affiche votre âge :"
   ]
  },
  {
   "cell_type": "code",
   "execution_count": null,
   "metadata": {},
   "outputs": [],
   "source": [
    "..."
   ]
  },
  {
   "cell_type": "markdown",
   "metadata": {
    "deletable": false,
    "editable": false,
    "run_control": {
     "frozen": true
    }
   },
   "source": [
    "3. Ecrire l'instruction Python qui affiche la valeur de la variable ```adresse``` :"
   ]
  },
  {
   "cell_type": "code",
   "execution_count": null,
   "metadata": {},
   "outputs": [],
   "source": [
    "adresse = 'Tunis'\n",
    "..."
   ]
  },
  {
   "cell_type": "markdown",
   "metadata": {
    "deletable": false,
    "editable": false,
    "run_control": {
     "frozen": true
    }
   },
   "source": [
    "4. Traduire les instructions précédentes en algorithme"
   ]
  },
  {
   "cell_type": "markdown",
   "metadata": {
    "deletable": false,
    "editable": false,
    "run_control": {
     "frozen": true
    }
   },
   "source": [
    "<span style=\"font-size:20px; text-decoration: underline;\">_Remarque :_</span> <br/>\n",
    "<span style=\"margin-left:30px;\"></span>Pour afficher la valeur d’une variable, on peut utiliser ces deux modes d’affichage :\n",
    "- Affichage sans message :\n",
    "      Afficher(a)"
   ]
  },
  {
   "cell_type": "code",
   "execution_count": null,
   "metadata": {},
   "outputs": [],
   "source": [
    "print(a)"
   ]
  },
  {
   "cell_type": "markdown",
   "metadata": {
    "deletable": false,
    "editable": false,
    "nbgrader": {
     "cell_type": "markdown",
     "checksum": "34bc0e4745061fa1ad84ce653a9bf735",
     "grade": false,
     "grade_id": "cell-8205b35218365c7c",
     "locked": true,
     "schema_version": 3,
     "solution": false,
     "task": false
    },
    "run_control": {
     "frozen": true
    }
   },
   "source": [
    "- Affichage avec message :\n",
    "      Afficher(\"message\", a)"
   ]
  },
  {
   "cell_type": "code",
   "execution_count": null,
   "metadata": {},
   "outputs": [],
   "source": [
    "print('message', a)"
   ]
  },
  {
   "cell_type": "markdown",
   "metadata": {
    "deletable": false,
    "editable": false,
    "run_control": {
     "frozen": true
    }
   },
   "source": [
    "<span style=\"font-size:20px; text-decoration: underline;\">_Exemple :_</span> <br/>"
   ]
  },
  {
   "cell_type": "code",
   "execution_count": null,
   "metadata": {},
   "outputs": [],
   "source": [
    "adresse = 'Tunis'\n",
    "print('J\\'habite à ', ......)"
   ]
  },
  {
   "cell_type": "markdown",
   "metadata": {
    "deletable": false,
    "editable": false,
    "nbgrader": {
     "cell_type": "markdown",
     "checksum": "9c432fdca92c0226fec002d0556d4adb",
     "grade": false,
     "grade_id": "cell-7db7b0e7d0f10181",
     "locked": true,
     "schema_version": 3,
     "solution": false,
     "task": false
    },
    "run_control": {
     "frozen": true
    }
   },
   "source": [
    "<span style=\"font-size:20px; text-decoration: underline;\">_b- L’opération d’entrée :_</span> <br/>\n",
    "<span style=\"margin-left:30px;\"></span>Une opération d’entrée consiste à saisir des données au clavier pour qu’elles soient utilisées par le programme.\n",
    "\n",
    "<span style=\"font-size:20px; text-decoration: underline;\">_Remarque :_</span> <br/>\n",
    "<span style=\"margin-left:30px;\"></span>Cette opération s’appelle lecture.\n",
    "\n",
    "<span style=\"font-size:20px; text-decoration: underline;\">_Vocabulaire et Syntaxe :_</span> <br/>\n",
    "\n",
    "<img src=\"https://coursenligne.edublogs.org/files/2021/08/tab-3.png\"></img>\n",
    "\n",
    "<span style=\"font-size:20px; text-decoration: underline;\">_Exemple :_</span> <br/>\n",
    "\n",
    "<img src=\"https://coursenligne.edublogs.org/files/2021/08/tab-4.png\"></img>"
   ]
  },
  {
   "cell_type": "code",
   "execution_count": null,
   "metadata": {},
   "outputs": [],
   "source": [
    "x = input('Donner un entier')\n",
    "\n",
    "# Afficher la valeur de x\n",
    "..."
   ]
  },
  {
   "cell_type": "markdown",
   "metadata": {
    "deletable": false,
    "editable": false,
    "run_control": {
     "frozen": true
    }
   },
   "source": [
    "<span style=\"font-size:20px; text-decoration: underline;\">_Application 5 :_</span> <br/>\n",
    "1. Ecrire l'instruction python qui permet de saisir votre nom :"
   ]
  },
  {
   "cell_type": "code",
   "execution_count": null,
   "metadata": {},
   "outputs": [],
   "source": [
    "..."
   ]
  },
  {
   "cell_type": "markdown",
   "metadata": {
    "deletable": false,
    "editable": false,
    "run_control": {
     "frozen": true
    }
   },
   "source": [
    "2. Ecrire l'instruction python qui permet de saisir votre prénom :"
   ]
  },
  {
   "cell_type": "code",
   "execution_count": null,
   "metadata": {},
   "outputs": [],
   "source": [
    "..."
   ]
  },
  {
   "cell_type": "markdown",
   "metadata": {
    "deletable": false,
    "editable": false,
    "run_control": {
     "frozen": true
    }
   },
   "source": [
    "3. Ecrire l'instruction python qui permet de saisir votre âge :"
   ]
  },
  {
   "cell_type": "code",
   "execution_count": null,
   "metadata": {},
   "outputs": [],
   "source": [
    "..."
   ]
  },
  {
   "cell_type": "markdown",
   "metadata": {
    "deletable": false,
    "editable": false,
    "run_control": {
     "frozen": true
    }
   },
   "source": [
    "4. Afficher votre nom et prénom et votre âge :"
   ]
  },
  {
   "cell_type": "code",
   "execution_count": null,
   "metadata": {},
   "outputs": [],
   "source": [
    "...\n",
    "...\n",
    "..."
   ]
  },
  {
   "cell_type": "markdown",
   "metadata": {
    "deletable": false,
    "editable": false,
    "run_control": {
     "frozen": true
    }
   },
   "source": [
    "4. Traduire les instructions précédentes en algorithme"
   ]
  },
  {
   "cell_type": "markdown",
   "metadata": {
    "deletable": false,
    "editable": false,
    "nbgrader": {
     "cell_type": "markdown",
     "checksum": "7b4dcdf28f97413c77b0852f4123750d",
     "grade": false,
     "grade_id": "cell-bb413ab9e8d37481",
     "locked": true,
     "schema_version": 3,
     "solution": false,
     "task": false
    },
    "run_control": {
     "frozen": true
    }
   },
   "source": [
    "<span style=\"font-size:20px; text-decoration: underline;\">_Application 6 :_</span> <br/>\n",
    "<span style=\"margin-left:30px;\"></span>Soit le programme Python suivant :"
   ]
  },
  {
   "cell_type": "code",
   "execution_count": null,
   "metadata": {},
   "outputs": [],
   "source": [
    "from math import pi\n",
    "R = 6\n",
    "S = pi * R * R\n",
    "print('La surface est : ', S)"
   ]
  },
  {
   "cell_type": "markdown",
   "metadata": {
    "deletable": false,
    "editable": false,
    "run_control": {
     "frozen": true
    }
   },
   "source": [
    "- Exécuter le programme ci-dessus puis décrire le résultat.\n",
    "- Modifier la valeur de ```R``` puis exécuter à nouveau le programme.\n",
    "- Modifier le programme pour qu'il affiche le périmètre ```P``` d'un cercle sachant que : $P = 2πR$ <span style=\"color:#888;\">_(N'oublier pas de modifier le message !)_</span>"
   ]
  },
  {
   "cell_type": "markdown",
   "metadata": {
    "deletable": false,
    "editable": false,
    "nbgrader": {
     "cell_type": "markdown",
     "checksum": "31b7e8e92201a756eb4a0c8657751a62",
     "grade": false,
     "grade_id": "cell-137074772d8d7761",
     "locked": true,
     "schema_version": 3,
     "solution": false,
     "task": false
    },
    "run_control": {
     "frozen": true
    }
   },
   "source": [
    "<span style=\"font-size:20px; text-decoration: underline;\">_Application 7 :_</span> <br/>\n",
    "<span style=\"margin-left:30px;\"></span>Écrire l'analyse l'algorithme et la traduction en Python d'un programme qui calcule puis affiche le carré et le cube d’un entier donné.\n",
    "\n",
    "<span style=\"font-size:20px; text-decoration: underline;\">_Solution :_</span> <br/>"
   ]
  },
  {
   "cell_type": "code",
   "execution_count": null,
   "metadata": {},
   "outputs": [],
   "source": [
    "..............................                          #1- Saisir un entier n\n",
    "..............................                          #2- Calculer le carré de n\n",
    "..............................                          #3- Calculer le cube de n\n",
    "..............................                          #4- Afficher le carré et le cube de n"
   ]
  },
  {
   "cell_type": "code",
   "execution_count": null,
   "metadata": {
    "deletable": false,
    "editable": false,
    "hide_input": true,
    "init_cell": true,
    "nbgrader": {
     "cell_type": "code",
     "checksum": "16980bc6826c7994e9f2d1bfe664f8a4",
     "grade": false,
     "grade_id": "cell-a025fa18aeb136a3",
     "locked": true,
     "schema_version": 3,
     "solution": false,
     "task": false
    }
   },
   "outputs": [],
   "source": [
    "display(HTML(\"\"\" <iframe width=\"100%\" height=\"650px\" frameborder=\"0\"\n",
    "                    src=\"https://myquiz3.herokuapp.com/quiz/structure-simple\"> </iframe> \"\"\"))"
   ]
  }
 ],
 "metadata": {
  "kernelspec": {
   "display_name": "Python 3",
   "language": "python",
   "name": "python3"
  },
  "language_info": {
   "codemirror_mode": {
    "name": "ipython",
    "version": 3
   },
   "file_extension": ".py",
   "mimetype": "text/x-python",
   "name": "python",
   "nbconvert_exporter": "python",
   "pygments_lexer": "ipython3",
   "version": "3.7.3"
  }
 },
 "nbformat": 4,
 "nbformat_minor": 4
}
