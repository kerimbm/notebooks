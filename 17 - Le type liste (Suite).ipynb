{
 "cells": [
  {
   "cell_type": "code",
   "execution_count": null,
   "metadata": {
    "deletable": false,
    "editable": false,
    "hide_input": true,
    "init_cell": true,
    "nbgrader": {
     "cell_type": "code",
     "checksum": "15bd20007e617b0b51a8cd9addd80ba8",
     "grade": false,
     "grade_id": "cell-cf76bf66f4799d59",
     "locked": true,
     "schema_version": 3,
     "solution": false,
     "task": false
    }
   },
   "outputs": [],
   "source": [
    "from IPython.display import HTML, display\n",
    "from IPython.core.magic import register_line_cell_magic\n",
    "import urllib.request\n",
    "\n",
    "@register_line_cell_magic\n",
    "def tutor(line, cell):\n",
    "    code = urllib.parse.urlencode({\"code\": cell})\n",
    "    display(HTML(\"\"\"\n",
    "    <iframe width=\"970\" height=\"500px\" frameborder=\"0\"\n",
    "            src=\"http://172.16.10.144:8003/iframe-embed.html#%s&py=3\">\n",
    "    </iframe>\n",
    "    \"\"\" % code))"
   ]
  },
  {
   "cell_type": "markdown",
   "metadata": {
    "deletable": false,
    "editable": false,
    "run_control": {
     "frozen": true
    }
   },
   "source": [
    "<div style=\"background-color:#fff5f5;border:2px solid #faa;padding:20px 0 10px 0;\"><span style=\"margin-left:30px;font-size:28px;color: #009955;\">Rappel :</span><br>\n",
    "<span style=\"font-size:18px;color: #0077cc;line-height:35px;\">\n",
    "<span style=\"margin-left:100px;\">- Le type liste.</span><br>\n",
    "</span>\n",
    "<span style=\"margin-left:30px;font-size:28px;color: #009955;\">Objectifs :</span><br>\n",
    "<span style=\"font-size:18px;color: #0077cc;line-height:35px;\">\n",
    "<span style=\"margin-left:100px;\">- Connaître les différentes manipulations sur les listes.</span><br>\n",
    "<span style=\"margin-left:100px;\">- Appliquer les notiens vues précedement sur les listes.</span><br>\n",
    "</span></div>"
   ]
  },
  {
   "cell_type": "markdown",
   "metadata": {
    "deletable": false,
    "editable": false,
    "nbgrader": {
     "cell_type": "markdown",
     "checksum": "a8e4c975fa945c63d0a854f42a4a6946",
     "grade": false,
     "grade_id": "cell-5b82890b5c066354",
     "locked": true,
     "schema_version": 3,
     "solution": false,
     "task": false
    },
    "run_control": {
     "frozen": true
    }
   },
   "source": [
    "<span style=\"margin-left:30px;font-size:28px;color: #005599;\">VII- Les Types de Données et les Expressions :</span><br>\n",
    "\n",
    "<span style=\"margin-left:60px;font-size:20px;color: #0077cc;\">5- Le type liste :</span><br>\n",
    "\n",
    "_<span style=\"font-size:20px; text-decoration: underline;\">g- Insérer un élément dans la liste :</span>_ <br/>\n",
    "<span style=\"margin-left:30px;\"></span>Pour insérer un objet dans une liste à l'endroit voulu, on utilise la méthode insert.\n",
    "\n",
    "_<span style=\"font-size:20px; text-decoration: underline;\">Activité :</span>_ <br/>\n",
    "<span style=\"margin-left:30px;\"></span>Soit la liste suivante : li = ['z', 2.33, 'e', 5]<br>\n",
    "Ecrire un programme qui insère à la position 2, l'élément 'c' :"
   ]
  },
  {
   "cell_type": "code",
   "execution_count": null,
   "metadata": {},
   "outputs": [],
   "source": [
    "li = ['z', 2.33, 'e', 5]   # Créer une liste de 4 éléments\n",
    "li.insert(..., ...)        # On insère 'c' à l'indice 2\n",
    "print(li)"
   ]
  },
  {
   "cell_type": "markdown",
   "metadata": {
    "deletable": false,
    "editable": false,
    "nbgrader": {
     "cell_type": "markdown",
     "checksum": "6c43021fe7ff777551f0916bbc99b318",
     "grade": false,
     "grade_id": "cell-3b0d88f8bacadc4d",
     "locked": true,
     "schema_version": 3,
     "solution": false,
     "task": false
    },
    "run_control": {
     "frozen": true
    }
   },
   "source": [
    "_<span style=\"font-size:20px; text-decoration: underline;\">h- Concaténation de listes :</span>_ <br/>\n",
    "<span style=\"margin-left:30px;\"></span>On peut également agrandir des listes en les concaténant avec d'autres.\n",
    "\n",
    "_<span style=\"font-size:20px; text-decoration: underline;\">Activité :</span>_ <br/>\n",
    "<span style=\"margin-left:30px;\"></span>Soit deux listes l1 = ['z', 2] et l2 = ['e', 5]<br>\n",
    "Quelle est l’instruction qui permet de concaténer ces deux listes dans la liste l1."
   ]
  },
  {
   "cell_type": "code",
   "execution_count": null,
   "metadata": {},
   "outputs": [],
   "source": [
    "l1 = ['z', 2]         # Créer une liste de 2 éléments\n",
    "l2 = ['e', 5]         # Créer une autre liste de 2 éléments\n",
    "l1 ... l2             # On insère l2 à la fin de la liste l1\n",
    "print(l1)"
   ]
  },
  {
   "cell_type": "code",
   "execution_count": null,
   "metadata": {},
   "outputs": [],
   "source": [
    "l1. extend(...)       # Identique à l1 += l2\n",
    "print(l1)"
   ]
  },
  {
   "cell_type": "markdown",
   "metadata": {
    "deletable": false,
    "editable": false,
    "nbgrader": {
     "cell_type": "markdown",
     "checksum": "14545eb0608f81a156b03830c1c9b30a",
     "grade": false,
     "grade_id": "cell-dd00ada32304907c",
     "locked": true,
     "schema_version": 3,
     "solution": false,
     "task": false
    },
    "run_control": {
     "frozen": true
    }
   },
   "source": [
    "_<span style=\"font-size:20px; text-decoration: underline;\">i- Suppression d'éléments d'une liste :</span>_ <br/>\n",
    "<span style=\"margin-left:30px;\"></span>Trois méthodes permettent de supprimer des éléments d’une liste :\n",
    "-\tUtiliser la méthode remove()\n",
    "-\tUtiliser la fonction del()\n",
    "-\tUtiliser le remplacement par une liste vide\n",
    "\n",
    "_<span style=\"font-size:20px; text-decoration: underline;\">Activité :</span>_ <br/>\n",
    "<span style=\"margin-left:30px;\"></span>Soit la liste suivante : li = [0, 1, 2, 3, 4, 5, 'e']<br>\n",
    "Ecrire un programme qui :\n",
    "- Supprime l'élément 'e' en utilisant la méthode remove()\n",
    "- Supprime l'élément « 3 » en utilisant la fonction del()\n",
    "- Supprime la tranche [1:3] en utilisant la téchnique de remplacement"
   ]
  },
  {
   "cell_type": "code",
   "execution_count": null,
   "metadata": {},
   "outputs": [],
   "source": [
    "li = [0, 1, 2, 3, 4, 5, 'e'] # Créer une liste de 7 éléments\n",
    "li.remove(...)               # Rechercher et supprimer l’élément ‘e’\n",
    "print(li)"
   ]
  },
  {
   "cell_type": "code",
   "execution_count": null,
   "metadata": {},
   "outputs": [],
   "source": [
    "del(li[4])                   # Supprimer l’élément 3 de la liste li\n",
    "print(li)"
   ]
  },
  {
   "cell_type": "code",
   "execution_count": null,
   "metadata": {},
   "outputs": [],
   "source": [
    "li[...] = ...                # Remplacer la tranche [1:3] par une liste\n",
    "print(li)                    # vide, ce qui correspond à un effacement."
   ]
  },
  {
   "cell_type": "markdown",
   "metadata": {
    "deletable": false,
    "editable": false,
    "nbgrader": {
     "cell_type": "markdown",
     "checksum": "0e23b5d67ca833a17782605871e0f890",
     "grade": false,
     "grade_id": "cell-d08ae158c7c93453",
     "locked": true,
     "schema_version": 3,
     "solution": false,
     "task": false
    },
    "run_control": {
     "frozen": true
    }
   },
   "source": [
    "_<span style=\"font-size:20px; text-decoration: underline;\">Remarque :</span>_ <br/>\n",
    "- La fonction del travaille avec un index ou une tranche d’index, tandis que remove() recherche une valeur (si plusieurs éléments de la liste possèdent la même valeur, seul le premier est effacé).\n",
    "\n",
    "_<span style=\"font-size:20px; text-decoration: underline;\">j- Tri des éléments d’une liste :</span>_ <br/>\n",
    "\n",
    "_<span style=\"font-size:20px; text-decoration: underline;\">Activité :</span>_ <br/>\n",
    "<span style=\"margin-left:30px;\"></span>Soit la liste suivante : li = [5, 2, 4, 0, 1, 3]<br>\n",
    "Ecrire un programme qui permet de :\n",
    "- Trier la liste li\n",
    "- Inverser la liste li"
   ]
  },
  {
   "cell_type": "code",
   "execution_count": null,
   "metadata": {},
   "outputs": [],
   "source": [
    "li = [5, 2, 4, 0, 1, 3] # Créer une liste de 6 éléments\n",
    ".........               # Trier la liste avec la méthode sort()\n",
    "print(li)"
   ]
  },
  {
   "cell_type": "code",
   "execution_count": null,
   "metadata": {},
   "outputs": [],
   "source": [
    "............            # La méthode reverse() permet d’inverser les\n",
    "print(li)               # éléments d’une liste, identique à : li = li[::-1]"
   ]
  },
  {
   "cell_type": "markdown",
   "metadata": {
    "deletable": false,
    "editable": false,
    "nbgrader": {
     "cell_type": "markdown",
     "checksum": "a7f8bd59aeae9a1fb3af637cdf8f1290",
     "grade": false,
     "grade_id": "cell-079629c3b6154cd0",
     "locked": true,
     "schema_version": 3,
     "solution": false,
     "task": false
    },
    "run_control": {
     "frozen": true
    }
   },
   "source": [
    "_<span style=\"font-size:20px; text-decoration: underline;\">Application :</span>_ <br/>\n",
    "<span style=\"margin-left:30px;\"></span>Ecrire l'analyse, l'algorithme et la traduction en Python d'un programme qui permet de saisir trois chaines dans une liste li puis de la trier et d’afficher chaque chaine avec sa longueur.\n",
    "\n",
    "_<span style=\"font-size:20px; text-decoration: underline;\">Exemple :</span>_ <br/>\n",
    "\n",
    "Python<br>\n",
    "Java<br>\n",
    "C++<br>\n",
    "'C++' est de longueur 3<br>\n",
    "'Java' est de longueur 4<br>\n",
    "'Python' est de longueur 6<br>\n"
   ]
  },
  {
   "cell_type": "code",
   "execution_count": null,
   "metadata": {},
   "outputs": [],
   "source": []
  },
  {
   "cell_type": "code",
   "execution_count": null,
   "metadata": {
    "deletable": false,
    "editable": false,
    "hide_input": true,
    "init_cell": true
   },
   "outputs": [],
   "source": [
    "display(HTML(\"\"\" <iframe width=\"100%\" height=\"650px\" frameborder=\"0\"\n",
    "                    src=\"http://172.16.10.144:8030/quiz/list-2\"> </iframe> \"\"\"))"
   ]
  },
  {
   "cell_type": "markdown",
   "metadata": {
    "deletable": false,
    "editable": false,
    "nbgrader": {
     "cell_type": "markdown",
     "checksum": "224c6fec76ece6d1b7f998df4fb5cc5d",
     "grade": false,
     "grade_id": "cell-3b43dd91b5236b24",
     "locked": true,
     "schema_version": 3,
     "solution": false,
     "task": false
    },
    "run_control": {
     "frozen": true
    }
   },
   "source": [
    "_<span style=\"font-size:20px; text-decoration: underline;\">Exercices :</span>_ 26 et 28 (Série V)."
   ]
  }
 ],
 "metadata": {
  "kernelspec": {
   "display_name": "Python 3",
   "language": "python",
   "name": "python3"
  },
  "language_info": {
   "codemirror_mode": {
    "name": "ipython",
    "version": 3
   },
   "file_extension": ".py",
   "mimetype": "text/x-python",
   "name": "python",
   "nbconvert_exporter": "python",
   "pygments_lexer": "ipython3",
   "version": "3.7.3"
  }
 },
 "nbformat": 4,
 "nbformat_minor": 4
}
