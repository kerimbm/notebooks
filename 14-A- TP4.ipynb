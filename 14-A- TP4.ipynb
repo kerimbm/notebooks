{
 "cells": [
  {
   "cell_type": "code",
   "execution_count": null,
   "metadata": {
    "deletable": false,
    "editable": false,
    "hide_input": true,
    "init_cell": true,
    "nbgrader": {
     "cell_type": "code",
     "checksum": "6ecae6f66ba7259ea3e3858ce31762f4",
     "grade": false,
     "grade_id": "cell-0962acf67650c5a6",
     "locked": true,
     "schema_version": 3,
     "solution": false,
     "task": false
    }
   },
   "outputs": [],
   "source": [
    "from IPython.display import HTML, display\n",
    "from IPython.core.magic import register_line_cell_magic\n",
    "import urllib.request\n",
    "\n",
    "@register_line_cell_magic\n",
    "def tutor(line, cell):\n",
    "    code = urllib.parse.urlencode({\"code\": cell})\n",
    "    display(HTML(\"\"\"\n",
    "    <iframe width=\"970\" height=\"500px\" frameborder=\"0\"\n",
    "            src=\"http://pythontutor.com/iframe-embed.html#%s&py=3\">\n",
    "    </iframe>\n",
    "    \"\"\" % code))"
   ]
  },
  {
   "cell_type": "markdown",
   "metadata": {
    "deletable": false,
    "editable": false,
    "run_control": {
     "frozen": true
    }
   },
   "source": [
    "<h1 style=\"text-align:center;font-size:42px;color:#005599;\">Travaux pratiques 4</h1>\n",
    "<h3 style=\"text-align:center;font-size:22px;color:#22bb88;\">45 mn</h3>\n",
    "<br><br>\n",
    "\n",
    "<span style=\"font-size:20px; text-decoration: underline;\">_Exercice 1 :_</span> <br>\n",
    "<span style=\"margin-left:30px;\"></span>On considère le programme suivant :\n",
    "\n",
    "```python\n",
    "if \"s\" in mot and len(mot) >= 8:\n",
    "    print(\"Ce mot de passe est correct\")\n",
    "else:\n",
    "    print(\"Ce mot de passe est incorrect\")\n",
    "```\n",
    "\n",
    "Quelle valeur de ```mot``` permet d'afficher ```\"Ce mot de passe est correct\"``` ?\n",
    "- Pass123\n",
    "- mdp$$\n",
    "- aao9d8Cs7R\n",
    "- Yg67daw87A2"
   ]
  },
  {
   "cell_type": "markdown",
   "metadata": {
    "deletable": false,
    "editable": false,
    "run_control": {
     "frozen": true
    }
   },
   "source": [
    "<span style=\"font-size:20px; text-decoration: underline;\">_Exercice 2 :_</span> <br>\n",
    "<span style=\"margin-left:30px;\"></span>L'inverse d'un nombre réel ```x``` existe à condition que ```x``` ne soit pas nul.\n",
    "- Écrire un programme Python qui affiche l'inverse de ```x``` si ```x``` $≠$ 0, et ```\"Erreur\"``` dans le cas contraire."
   ]
  },
  {
   "cell_type": "code",
   "execution_count": null,
   "metadata": {},
   "outputs": [],
   "source": [
    "..."
   ]
  },
  {
   "cell_type": "markdown",
   "metadata": {
    "deletable": false,
    "editable": false,
    "run_control": {
     "frozen": true
    }
   },
   "source": [
    "<span style=\"font-size:20px; text-decoration: underline;\">_Exercice 3 :_</span> <br>\n",
    "1. Écrire une fonction qui affiche la saison d’un mois à partir de son numéro.\n",
    "2. Ajouter le code nécessaire pour tester cette fonction."
   ]
  },
  {
   "cell_type": "code",
   "execution_count": null,
   "metadata": {},
   "outputs": [],
   "source": [
    "... mois(n):\n",
    "    ..."
   ]
  },
  {
   "cell_type": "markdown",
   "metadata": {
    "deletable": false,
    "editable": false,
    "run_control": {
     "frozen": true
    }
   },
   "source": [
    "<span style=\"font-size:20px; text-decoration: underline;\">_Exercice 4 :_</span> <br>\n",
    "<span style=\"margin-left:30px;\"></span>```startswith(prefixe)``` est une méthode de la classe ```str``` qui renvoie vrai si la chaîne commence par ```prefixe``` et faux dans le cas contraire.\n",
    "\n",
    "On vous demande d'écrire une alternative allégée de cette fonction :\n",
    "\n",
    "- Compléter la fonction ```commencepar(ch, car)```qui renvoie vrai si la chaîne ```ch``` commence par le caractère ```car``` et faux dans le cas contraire.\n",
    "\n",
    "- Ajouter le code nécessaire pour tester cette fonction."
   ]
  },
  {
   "cell_type": "code",
   "execution_count": null,
   "metadata": {},
   "outputs": [],
   "source": [
    "def commencepar(car):\n",
    "    ...\n",
    "        return True\n",
    "    ...\n",
    "        return False\n"
   ]
  }
 ],
 "metadata": {
  "kernelspec": {
   "display_name": "Python 3",
   "language": "python",
   "name": "python3"
  },
  "language_info": {
   "codemirror_mode": {
    "name": "ipython",
    "version": 3
   },
   "file_extension": ".py",
   "mimetype": "text/x-python",
   "name": "python",
   "nbconvert_exporter": "python",
   "pygments_lexer": "ipython3",
   "version": "3.7.3"
  }
 },
 "nbformat": 4,
 "nbformat_minor": 4
}
