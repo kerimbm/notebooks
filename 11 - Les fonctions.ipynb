{
 "cells": [
  {
   "cell_type": "code",
   "execution_count": null,
   "metadata": {
    "deletable": false,
    "editable": false,
    "hide_input": true,
    "init_cell": true,
    "nbgrader": {
     "cell_type": "code",
     "checksum": "ff13742b163b2ff2ec7c08587bd88b63",
     "grade": false,
     "grade_id": "cell-aab5847837a1580d",
     "locked": true,
     "schema_version": 3,
     "solution": false,
     "task": false
    }
   },
   "outputs": [],
   "source": [
    "from IPython.display import HTML, display\n",
    "from IPython.core.magic import register_line_cell_magic\n",
    "import urllib.request\n",
    "\n",
    "@register_line_cell_magic\n",
    "def tutor(line, cell):\n",
    "    code = urllib.parse.urlencode({\"code\": cell})\n",
    "    display(HTML(\"\"\"\n",
    "    <iframe width=\"970\" height=\"500px\" frameborder=\"0\"\n",
    "            src=\"http://172.16.10.144:8003/iframe-embed.html#%s&py=3\">\n",
    "    </iframe>\n",
    "    \"\"\" % code))"
   ]
  },
  {
   "cell_type": "markdown",
   "metadata": {
    "deletable": false,
    "editable": false,
    "run_control": {
     "frozen": true
    }
   },
   "source": [
    "<div style=\"background-color:#fff5f5;border:2px solid #faa;padding:20px 0 10px 0;\"><span style=\"margin-left:30px;font-size:28px;color: #009955;\">Rappel :</span><br>\n",
    "<span style=\"font-size:18px;color: #0077cc;line-height:35px;\">\n",
    "<span style=\"margin-left:100px;\">- La structure de contrôle itérative complète.</span><br>\n",
    "<span style=\"margin-left:100px;\">- La structure itérative à condition d’arrêt.</span><br>\n",
    "</span>\n",
    "<span style=\"margin-left:30px;font-size:28px;color: #009955;\">Objectifs :</span><br>\n",
    "<span style=\"font-size:18px;color: #0077cc;line-height:35px;\">\n",
    "<span style=\"margin-left:100px;\"></span>- Découvrir l’utilité d’une fonction<br>\n",
    "<span style=\"margin-left:100px;\"></span>- Utiliser des fonctions dans un programme.<br>\n",
    "<span style=\"margin-left:100px;\"></span>- Maîtriser l'utilisation des variables locales et globales.<br>\n",
    "<span style=\"margin-left:100px;\"></span>- Consolider les requis appris au cours de la séance en réalisant des applications et un exercice.<br>\n",
    "</span></div>"
   ]
  },
  {
   "cell_type": "markdown",
   "metadata": {
    "deletable": false,
    "editable": false,
    "nbgrader": {
     "cell_type": "markdown",
     "checksum": "43cdf34f096e361c015b42f14b467806",
     "grade": false,
     "grade_id": "cell-274af9476dab5ef5",
     "locked": true,
     "schema_version": 3,
     "solution": false,
     "task": false
    },
    "run_control": {
     "frozen": true
    }
   },
   "source": [
    "<span style=\"margin-left:30px;font-size:28px;color: #005599;\">VI- Les fonctions :</span><br>\n",
    "\n",
    "_<span style=\"font-size:20px; text-decoration: underline;\">Activité :</span>_ <br/>\n",
    "<span style=\"margin-left:30px;\"></span>Ecrire un programme Blockly qui permet d’afficher trois carrés de coté 100 pixels en trois différents emplacements de l’écran.<br>\n",
    "Vérifier ensuite le code Python.\n"
   ]
  },
  {
   "cell_type": "code",
   "execution_count": null,
   "metadata": {
    "deletable": false,
    "editable": false,
    "hide_input": true,
    "init_cell": true,
    "nbgrader": {
     "cell_type": "code",
     "checksum": "bb8fb141b092b23dc9e75bb57e00f79f",
     "grade": false,
     "grade_id": "cell-0f3999757c714989",
     "locked": true,
     "schema_version": 3,
     "solution": false,
     "task": false
    }
   },
   "outputs": [],
   "source": [
    "display(HTML(\"\"\" <iframe width=\"100%\" height=\"1080\" frameborder=\"0\"\n",
    "                    src=\"http://172.16.10.144:8105/sofuspy/run.html\"> </iframe> \"\"\"))"
   ]
  },
  {
   "cell_type": "markdown",
   "metadata": {
    "deletable": false,
    "editable": false,
    "nbgrader": {
     "cell_type": "markdown",
     "checksum": "b3dcdb3ded5cb06f2d990cce633efa92",
     "grade": false,
     "grade_id": "cell-c0969000b524cd42",
     "locked": true,
     "schema_version": 3,
     "solution": false,
     "task": false
    },
    "run_control": {
     "frozen": true
    }
   },
   "source": [
    "_<span style=\"font-size:20px; text-decoration: underline;\">Remarque :</span>_ <br/>\n",
    "- On remarque la redondance de la partie permettant d’afficher un carré.\n",
    "- On peut éviter cette redondance en définissant une fonction permettant d’afficher un carré à n’importe quel emplacement. Cette fonction sera appelée en cas de besoin.\n",
    "\n",
    "_<span style=\"font-size:20px; text-decoration: underline;\">Activité :</span>_ <br/>\n",
    "<span style=\"margin-left:30px;\"></span>Citez quelques fonctions prédéfinies que vous avez utilisées dans vos programmes."
   ]
  },
  {
   "cell_type": "markdown",
   "metadata": {
    "deletable": false,
    "editable": false,
    "nbgrader": {
     "cell_type": "markdown",
     "checksum": "28948eb7d900b37337020af22f122550",
     "grade": false,
     "grade_id": "cell-89dde29854a7a221",
     "locked": true,
     "schema_version": 3,
     "solution": false,
     "task": false
    },
    "run_control": {
     "frozen": true
    }
   },
   "source": [
    "<span style=\"margin-left:60px;font-size:20px;color: #0077cc;\">1- Définition d’une fonction :</span><br>\n",
    "\n",
    "_<span style=\"font-size:20px; text-decoration: underline;\">Syntaxe :</span>_ <br/>\n",
    "\n",
    "<img src=\"http://172.16.10.144:8011/img/tab-9.png\"></img>\n",
    "\n",
    "_<span style=\"font-size:20px; text-decoration: underline;\">Remarque :</span>_ <br/>\n",
    "\n",
    "- Les noms des fonctions doivent obéir aux mêmes règles que celle des noms des variables\n",
    "- Lors de l’appel d’une fonction, les arguments utilisés doivent être fournis dans le même ordre que celui des paramètres correspondants.\n",
    "- Les avantages :<br>\n",
    "<span style=\"margin-left:30px;\"></span>- Meilleure lisibilité.<br>\n",
    "<span style=\"margin-left:30px;\"></span>- Diminution du risque d'erreurs.<br>\n",
    "<span style=\"margin-left:30px;\"></span>- Possibilité de tests sélectifs.<br>\n",
    "<span style=\"margin-left:30px;\"></span>- Réutilisation des fonctions déjà existantes.<br>\n",
    "<span style=\"margin-left:30px;\"></span>- Simplicité de l'entretien.<br>\n",
    "<span style=\"margin-left:30px;\"></span>- Favorisation du travail en équipe.<br>\n",
    "<span style=\"margin-left:30px;\"></span>- …"
   ]
  },
  {
   "cell_type": "code",
   "execution_count": null,
   "metadata": {
    "deletable": false,
    "editable": false,
    "hide_input": true,
    "init_cell": true
   },
   "outputs": [],
   "source": [
    "display(HTML(\"\"\" <iframe style=\"border: 1px solid #aaa; width:100%; height:calc(100vw * 0.5625);\" frameborder=\"0\"  \n",
    "                    src=\"http://172.16.10.144:8011/video/07-Fonction-1.mp4\"> </iframe> \"\"\"))"
   ]
  },
  {
   "cell_type": "markdown",
   "metadata": {
    "deletable": false,
    "editable": false,
    "run_control": {
     "frozen": true
    }
   },
   "source": [
    "_<span style=\"font-size:20px; text-decoration: underline;\">Application :</span>_ <br/>\n",
    "<span style=\"margin-left:30px;\"></span>Réécrire un programme Blockly solution de l’activité précédente en définissant une fonction « carre ».<br>\n",
    "Vérifier ensuite le code Python.\n",
    "\n",
    "_<span style=\"font-size:20px; text-decoration: underline;\">Solution :</span>_ <br/>"
   ]
  },
  {
   "cell_type": "code",
   "execution_count": null,
   "metadata": {
    "deletable": false,
    "editable": false,
    "hide_input": true,
    "init_cell": true,
    "nbgrader": {
     "cell_type": "code",
     "checksum": "8535364ccd3099632f94631431270ca7",
     "grade": false,
     "grade_id": "cell-df256eddd841ac5b",
     "locked": true,
     "schema_version": 3,
     "solution": false,
     "task": false
    }
   },
   "outputs": [],
   "source": [
    "display(HTML(\"\"\" <iframe width=\"100%\" height=\"1080\" frameborder=\"0\"\n",
    "                    src=\"http://172.16.10.144:8105/sofuspy/run.html\"> </iframe> \"\"\"))"
   ]
  },
  {
   "cell_type": "markdown",
   "metadata": {
    "deletable": false,
    "editable": false,
    "nbgrader": {
     "cell_type": "markdown",
     "checksum": "b3a437725758bfc64fc0efa0117a447c",
     "grade": false,
     "grade_id": "cell-20523ac53a752361",
     "locked": true,
     "schema_version": 3,
     "solution": false,
     "task": false
    },
    "run_control": {
     "frozen": true
    }
   },
   "source": [
    "_<span style=\"font-size:20px; text-decoration: underline;\">Application :</span>_ <br/>\n",
    "<span style=\"margin-left:30px;\"></span>Ecrire l'analyse, l'algorithme et la traduction en Python d'un programme qui affiche la table de multiplication (on se limitera aux 9x9) en utilisant une fonction qui calcule la table de multiplication d’un entier."
   ]
  },
  {
   "cell_type": "code",
   "execution_count": null,
   "metadata": {},
   "outputs": [],
   "source": []
  },
  {
   "cell_type": "markdown",
   "metadata": {
    "deletable": false,
    "editable": false,
    "nbgrader": {
     "cell_type": "markdown",
     "checksum": "c7ed84e46b24ddf1127128871134eace",
     "grade": false,
     "grade_id": "cell-e91613f3b1e31367",
     "locked": true,
     "schema_version": 3,
     "solution": false,
     "task": false
    },
    "run_control": {
     "frozen": true
    }
   },
   "source": [
    "<span style=\"margin-left:60px;font-size:20px;color: #0077cc;\">2- Variables locales, variables globales :</span><br>\n",
    "\n",
    "<span style=\"margin-left:30px;\"></span>Les variables locaux (définis à l’intérieur d’une fonction) ne sont accessibles qu’à la fonction elle-même. Ainsi par exemple, si nous essayons d'afficher le contenu de la variable s dans le programme principale, nous obtenons un message d'erreur :\n"
   ]
  },
  {
   "cell_type": "code",
   "execution_count": null,
   "metadata": {},
   "outputs": [],
   "source": [
    "def somme(a, b) :\n",
    "    s = a + b\n",
    "    print(s)\n",
    "\n",
    "somme(5, 3)\n",
    "print(s)           # Erreur ! : s n’est pas définit."
   ]
  },
  {
   "cell_type": "markdown",
   "metadata": {
    "deletable": false,
    "editable": false,
    "nbgrader": {
     "cell_type": "markdown",
     "checksum": "37254d74c6a73d58cce0b993eb2bf8ce",
     "grade": false,
     "grade_id": "cell-3cc34afb722649a0",
     "locked": true,
     "schema_version": 3,
     "solution": false,
     "task": false
    },
    "run_control": {
     "frozen": true
    }
   },
   "source": [
    "<span style=\"margin-left:30px;\"></span>Les variables définies à l’extérieur d’une fonction sont des variables globales. Leurs contenu est « visible » de l’intérieur d’une fonction, mais la fonction ne peut pas les modifier.\n",
    "\n",
    "_<span style=\"font-size:20px; text-decoration: underline;\">Exemple :</span>_ <br/>"
   ]
  },
  {
   "cell_type": "code",
   "execution_count": null,
   "metadata": {},
   "outputs": [],
   "source": [
    "def affiche():\n",
    "    a = 20\n",
    "    print(\"A l'intérieur de la fonction : a = \", a)\n",
    "\n",
    "a = 5\n",
    "affiche()\n",
    "print(\"A l'extérieur de la fonction : a = \", a)"
   ]
  },
  {
   "cell_type": "markdown",
   "metadata": {
    "deletable": false,
    "editable": false,
    "nbgrader": {
     "cell_type": "markdown",
     "checksum": "5dca102f1cf17b2628cbeac6cf7cae9f",
     "grade": false,
     "grade_id": "cell-1108fa62998ae210",
     "locked": true,
     "schema_version": 3,
     "solution": false,
     "task": false
    },
    "run_control": {
     "frozen": true
    }
   },
   "source": [
    "_<span style=\"font-size:20px; text-decoration: underline;\">Remarque :</span>_ <br/>\n",
    "- Pour modifier une variable globale il suffit d'utiliser l'instruction __global__.\n",
    "\n",
    "_<span style=\"font-size:20px; text-decoration: underline;\">Exemple :</span>_ <br/>"
   ]
  },
  {
   "cell_type": "code",
   "execution_count": null,
   "metadata": {},
   "outputs": [],
   "source": [
    "def affiche():\n",
    "    global a\n",
    "    a = 20\n",
    "    print(\"A l'intérieur de la fonction : a = \", a)\n",
    "\n",
    "a=5\n",
    "affiche()\n",
    "print(\"A l'extérieur de la fonction : a = \", a)"
   ]
  },
  {
   "cell_type": "code",
   "execution_count": null,
   "metadata": {
    "deletable": false,
    "editable": false,
    "hide_input": true,
    "init_cell": true,
    "nbgrader": {
     "cell_type": "code",
     "checksum": "af1af9f804c1abe827d4d9affc106b25",
     "grade": false,
     "grade_id": "cell-b081698cdfd36159",
     "locked": true,
     "schema_version": 3,
     "solution": false,
     "task": false
    }
   },
   "outputs": [],
   "source": [
    "display(HTML(\"\"\" <iframe width=\"100%\" height=\"650px\" frameborder=\"0\"\n",
    "                    src=\"http://172.16.10.144:8030/quiz/fonction-1\"> </iframe> \"\"\"))"
   ]
  },
  {
   "cell_type": "markdown",
   "metadata": {
    "deletable": false,
    "editable": false,
    "nbgrader": {
     "cell_type": "markdown",
     "checksum": "f3ce54fde0ca5111f51252962dd1ee63",
     "grade": false,
     "grade_id": "cell-fd36332ad91cafab",
     "locked": true,
     "schema_version": 3,
     "solution": false,
     "task": false
    },
    "run_control": {
     "frozen": true
    }
   },
   "source": [
    "_<span style=\"font-size:20px; text-decoration: underline;\">Exercice :</span>_ 4 (Série IV)."
   ]
  }
 ],
 "metadata": {
  "kernelspec": {
   "display_name": "Python 3",
   "language": "python",
   "name": "python3"
  },
  "language_info": {
   "codemirror_mode": {
    "name": "ipython",
    "version": 3
   },
   "file_extension": ".py",
   "mimetype": "text/x-python",
   "name": "python",
   "nbconvert_exporter": "python",
   "pygments_lexer": "ipython3",
   "version": "3.7.3"
  }
 },
 "nbformat": 4,
 "nbformat_minor": 4
}
