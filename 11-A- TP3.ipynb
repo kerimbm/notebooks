{
 "cells": [
  {
   "cell_type": "code",
   "execution_count": null,
   "metadata": {
    "deletable": false,
    "editable": false,
    "hide_input": true,
    "init_cell": true
   },
   "outputs": [],
   "source": [
    "from IPython.display import HTML, display\n",
    "from IPython.core.magic import register_line_cell_magic\n",
    "import urllib.request\n",
    "\n",
    "@register_line_cell_magic\n",
    "def tutor(line, cell):\n",
    "    code = urllib.parse.urlencode({\"code\": cell})\n",
    "    display(HTML(\"\"\"\n",
    "    <iframe width=\"970\" height=\"500px\" frameborder=\"0\"\n",
    "            src=\"http://pythontutor.com/iframe-embed.html#%s&py=3\">\n",
    "    </iframe>\n",
    "    \"\"\" % code))"
   ]
  },
  {
   "cell_type": "markdown",
   "metadata": {
    "deletable": false,
    "editable": false,
    "run_control": {
     "frozen": true
    }
   },
   "source": [
    "<h1 style=\"text-align:center;font-size:42px;color:#005599;\">Travaux pratiques 3</h1>\n",
    "<h3 style=\"text-align:center;font-size:22px;color:#22bb88;\">45 mn</h3>\n",
    "<br><br>\n",
    "\n",
    "<span style=\"font-size:20px; text-decoration: underline;\">_Exercice 1 :_</span> <br>\n",
    "<span style=\"margin-left:30px;\"></span>Ecrire un programme qui calcule puis affiche la moyenne de trois nombres saisis au clavier en définissant une fonction ```moyenne3(a, b, c)```."
   ]
  },
  {
   "cell_type": "code",
   "execution_count": null,
   "metadata": {},
   "outputs": [],
   "source": [
    "..."
   ]
  },
  {
   "cell_type": "markdown",
   "metadata": {
    "deletable": false,
    "editable": false,
    "run_control": {
     "frozen": true
    }
   },
   "source": [
    "<span style=\"font-size:20px; text-decoration: underline;\">_Exercice 2 :_</span> <br>\n",
    "<span style=\"margin-left:30px;\"></span>Ecrire un programme qui calcule puis affiche la surface d'un cercle en utilisant une fonction ```surface(r)```"
   ]
  },
  {
   "cell_type": "code",
   "execution_count": null,
   "metadata": {},
   "outputs": [],
   "source": [
    "..."
   ]
  },
  {
   "cell_type": "markdown",
   "metadata": {
    "deletable": false,
    "editable": false,
    "run_control": {
     "frozen": true
    }
   },
   "source": [
    "<span style=\"font-size:20px; text-decoration: underline;\">_Exercice 3 :_</span> <br>\n",
    "<span style=\"margin-left:30px;\"></span>Compléter le programme suivant pour qu'il affiche le résultat de la fonction mathématique suivante : $f(x) = 3x^2-6$ :"
   ]
  },
  {
   "cell_type": "code",
   "execution_count": null,
   "metadata": {},
   "outputs": [],
   "source": [
    "def f(x):\n",
    "    ...\n",
    "\n",
    "print(f(0))\n",
    "print(f(-4))\n",
    "print(f(4))"
   ]
  },
  {
   "cell_type": "markdown",
   "metadata": {
    "deletable": false,
    "editable": false,
    "run_control": {
     "frozen": true
    }
   },
   "source": [
    "<span style=\"font-size:20px; text-decoration: underline;\">_Exercice 4 :_</span> <br>\n",
    "<span style=\"margin-left:30px;\"></span>Ecrire un programme Python qui affiche la rotation de trois nombres a, b et c saisies au clavier en définissant une procédure ```permute3()```.\n",
    "\n",
    "Exemple :\n",
    "```Python\n",
    "a, b, c = 1, 6, 3\n",
    "```\n",
    "Le programme affiche :\n",
    "```\n",
    "a = 6\n",
    "b = 3\n",
    "c = 1\n",
    "```"
   ]
  },
  {
   "cell_type": "code",
   "execution_count": null,
   "metadata": {},
   "outputs": [],
   "source": [
    "..."
   ]
  }
 ],
 "metadata": {
  "kernelspec": {
   "display_name": "Python 3",
   "language": "python",
   "name": "python3"
  },
  "language_info": {
   "codemirror_mode": {
    "name": "ipython",
    "version": 3
   },
   "file_extension": ".py",
   "mimetype": "text/x-python",
   "name": "python",
   "nbconvert_exporter": "python",
   "pygments_lexer": "ipython3",
   "version": "3.7.3"
  }
 },
 "nbformat": 4,
 "nbformat_minor": 4
}
