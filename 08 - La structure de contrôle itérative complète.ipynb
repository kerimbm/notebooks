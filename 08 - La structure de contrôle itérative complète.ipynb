{
 "cells": [
  {
   "cell_type": "code",
   "execution_count": null,
   "metadata": {
    "deletable": false,
    "editable": false,
    "hide_input": true,
    "init_cell": true,
    "nbgrader": {
     "cell_type": "code",
     "checksum": "2b6d9a701b2ad44eb0fb6cc9a74f7ccd",
     "grade": false,
     "grade_id": "cell-189e2b1c38c7b68b",
     "locked": true,
     "schema_version": 3,
     "solution": false,
     "task": false
    }
   },
   "outputs": [],
   "source": [
    "from IPython.display import HTML, display\n",
    "from IPython.core.magic import register_line_cell_magic\n",
    "import urllib.request\n",
    "\n",
    "@register_line_cell_magic\n",
    "def tutor(line, cell):\n",
    "    code = urllib.parse.urlencode({\"code\": cell})\n",
    "    display(HTML(\"\"\"\n",
    "    <iframe width=\"970\" height=\"500px\" frameborder=\"0\"\n",
    "            src=\"http://pythontutor.com/iframe-embed.html#%s&py=3\">\n",
    "    </iframe>\n",
    "    \"\"\" % code))"
   ]
  },
  {
   "cell_type": "markdown",
   "metadata": {
    "deletable": false,
    "editable": false,
    "run_control": {
     "frozen": true
    }
   },
   "source": [
    "<div style=\"background-color:#fff5f5;border:2px solid #faa;padding:20px 0 10px 0;\"><span style=\"margin-left:30px;font-size:28px;color: #009955;\">Rappel :</span><br>\n",
    "<span style=\"font-size:18px;color: #0077cc;line-height:35px;\">\n",
    "<span style=\"margin-left:100px;\">- La structure conditionnelle généralisée.</span><br>\n",
    "</span>\n",
    "<span style=\"margin-left:30px;font-size:28px;color: #009955;\">Objectifs :</span><br>\n",
    "<span style=\"font-size:18px;color: #0077cc;line-height:35px;\">\n",
    "<span style=\"margin-left:100px;\">- Utiliser la structure de contrôle itérative complète pour résoudre des problèmes.</span><br>\n",
    "\n",
    "for imbriqué\n",
    "\n",
    "<span style=\"margin-left:100px;\">- Consolider les requis appris au cours de la séance en réalisant deux exercices.</span><br>\n",
    "</span></div>"
   ]
  },
  {
   "cell_type": "markdown",
   "metadata": {
    "deletable": false,
    "editable": false,
    "nbgrader": {
     "cell_type": "markdown",
     "checksum": "4c72f42c971b4c41834b1ced28e06fcd",
     "grade": false,
     "grade_id": "cell-4b609323e76884a9",
     "locked": true,
     "schema_version": 3,
     "solution": false,
     "task": false
    },
    "run_control": {
     "frozen": true
    }
   },
   "source": [
    "<span style=\"margin-left:30px;font-size:28px;color: #005599;\">V- Les structures de contrôle itératives :</span><br>\n",
    "\n",
    "_<span style=\"font-size:20px; text-decoration: underline;\">Activité :</span>_ <br/>\n",
    "<span style=\"margin-left:30px;\"></span>Ecrire un programme Python qui calcule la moyenne de 3 élèves.\n",
    "\n",
    "_<span style=\"font-size:20px; text-decoration: underline;\">Solution :</span>_ <br/>\n"
   ]
  },
  {
   "cell_type": "code",
   "execution_count": null,
   "metadata": {},
   "outputs": [],
   "source": [
    "dc1 = float(input('Saisir la note de DC1 du 1er élève : '))     # Saisir la note de DC1 du 1er élève\n",
    "dc2 = ......................................................    # Saisir la note de DC2 du 1er élève\n",
    "ds = ......................................................     # Saisir la note de DS du 1er élève\n",
    "\n",
    "moy = (... + ... + 2*...)/...                                   # Calculer la moyenne du 1er élève\n",
    "\n",
    "print('la moyenne du 1er élève est : ', ...)                    # Afficher la moyenne du 1er élève\n",
    "\n",
    "dc1 = ......(input('Saisir la note de DC1 du ..... élève : '))  # Saisir la note de DC1 du 2ème élève\n",
    "dc2 = .......................................................   # Saisir la note de DC2 du 2ème élève\n",
    "...                                                             # Compléter la suite du programme\n",
    "..."
   ]
  },
  {
   "cell_type": "markdown",
   "metadata": {
    "deletable": false,
    "editable": false,
    "nbgrader": {
     "cell_type": "markdown",
     "checksum": "b9fa95eda31a01aae62cc0008b617902",
     "grade": false,
     "grade_id": "cell-86814fad7728d377",
     "locked": true,
     "schema_version": 3,
     "solution": false,
     "task": false
    },
    "run_control": {
     "frozen": true
    }
   },
   "source": [
    "_<span style=\"font-size:20px; text-decoration: underline;\">Remarque :</span>_ <br/>\n",
    "<span style=\"margin-left:30px;\"></span>Si on souhaite calculer la moyenne de 30 élèves, est ce qu’on va réaliser la même tâche 30 fois ?\n",
    "\n",
    "<span style=\"margin-left:60px;font-size:20px;color: #0077cc;\">1- La structure de contrôle itérative complète :</span><br>\n",
    "\n",
    "_<span style=\"font-size:20px; text-decoration: underline;\">Définition :</span>_ <br/>\n",
    "<span style=\"margin-left:30px;\"></span>Un résultat à une structure itérative complète est obtenu après la répétition d’un traitement (ensemble d’instructions) un nombre fini de fois connu à l’avance.\n",
    "\n",
    "_<span style=\"font-size:20px; text-decoration: underline;\">Syntaxe :</span>_ <br/>\n",
    "\n",
    "<img src=\"https://coursenligne.edublogs.org/files/2020/10/tab-7.png\"></img>"
   ]
  },
  {
   "cell_type": "markdown",
   "metadata": {
    "deletable": false,
    "editable": false,
    "run_control": {
     "frozen": true
    }
   },
   "source": [
    "_<span style=\"font-size:20px; text-decoration: underline;\">Remarque :</span>_ <br/>\n",
    "- En général, quand on sait combien de fois doit avoir lieu la répétition, on utilise la boucle \"pour\".\n",
    "- L’incrémentation du compteur est automatique avec, généralement, un pas de 1\n",
    "- L’expression séquence peut être générée par range() ou remplacé par n’importe quelle variable de type ‘Iterator’ (Exemple : chaîne de caractères, liste, …)"
   ]
  },
  {
   "cell_type": "code",
   "execution_count": null,
   "metadata": {
    "deletable": false,
    "editable": false,
    "hide_input": true,
    "init_cell": true
   },
   "outputs": [],
   "source": [
    "display(HTML(\"\"\" <iframe style=\"border: 1px solid #aaa; width:100%; height:calc(100vw * 0.5625);\" frameborder=\"0\"  \n",
    "                    src=\"https://kerimbm.edublogs.org/files/2020/10/05-for.mp4\"> </iframe> \"\"\"))"
   ]
  },
  {
   "cell_type": "markdown",
   "metadata": {
    "deletable": false,
    "editable": false,
    "nbgrader": {
     "cell_type": "markdown",
     "checksum": "34c1735504d4694d6045b5eadfa37163",
     "grade": false,
     "grade_id": "cell-502703bc78e5b27c",
     "locked": true,
     "schema_version": 3,
     "solution": false,
     "task": false
    },
    "run_control": {
     "frozen": true
    }
   },
   "source": [
    "_<span style=\"font-size:20px; text-decoration: underline;\">Application :</span>_ <br/>\n",
    "<span style=\"margin-left:30px;\"></span>Ecrire un programme Python qui affiche les 10 premiers entiers.<br>\n",
    "Modifier, ensuite, le programme pour qu’il affiche leurs carrés."
   ]
  },
  {
   "cell_type": "code",
   "execution_count": null,
   "metadata": {},
   "outputs": [],
   "source": [
    "... i in range(...):  # Une boucle qui répète le traitement 10 fois\n",
    "    print(...)        # A chaque itération, afficher un entier\n",
    "\n",
    "# Déduire l'algorithme"
   ]
  },
  {
   "cell_type": "markdown",
   "metadata": {
    "deletable": false,
    "editable": false,
    "nbgrader": {
     "cell_type": "markdown",
     "checksum": "46cf8cd4f8c6d273dd387f2c072a08dc",
     "grade": false,
     "grade_id": "cell-53e57c6e36798f23",
     "locked": true,
     "schema_version": 3,
     "solution": false,
     "task": false
    },
    "run_control": {
     "frozen": true
    }
   },
   "source": [
    "_<span style=\"font-size:20px; text-decoration: underline;\">Application :</span>_ <br/>\n",
    "<span style=\"margin-left:30px;\"></span>Ecrire l'analyse, l'algorithme et la traduction en Python d'un programme solution de l’activité précédente en utilisant la structure itérative complète."
   ]
  },
  {
   "cell_type": "code",
   "execution_count": null,
   "metadata": {
    "deletable": false,
    "editable": false,
    "hide_input": true,
    "init_cell": true,
    "nbgrader": {
     "cell_type": "code",
     "checksum": "6e33568cda58e79bd4d41973b0f8a872",
     "grade": false,
     "grade_id": "cell-9f545ef0c17ef2a9",
     "locked": true,
     "schema_version": 3,
     "solution": false,
     "task": false
    }
   },
   "outputs": [],
   "source": [
    "display(HTML(\"\"\" <iframe width=\"100%\" height=\"1080\" frameborder=\"0\"\n",
    "                    src=\"https://sofuspy.herokuapp.com/sofuspy/run.html\"> </iframe> \"\"\"))"
   ]
  },
  {
   "cell_type": "code",
   "execution_count": null,
   "metadata": {},
   "outputs": [],
   "source": [
    "... i in ......(5):                                  # Une boucle qui répète le traitement 5 fois\n",
    "    dc1 = .......................................    # A chaque itération, saisir DC1\n",
    "    dc2 = .......................................    # A chaque itération, saisir DC2\n",
    "    ds = .......................................     # A chaque itération, saisir DS\n",
    "    ...... = (............................)/...      # A chaque itération, calculer la moyenne\n",
    "    print(...............................)           # A chaque itération, afficher la moyenne"
   ]
  },
  {
   "cell_type": "code",
   "execution_count": null,
   "metadata": {
    "deletable": false,
    "editable": false,
    "hide_input": true,
    "init_cell": true,
    "nbgrader": {
     "cell_type": "code",
     "checksum": "4eb0159c237732fa5d5aa297d9e8d545",
     "grade": false,
     "grade_id": "cell-c6993cbe4b7de68e",
     "locked": true,
     "schema_version": 3,
     "solution": false,
     "task": false
    }
   },
   "outputs": [],
   "source": [
    "display(HTML(\"\"\" <iframe width=\"100%\" height=\"650px\" frameborder=\"0\"\n",
    "                    src=\"https://myquiz2.herokuapp.com/quiz/for\"> </iframe> \"\"\"))"
   ]
  },
  {
   "cell_type": "markdown",
   "metadata": {
    "deletable": false,
    "editable": false,
    "run_control": {
     "frozen": true
    }
   },
   "source": [
    "_<span style=\"font-size:20px; text-decoration: underline;\">Exercices :</span>_ <br>\n",
    "<span style=\"margin-left:30px;\"></span>Ecrire un programme en Python qui demande à l'utilisateur de saisir un nombre entier n et de lui afficher tous les diviseurs de ce nombre.\n",
    "\n",
    "_<span style=\"font-size:20px; text-decoration: underline;\">Exercice :</span>_ 6 (Série III)."
   ]
  }
 ],
 "metadata": {
  "kernelspec": {
   "display_name": "Python 3",
   "language": "python",
   "name": "python3"
  },
  "language_info": {
   "codemirror_mode": {
    "name": "ipython",
    "version": 3
   },
   "file_extension": ".py",
   "mimetype": "text/x-python",
   "name": "python",
   "nbconvert_exporter": "python",
   "pygments_lexer": "ipython3",
   "version": "3.7.3"
  }
 },
 "nbformat": 4,
 "nbformat_minor": 4
}
