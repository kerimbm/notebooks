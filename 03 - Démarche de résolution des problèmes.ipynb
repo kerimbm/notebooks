{
 "cells": [
  {
   "cell_type": "code",
   "execution_count": null,
   "metadata": {
    "deletable": false,
    "editable": false,
    "hide_input": true,
    "init_cell": true,
    "nbgrader": {
     "cell_type": "code",
     "checksum": "a63ca3a2a9d77db92f8ed2df9be20b6f",
     "grade": false,
     "grade_id": "cell-46a46b703625499d",
     "locked": true,
     "schema_version": 3,
     "solution": false,
     "task": false
    }
   },
   "outputs": [],
   "source": [
    "from IPython.display import HTML, display\n",
    "from IPython.core.magic import register_line_cell_magic\n",
    "import urllib.request\n",
    "\n",
    "@register_line_cell_magic\n",
    "def tutor(line, cell):\n",
    "    code = urllib.parse.urlencode({\"code\": cell})\n",
    "    display(HTML(\"\"\"\n",
    "    <iframe width=\"970\" height=\"500px\" frameborder=\"0\"\n",
    "            src=\"http://pythontutor.com/iframe-embed.html#%s&py=3\">\n",
    "    </iframe>\n",
    "    \"\"\" % code))"
   ]
  },
  {
   "cell_type": "markdown",
   "metadata": {
    "deletable": false,
    "editable": false,
    "run_control": {
     "frozen": true
    }
   },
   "source": [
    "<div style=\"background-color:#fff5f5;border:2px solid #faa;padding:20px 0 10px 0;\"><span style=\"margin-left:30px;font-size:28px;color: #009955;\">Rappel :</span><br>\n",
    "<span style=\"font-size:18px;color: #0077cc;line-height:35px;\">\n",
    "<span style=\"margin-left:100px;\">- Règles de définition  des variables.</span><br>\n",
    "<span style=\"margin-left:100px;\">- L'affectation.</span><br>\n",
    "<span style=\"margin-left:100px;\">- Les opérations d'entrées/sorties.</span><br>\n",
    "</span>\n",
    "<span style=\"margin-left:30px;font-size:28px;color: #009955;\">Objectifs :</span><br>\n",
    "<span style=\"font-size:18px;color: #0077cc;line-height:35px;\">\n",
    "<span style=\"margin-left:100px;\">- Reconnaître les phases de résolution d’un problème :</span><br>\n",
    "<span style=\"margin-left:150px;\">- Réaliser une analyse.</span><br>\n",
    "<span style=\"margin-left:150px;\">- Élaborer une solution sous forme d’un algorithme.</span><br>\n",
    "<span style=\"margin-left:150px;\">- Écrire et tester le programme solution sur ordinateur.</span><br>\n",
    "<span style=\"margin-left:150px;\">- Apporter des amélioration à la solution.</span><br>\n",
    "<span style=\"margin-left:100px;\">- Consolider les requis appris au cours de la séance en réalisant une application et un quiz.</span><br>\n",
    "</span></div>"
   ]
  },
  {
   "cell_type": "markdown",
   "metadata": {
    "deletable": false,
    "editable": false,
    "nbgrader": {
     "cell_type": "markdown",
     "checksum": "b7a92e302d0cf6f33c10a1a7f6381718",
     "grade": false,
     "grade_id": "cell-39d2ca21d1403902",
     "locked": true,
     "schema_version": 3,
     "solution": false,
     "task": false
    },
    "run_control": {
     "frozen": true
    }
   },
   "source": [
    "<span style=\"margin-left:30px;font-size:28px;color: #005599;\">III. Démarche de résolution des problèmes :</span><br>\n",
    "\n",
    "_<span style=\"font-size:20px; text-decoration: underline;\">Activité :</span>_ <br/>\n",
    "\n",
    "<span style=\"margin-left:30px;\"></span>On se propose d’écrire un programme qui permet de calculer et d’afficher la moyenne annuelle d’un élève.\n",
    "\n",
    "_<span style=\"font-size:20px; text-decoration: underline;\">Remarque :</span>_ <br/>\n",
    "<span style=\"margin-left:30px;\"></span>Pour trouver une solution informatique à un problème donné, il faut passer par quatre étapes :\n",
    "\n",
    "\n",
    "<span style=\"margin-left:60px;font-size:20px;color: #0077cc;\">1. Première étape : Analyse</span><br>\n",
    "\n",
    "<span style=\"margin-left:30px;\"></span>L'analyse peut s'effectuer à l'aide de plusieurs approches, nous allons choisir la plus simple qui consiste à élaborer une carte mentale pour décrire les grandes lignes solution du problème.\n",
    "\n",
    "_<span style=\"font-size:20px; text-decoration: underline;\">Activité :</span>_ <br/>\n",
    "<span style=\"margin-left:30px;\"></span>Développer une carte mentale solution de l'activité précédente.\n",
    "\n",
    "<img src=\"https://coursenligne.edublogs.org/files/2020/10/carte-1.png\"></img>\n",
    "\n",
    "<span style=\"margin-left:60px;font-size:20px;color: #0077cc;\">2. Deuxième étape : Algorithme</span><br>\n",
    "\n",
    "_<span style=\"font-size:20px; text-decoration: underline;\">Activité :</span>_ <br/>\n",
    "\n",
    "<span style=\"margin-left:30px;\"></span>En utilisant Blockly, réaliser l’activité précédente puis écrire les séquences de votre programme."
   ]
  },
  {
   "cell_type": "code",
   "execution_count": null,
   "metadata": {
    "deletable": false,
    "editable": false,
    "hide_input": true,
    "init_cell": true,
    "nbgrader": {
     "cell_type": "code",
     "checksum": "35aaccac8351923737d53f4b67c39221",
     "grade": false,
     "grade_id": "cell-b0f3af9f07b22d23",
     "locked": true,
     "schema_version": 3,
     "solution": false,
     "task": false
    }
   },
   "outputs": [],
   "source": [
    "display(HTML(\"\"\" <iframe width=\"100%\" height=\"1080\" frameborder=\"0\"\n",
    "                    src=\"https://sofuspy.herokuapp.com/sofuspy/run.html\"> </iframe> \"\"\"))"
   ]
  },
  {
   "cell_type": "markdown",
   "metadata": {
    "deletable": false,
    "editable": false,
    "nbgrader": {
     "cell_type": "markdown",
     "checksum": "b1a8e100c593bf2f1eef4ddbeaef898a",
     "grade": false,
     "grade_id": "cell-ef971637cc4276e2",
     "locked": true,
     "schema_version": 3,
     "solution": false,
     "task": false
    },
    "run_control": {
     "frozen": true
    }
   },
   "source": [
    "_<span style=\"font-size:20px; text-decoration: underline;\">Définition :</span>_ <br/>\n",
    "<span style=\"margin-left:30px;\"></span>Un algorithme est une suite ordonnée et finie d’actions ou d'instructions sert à résoudre un problème donné.\n",
    "\n",
    "_<span style=\"font-size:20px; text-decoration: underline;\">Remarque :</span>_ <br/>\n",
    "- On utilise le verbe \"Lire\" pour la saisie de données et le verbe \"Ecrire\" pour l’affichage ou la sortie du résultat.\n",
    "- On utilise le signe \"<img style=\"display:inline;\" src=\"http://172.16.10.144:8011/img/fleche.png\"></img>\" pour mettre une valeur dans une variable.\n",
    "- Chaque programme manipule des données que ce soit en entrée, au cours du traitement ou en sortie. Ces données nécessitent un emplacement en mémoire. C’est pour cette raison que tous les langages de programmation exigent d’utiliser des variables pour que le programme prépare leurs emplacements en mémoire. Donc, avant d’écrire un programme, il faut dresser un tableau afin de déclarer tous les objets à utilisés dans ce programme. Le tableau est de cette forme :\n",
    "\n",
    "<img src=\"https://coursenligne.edublogs.org/files/2020/10/tdo.png\"></img>\n",
    "\n",
    "_<span style=\"font-size:20px; text-decoration: underline;\">Activité :</span>_ <br/>\n",
    "<span style=\"margin-left:30px;\"></span>Déduire le tableau de déclaration des objets de l’algorithme Moyenne_Annuelle.\n",
    "\n",
    "<span style=\"margin-left:60px;font-size:20px;color: #0077cc;\">3. Troisième étape : Ecriture du programme et tests</span><br>\n",
    "\n",
    "_<span style=\"font-size:20px; text-decoration: underline;\">Activité :</span>_ <br/>\n",
    "-\tCliquer sur le bouton Editeur de l’interface Blockly pour traduire l’algorithme précédent en programme Python.\n",
    "-\tCopier le code obtenu dans la cellule jupyter ci-dessous.\n",
    "-\tAjouter au début de cette cellule la directive **%%tutor** pour visualiser les étapes d’exécution du programme."
   ]
  },
  {
   "cell_type": "code",
   "execution_count": null,
   "metadata": {},
   "outputs": [],
   "source": []
  },
  {
   "cell_type": "markdown",
   "metadata": {
    "deletable": false,
    "editable": false,
    "nbgrader": {
     "cell_type": "markdown",
     "checksum": "65e70dcead1ed92887f0bdc816bec545",
     "grade": false,
     "grade_id": "cell-1d26eb562c0c6027",
     "locked": true,
     "schema_version": 3,
     "solution": false,
     "task": false
    },
    "run_control": {
     "frozen": true
    }
   },
   "source": [
    "<span style=\"margin-left:60px;font-size:20px;color: #0077cc;\">4. Quatrième étape : Appliquer des correctifs et des améliorations à la solution</span><br>\n",
    "\n",
    "<span style=\"margin-left:30px;\"></span>Dans cette étape nous allons corriger les éventuelles erreurs de notre programme s’ils existent, et luis ajouter des améliorations si c’est possible.\n",
    "\n",
    "_<span style=\"font-size:20px; text-decoration: underline;\">Activité :</span>_ <br/>\n",
    "\n",
    "-\tEssayer de corriger les erreurs de votre programme s’il ne s’exécute pas comme prévue.\n",
    "-\tEssayer d’apporter des améliorations à votre programme."
   ]
  },
  {
   "cell_type": "code",
   "execution_count": null,
   "metadata": {},
   "outputs": [],
   "source": []
  },
  {
   "cell_type": "markdown",
   "metadata": {
    "deletable": false,
    "editable": false,
    "hide_input": false,
    "nbgrader": {
     "cell_type": "markdown",
     "checksum": "3ca797a18ab311c9854efac08ab0726d",
     "grade": false,
     "grade_id": "cell-f7a0f3930c139b61",
     "locked": true,
     "schema_version": 3,
     "solution": false,
     "task": false
    },
    "run_control": {
     "frozen": true
    }
   },
   "source": [
    "_<span style=\"font-size:20px; text-decoration: underline;\">Application :</span>_ <br/>\n",
    "<span style=\"margin-left:30px;\"></span>Soit à écrire un programme Python qui accepte deux nombres a et b puis calcule et affiche le résultat de la formule suivante : $(a-b)*a^2$.\n",
    "\n",
    "On vous demande d’appliquer la démarche de résolution des problèmes vus précédemment pour résoudre cette application."
   ]
  },
  {
   "cell_type": "code",
   "execution_count": null,
   "metadata": {
    "deletable": false,
    "editable": false,
    "hide_input": true,
    "init_cell": true,
    "nbgrader": {
     "cell_type": "code",
     "checksum": "f472194b65e09552de46874cf48e5ec9",
     "grade": false,
     "grade_id": "cell-6131ff77e9f0feee",
     "locked": true,
     "schema_version": 3,
     "solution": false,
     "task": false
    }
   },
   "outputs": [],
   "source": [
    "display(HTML(\"\"\" <iframe width=\"100%\" height=\"1080\" frameborder=\"0\"\n",
    "                    src=\"https://sofuspy.herokuapp.com/sofuspy/run.html\"> </iframe> \"\"\"))"
   ]
  },
  {
   "cell_type": "code",
   "execution_count": null,
   "metadata": {},
   "outputs": [],
   "source": []
  },
  {
   "cell_type": "code",
   "execution_count": null,
   "metadata": {
    "deletable": false,
    "editable": false,
    "hide_input": true,
    "init_cell": true,
    "nbgrader": {
     "cell_type": "code",
     "checksum": "572ef128d17a65be1dc27ac23e5fd51c",
     "grade": false,
     "grade_id": "cell-fffeef2ce00941f5",
     "locked": true,
     "schema_version": 3,
     "solution": false,
     "task": false
    }
   },
   "outputs": [],
   "source": [
    "display(HTML(\"\"\" <iframe width=\"100%\" height=\"650px\" frameborder=\"0\"\n",
    "                    src=\"https://myquiz2.herokuapp.com/quiz/demarche-resolution\"> </iframe> \"\"\"))"
   ]
  }
 ],
 "metadata": {
  "kernelspec": {
   "display_name": "Python 3",
   "language": "python",
   "name": "python3"
  },
  "language_info": {
   "codemirror_mode": {
    "name": "ipython",
    "version": 3
   },
   "file_extension": ".py",
   "mimetype": "text/x-python",
   "name": "python",
   "nbconvert_exporter": "python",
   "pygments_lexer": "ipython3",
   "version": "3.7.3"
  }
 },
 "nbformat": 4,
 "nbformat_minor": 4
}
