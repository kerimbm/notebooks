{
 "cells": [
  {
   "cell_type": "code",
   "execution_count": null,
   "metadata": {
    "deletable": false,
    "editable": false,
    "hide_input": true,
    "init_cell": true,
    "nbgrader": {
     "cell_type": "code",
     "checksum": "a2cbc5eb7813591da89142f01043ab0c",
     "grade": false,
     "grade_id": "cell-834baa7c4d11a911",
     "locked": true,
     "schema_version": 3,
     "solution": false,
     "task": false
    }
   },
   "outputs": [],
   "source": [
    "from IPython.display import HTML, display\n",
    "from IPython.core.magic import register_line_cell_magic\n",
    "import urllib.request\n",
    "\n",
    "@register_line_cell_magic\n",
    "def tutor(line, cell):\n",
    "    code = urllib.parse.urlencode({\"code\": cell})\n",
    "    display(HTML(\"\"\"\n",
    "    <iframe width=\"970\" height=\"500px\" frameborder=\"0\"\n",
    "            src=\"http://pythontutor.com/iframe-embed.html#%s&py=3\">\n",
    "    </iframe>\n",
    "    \"\"\" % code))"
   ]
  },
  {
   "cell_type": "markdown",
   "metadata": {
    "deletable": false,
    "editable": false,
    "run_control": {
     "frozen": true
    }
   },
   "source": [
    "<div style=\"background-color:#fff5f5;border:2px solid #faa;padding:20px 0 10px 0;\">\n",
    "    <div style=\"margin-left:30px;font-size:28px;color: #009955;\">Objectifs :</div>\n",
    "    <div style=\"font-size:18px;color: #0077cc;line-height:35px;margin-left:70px;\">\n",
    "        <ul>\n",
    "<li>Distinguer les usages et les particularités de chaque type de données, afin d’utiliser le plus adapté pour déclarer un objet nécessaire dans la résolution d’un problème donné.</li>\n",
    "<li>Connaître les différentes manipulations sur les tableaux.</li>\n",
    "<li>Utiliser des fonctions et des méthodes prédéfinis pour manipuler les listes.</li>\n",
    "<li>Traduire un algorithme en un programme exécutable.</li>\n",
    "<li>Écrire un programme pour résoudre un problème.</li>\n",
    "        </ul>\n",
    "    </div>\n",
    "</div>"
   ]
  },
  {
   "cell_type": "markdown",
   "metadata": {
    "deletable": false,
    "editable": false,
    "run_control": {
     "frozen": true
    }
   },
   "source": [
    "<span style=\"font-size:20px; text-decoration: underline;\">_Rappel :_</span> <br/>\n",
    "<span style=\"margin-left:30px;\"></span>Soit les deux chaînes de caractères suivantes :<br>"
   ]
  },
  {
   "cell_type": "code",
   "execution_count": null,
   "metadata": {
    "init_cell": true
   },
   "outputs": [],
   "source": [
    "A = \"évennement\"\n",
    "B = \"affichage\""
   ]
  },
  {
   "cell_type": "markdown",
   "metadata": {
    "deletable": false,
    "editable": false,
    "run_control": {
     "frozen": true
    }
   },
   "source": [
    "1. Vérifier que la première lettre de la variable ```B``` est en minuscule :"
   ]
  },
  {
   "cell_type": "code",
   "execution_count": null,
   "metadata": {},
   "outputs": [],
   "source": [
    "..."
   ]
  },
  {
   "cell_type": "markdown",
   "metadata": {
    "deletable": false,
    "editable": false,
    "nbgrader": {
     "cell_type": "markdown",
     "checksum": "61f2657eb7bc53f24ecad1e0e39fe604",
     "grade": false,
     "grade_id": "cell-1ddd3a23f9a4938b",
     "locked": true,
     "schema_version": 3,
     "solution": false,
     "task": false
    },
    "run_control": {
     "frozen": true
    }
   },
   "source": [
    "2. En utilisant les techniques de séléction et de concaténation seulement, écrire un progamme Python qui permet de construire à partir de ces deux chaînes de caractères une troisième chaîne ```C``` qui contienne le mot \"affinement\" :"
   ]
  },
  {
   "cell_type": "code",
   "execution_count": null,
   "metadata": {},
   "outputs": [],
   "source": [
    "..."
   ]
  },
  {
   "cell_type": "markdown",
   "metadata": {
    "deletable": false,
    "editable": false,
    "nbgrader": {
     "cell_type": "markdown",
     "checksum": "3cd1cddec801191fe488006b8282c634",
     "grade": false,
     "grade_id": "cell-85469895f6dfb167",
     "locked": true,
     "schema_version": 3,
     "solution": false,
     "task": false
    }
   },
   "source": [
    "<span style=\"margin-left:30px;font-size:28px;color: #005599;\">IV- Les Types de Données et les Expressions :</span><br>\n",
    "\n",
    "<span style=\"margin-left:60px;font-size:20px;color: #0077cc;\">6- Les tableaux :</span><br>\n",
    "\n",
    "<span style=\"font-size:20px; text-decoration: underline;\">_a- Définition :_</span> <br/>\n",
    "<span style=\"margin-left:30px;\"></span>Un tableau est une collection ordonnée d’éléments de même type accessibles à l’aide des indices.\n",
    "\n",
    "Il est caractérisé par :\n",
    "- Son nom (identificateur)\n",
    "- Sa taille (nombre d’éléments qu’il contient)\n",
    "- Le type des éléments qu’il contient.\n",
    "\n",
    "<span style=\"font-size:20px; text-decoration: underline;\">_b- Syntaxe :_</span> <br/>\n",
    "\n",
    "<img src=\"https://coursenligne.edublogs.org/files/2021/08/tab-algo.png\">\n",
    "\n",
    "<span style=\"font-size:20px; text-decoration: underline;\">_Exemple :_</span> <br/>\n",
    "\n",
    "<img src=\"https://coursenligne.edublogs.org/files/2021/08/tab-algo-exp.png\">\n",
    "\n",
    "<span style=\"font-size:20px; text-decoration: underline;\">_Remarque :_</span> <br/>\n",
    "\n",
    "- Le type tableau correspond au type list en Python.\n",
    "- En Python :\n",
    "  - Une variable de type list peut accepter des éléments hétérogènes (de types différents).\n",
    "  - On peut utiliser une variable de type list sans spécifier sa taille.\n",
    "        \n",
    "<span style=\"font-size:20px; text-decoration: underline;\">_c- Création de liste :_</span> <br/>\n",
    "\n",
    "<span style=\"font-size:20px; text-decoration: underline;\">_Activité :_</span> <br/>\n",
    "1. Créer une liste ```L1``` vide :"
   ]
  },
  {
   "cell_type": "code",
   "execution_count": null,
   "metadata": {
    "init_cell": true
   },
   "outputs": [],
   "source": [
    "L1 = []                         # Déclaration d’une liste vide"
   ]
  },
  {
   "cell_type": "markdown",
   "metadata": {
    "deletable": false,
    "editable": false,
    "run_control": {
     "frozen": true
    }
   },
   "source": [
    "2. Afficher la liste ```L1``` :"
   ]
  },
  {
   "cell_type": "code",
   "execution_count": null,
   "metadata": {},
   "outputs": [],
   "source": [
    "..."
   ]
  },
  {
   "cell_type": "markdown",
   "metadata": {
    "deletable": false,
    "editable": false,
    "run_control": {
     "frozen": true
    }
   },
   "source": [
    "3. Créer puis afficher une liste ```L2``` qui contienne les éléments suivants ```['Ahmed', 'Omar', 6]``` :"
   ]
  },
  {
   "cell_type": "code",
   "execution_count": null,
   "metadata": {},
   "outputs": [],
   "source": [
    "...                             # Initialisation d’une liste à sa création\n",
    "print(...)"
   ]
  },
  {
   "cell_type": "markdown",
   "metadata": {
    "deletable": false,
    "editable": false,
    "run_control": {
     "frozen": true
    }
   },
   "source": [
    "4. Créer puis afficher une liste ```L3``` qui contienne des entiers de ```0``` a ```99``` :"
   ]
  },
  {
   "cell_type": "code",
   "execution_count": null,
   "metadata": {},
   "outputs": [],
   "source": [
    "...                             # Initialisation d’une liste en utilisant la fonction range()\n",
    "..."
   ]
  },
  {
   "cell_type": "markdown",
   "metadata": {
    "deletable": false,
    "editable": false,
    "nbgrader": {
     "cell_type": "markdown",
     "checksum": "bb369ed9d20360c7054d86d51686974b",
     "grade": false,
     "grade_id": "cell-1527899b9de18c99",
     "locked": true,
     "schema_version": 3,
     "solution": false,
     "task": false
    },
    "run_control": {
     "frozen": true
    }
   },
   "source": [
    "<span style=\"font-size:20px; text-decoration: underline;\">_d- Parcours de liste par indice :_</span> <br/>\n",
    "\n",
    "<span style=\"font-size:20px; text-decoration: underline;\">_Activité :_</span> <br/>\n",
    "<span style=\"margin-left:30px;\"></span>Soit la liste suivante :"
   ]
  },
  {
   "cell_type": "code",
   "execution_count": null,
   "metadata": {
    "init_cell": true
   },
   "outputs": [],
   "source": [
    "li = [5, 2.33, 'e']"
   ]
  },
  {
   "cell_type": "markdown",
   "metadata": {
    "deletable": false,
    "editable": false,
    "run_control": {
     "frozen": true
    }
   },
   "source": [
    "- Ecrire l'instruction Python qui affiche le $1^{er}$ élément de la liste ```li```."
   ]
  },
  {
   "cell_type": "code",
   "execution_count": null,
   "metadata": {},
   "outputs": [],
   "source": [
    "print(......)"
   ]
  },
  {
   "cell_type": "markdown",
   "metadata": {
    "deletable": false,
    "editable": false,
    "run_control": {
     "frozen": true
    }
   },
   "source": [
    "- Ecrire l'instruction Python qui affiche le dernier élément de la liste ```li```.\n"
   ]
  },
  {
   "cell_type": "code",
   "execution_count": null,
   "metadata": {},
   "outputs": [],
   "source": [
    "print(......)"
   ]
  },
  {
   "cell_type": "markdown",
   "metadata": {
    "deletable": false,
    "editable": false,
    "run_control": {
     "frozen": true
    }
   },
   "source": [
    "- Essayer de remplacer le $1^{er}$ élément de la liste par la lettre ```'z'```"
   ]
  },
  {
   "cell_type": "code",
   "execution_count": null,
   "metadata": {},
   "outputs": [],
   "source": [
    "li[...] = 'z'\n",
    "print(li[0])"
   ]
  },
  {
   "cell_type": "markdown",
   "metadata": {
    "deletable": false,
    "editable": false,
    "nbgrader": {
     "cell_type": "markdown",
     "checksum": "a0c18ca0c6c7e7f9deb5d55b9c166fed",
     "grade": false,
     "grade_id": "cell-ec6ff80a9c0b5efa",
     "locked": true,
     "schema_version": 3,
     "solution": false,
     "task": false
    },
    "run_control": {
     "frozen": true
    }
   },
   "source": [
    "<span style=\"font-size:20px; text-decoration: underline;\">_Remarque :_</span> <br/>\n",
    "- On accède aux éléments d’une liste de la même façon qu’on accède aux caractères d’une chaîne.\n",
    "- Contrairement au type ```str```, le type ```list``` permet de remplacer un élément par un autre."
   ]
  },
  {
   "cell_type": "markdown",
   "metadata": {
    "deletable": false,
    "editable": false,
    "nbgrader": {
     "cell_type": "markdown",
     "checksum": "d65974717655957acad64f0e8df24b2f",
     "grade": false,
     "grade_id": "cell-fd55866106f6831c",
     "locked": true,
     "schema_version": 3,
     "solution": false,
     "task": false
    },
    "run_control": {
     "frozen": true
    }
   },
   "source": [
    "<span style=\"font-size:20px; text-decoration: underline;\">_e- Sélection de liste :_</span> <br/>\n",
    "<span style=\"margin-left:30px;\"></span>Le principe de sélection de liste est identique à celle utilisé avec les chaînes de caractères. Ainsi, la syntaxe est la suivante :\n",
    "\n",
    "```li [ deb : fin : pas ]```\n",
    "\n",
    "<span style=\"font-size:20px; text-decoration: underline;\">_Activité :_</span> <br/>\n",
    "<span style=\"margin-left:30px;\"></span>Soit la liste suivante : ```li = ['Un', 'Deux', 'Trois', 'Quatre', 'Cinq']```\n",
    "- Ecrire l'instruction Python qui affiche les deux premiers éléments :"
   ]
  },
  {
   "cell_type": "code",
   "execution_count": null,
   "metadata": {},
   "outputs": [],
   "source": [
    "li = ['Un', 'Deux', 'Trois', 'Quatre', 'Cinq']\n",
    "print(......)"
   ]
  },
  {
   "cell_type": "markdown",
   "metadata": {
    "deletable": false,
    "editable": false,
    "run_control": {
     "frozen": true
    }
   },
   "source": [
    "- Ecrire l'instruction Python qui affiche le reste de la liste."
   ]
  },
  {
   "cell_type": "code",
   "execution_count": null,
   "metadata": {},
   "outputs": [],
   "source": [
    "print(......)                   # Sélectionner toute la liste sauf les 2 premiers éléments"
   ]
  },
  {
   "cell_type": "markdown",
   "metadata": {
    "deletable": false,
    "editable": false,
    "nbgrader": {
     "cell_type": "markdown",
     "checksum": "c333c1f421f34111d493d9d2bcc098ce",
     "grade": false,
     "grade_id": "cell-5e7e5fa7446b9f39",
     "locked": true,
     "schema_version": 3,
     "solution": false,
     "task": false
    },
    "run_control": {
     "frozen": true
    }
   },
   "source": [
    "<span style=\"font-size:20px; text-decoration: underline;\">_Remarque :_</span> <br/>\n",
    "- La sélection consiste alors, à extraire un ensemble d’éléments de la liste. Cette opération renvoie la partie sélectionnée, sans modifier la liste d’origine."
   ]
  },
  {
   "cell_type": "markdown",
   "metadata": {
    "deletable": false,
    "editable": false,
    "nbgrader": {
     "cell_type": "markdown",
     "checksum": "932fe77ec20866afb720bd2d497157d9",
     "grade": false,
     "grade_id": "cell-41e934fefe9e74ab",
     "locked": true,
     "schema_version": 3,
     "solution": false,
     "task": false
    },
    "run_control": {
     "frozen": true
    }
   },
   "source": [
    "<span style=\"font-size:20px; text-decoration: underline;\">_f- Ajouter un élément à la fin de la liste :_</span> <br/>\n",
    "<span style=\"margin-left:30px;\"></span>On utilise la méthode ```append(element)``` pour ajouter un élément à la fin d'une liste.\n",
    "\n",
    "<span style=\"font-size:20px; text-decoration: underline;\">_Activité :_</span> <br/>\n",
    "<span style=\"margin-left:30px;\"></span>Soit la liste suivante : ```li = [31, 32, 33, 34, 'Fin']```\n",
    "- Ecrire l'instruction Python qui ajoute à la fin de cette liste l'élément ```35``` :"
   ]
  },
  {
   "cell_type": "code",
   "execution_count": null,
   "metadata": {},
   "outputs": [],
   "source": [
    "li = [31, 32, 33, 34, 'Fin']\n",
    "li.append(...)            # Ajouter 35 à la fin de la liste\n",
    "print(li)"
   ]
  },
  {
   "cell_type": "markdown",
   "metadata": {
    "deletable": false,
    "editable": false,
    "nbgrader": {
     "cell_type": "markdown",
     "checksum": "f4170ca91920b7873d536ff2303fcbcb",
     "grade": false,
     "grade_id": "cell-339eac3f73d750ca",
     "locked": true,
     "schema_version": 3,
     "solution": false,
     "task": false
    },
    "run_control": {
     "frozen": true
    }
   },
   "source": [
    "<span style=\"font-size:20px; text-decoration: underline;\">_Remarque :_</span> <br/>\n",
    "- On passe en paramètre de la méthode ```append()``` l'objet que l'on souhaite ajouter à la fin de la liste.\n"
   ]
  },
  {
   "cell_type": "code",
   "execution_count": null,
   "metadata": {
    "deletable": false,
    "editable": false,
    "hide_input": true,
    "init_cell": true
   },
   "outputs": [],
   "source": [
    "display(HTML(\"\"\" <iframe style=\"border: 1px solid #aaa; width:100%; height:calc(100vw * 0.5625);\" frameborder=\"0\"  \n",
    "                    src=\"https://coursenligne.edublogs.org/files/2021/08/liste.mp4\"> </iframe> \"\"\"))"
   ]
  },
  {
   "cell_type": "markdown",
   "metadata": {
    "deletable": false,
    "editable": false,
    "nbgrader": {
     "cell_type": "markdown",
     "checksum": "0982b8191533ace26bcec5e6bff9a948",
     "grade": false,
     "grade_id": "cell-5b82890b5c066354",
     "locked": true,
     "schema_version": 3,
     "solution": false,
     "task": false
    },
    "run_control": {
     "frozen": true
    }
   },
   "source": [
    "<span style=\"font-size:20px; text-decoration: underline;\">_g- Insérer un élément dans la liste :_</span> <br/>\n",
    "<span style=\"margin-left:30px;\"></span>Pour insérer un objet dans une liste à l'endroit voulu, on utilise la méthode ```insert(element, pos)```.\n",
    "\n",
    "<span style=\"font-size:20px; text-decoration: underline;\">_Activité :_</span> <br/>\n",
    "<span style=\"margin-left:30px;\"></span>Soit la liste suivante : ```li = ['Premier', 'Troisième', 'Quatrième']```\n",
    "- Ecrire les instructions Python qui insère l'élément ```'Deuxième'``` à la position adéquate :"
   ]
  },
  {
   "cell_type": "code",
   "execution_count": null,
   "metadata": {},
   "outputs": [],
   "source": [
    "li = ['Premier', 'Troisième', 'Quatrième']\n",
    "li.insert(..., ...)\n",
    "print(li)"
   ]
  },
  {
   "cell_type": "markdown",
   "metadata": {
    "deletable": false,
    "editable": false,
    "nbgrader": {
     "cell_type": "markdown",
     "checksum": "0bade2dbc7e7f9e0c20bc61189e5189e",
     "grade": false,
     "grade_id": "cell-3b0d88f8bacadc4d",
     "locked": true,
     "schema_version": 3,
     "solution": false,
     "task": false
    },
    "run_control": {
     "frozen": true
    }
   },
   "source": [
    "<span style=\"font-size:20px; text-decoration: underline;\">_h- Concaténation de listes :_</span> <br/>\n",
    "<span style=\"margin-left:30px;\"></span>On peut également agrandir des listes en les concaténant avec d'autres.\n",
    "\n",
    "<span style=\"font-size:20px; text-decoration: underline;\">_Activité :_</span> <br/>\n",
    "<span style=\"margin-left:30px;\"></span>Soit les deux listes suivantes : ```l1 = ['Clavier', 16]``` et ```l2 = ['Souris', 6]```\n",
    "- Quelle est l’instruction qui permet de concaténer ces deux listes dans la liste ```l1```."
   ]
  },
  {
   "cell_type": "code",
   "execution_count": null,
   "metadata": {},
   "outputs": [],
   "source": [
    "l1 = ['Clavier', 16]         # Créer une liste de 2 éléments\n",
    "l2 = ['Souris', 6]        # Créer une autre liste de 2 éléments\n",
    "l1 ... l2              # Insèrer l2 à la fin de la liste l1\n",
    "print(l1)"
   ]
  },
  {
   "cell_type": "code",
   "execution_count": null,
   "metadata": {},
   "outputs": [],
   "source": [
    "l1 = ['Clavier', 16]         # Créer une liste de 2 éléments\n",
    "l2 = ['Souris', 6]        # Créer une autre liste de 2 éléments\n",
    "l1.extend(...)         # Identique à l1 += l2\n",
    "print(l1)"
   ]
  },
  {
   "cell_type": "markdown",
   "metadata": {
    "deletable": false,
    "editable": false,
    "nbgrader": {
     "cell_type": "markdown",
     "checksum": "ea3605dd7d171ae422fa50991a8f6925",
     "grade": false,
     "grade_id": "cell-dd00ada32304907c",
     "locked": true,
     "schema_version": 3,
     "solution": false,
     "task": false
    },
    "run_control": {
     "frozen": true
    }
   },
   "source": [
    "<span style=\"font-size:20px; text-decoration: underline;\">_i- Suppression d'éléments d'une liste :_</span> <br/>\n",
    "<span style=\"margin-left:30px;\"></span>Trois méthodes permettent de supprimer des éléments d’une liste :\n",
    "-\tUtiliser la méthode ```remove()```\n",
    "-\tUtiliser la fonction ```del()```\n",
    "-\tUtiliser le remplacement par une liste vide\n",
    "\n",
    "<span style=\"font-size:20px; text-decoration: underline;\">_Activité :_</span> <br/>\n",
    "<span style=\"margin-left:30px;\"></span>Soit la liste suivante : ```li = [0, 1, 'a', 'b', 3, 4]```<br>\n",
    "Ecrire les instructions qui :\n",
    "- Supprime l'élément ```'b'``` en utilisant la méthode ```remove()```"
   ]
  },
  {
   "cell_type": "code",
   "execution_count": null,
   "metadata": {},
   "outputs": [],
   "source": [
    "li = [0, 1, 'a', 'b', 3, 4]  # Créer une liste de 6 éléments\n",
    "li.remove(...)               # Rechercher et supprimer l’élément ‘b’\n",
    "print(li)"
   ]
  },
  {
   "cell_type": "markdown",
   "metadata": {
    "deletable": false,
    "editable": false,
    "run_control": {
     "frozen": true
    }
   },
   "source": [
    "- Supprime l'élément d'indice ```2``` en utilisant la fonction ```del()```"
   ]
  },
  {
   "cell_type": "code",
   "execution_count": null,
   "metadata": {},
   "outputs": [],
   "source": [
    "del(li[...])                   # Supprimer l’élément 2 de la liste li\n",
    "print(li)"
   ]
  },
  {
   "cell_type": "markdown",
   "metadata": {
    "deletable": false,
    "editable": false,
    "run_control": {
     "frozen": true
    }
   },
   "source": [
    "- Supprime la tranche ```[1:3]``` en utilisant la technique de remplacement"
   ]
  },
  {
   "cell_type": "code",
   "execution_count": null,
   "metadata": {},
   "outputs": [],
   "source": [
    "li[...] = ...                # Remplacer la tranche [1:3] par une liste\n",
    "print(li)                    # vide, ce qui correspond à un effacement."
   ]
  },
  {
   "cell_type": "markdown",
   "metadata": {
    "deletable": false,
    "editable": false,
    "nbgrader": {
     "cell_type": "markdown",
     "checksum": "a1f1e579b3e6e4c8f5868581dba6fe65",
     "grade": false,
     "grade_id": "cell-d08ae158c7c93453",
     "locked": true,
     "schema_version": 3,
     "solution": false,
     "task": false
    },
    "run_control": {
     "frozen": true
    }
   },
   "source": [
    "<span style=\"font-size:20px; text-decoration: underline;\">_Remarque :_</span> <br/>\n",
    "- La fonction ```del()``` travaille avec une indice ou une tranche d’indice, tandis que ```remove()``` recherche une valeur (si plusieurs éléments de la liste possèdent la même valeur, seul le premier est effacé).\n",
    "\n",
    "<span style=\"font-size:20px; text-decoration: underline;\">_j- Tri des éléments d’une liste :_</span> <br/>\n",
    "<span style=\"margin-left:30px;\"></span>Pour trier les éléments d'une liste, on utilise la méthode ```sort()```.\n",
    "\n",
    "<span style=\"font-size:20px; text-decoration: underline;\">_Activité :_</span> <br/>\n",
    "<span style=\"margin-left:30px;\"></span>Soit la liste suivante : ```li = [5, 2, 4, 0, 1, 3]```<br>\n",
    "Ecrire les instructions Python qui permettent de :\n",
    "- Trier la liste ```li```"
   ]
  },
  {
   "cell_type": "code",
   "execution_count": null,
   "metadata": {},
   "outputs": [],
   "source": [
    "li = [5, 2, 4, 0, 1, 3] # Créer une liste de 6 éléments\n",
    ".........               # Trier la liste avec la méthode sort()\n",
    "print(li)"
   ]
  },
  {
   "cell_type": "markdown",
   "metadata": {
    "deletable": false,
    "editable": false,
    "run_control": {
     "frozen": true
    }
   },
   "source": [
    "- Inverser la liste ```li```"
   ]
  },
  {
   "cell_type": "code",
   "execution_count": null,
   "metadata": {},
   "outputs": [],
   "source": [
    "............            # La méthode reverse() permet d’inverser les\n",
    "print(li)               # éléments d’une liste, identique à : li = li[::-1]"
   ]
  },
  {
   "cell_type": "markdown",
   "metadata": {
    "deletable": false,
    "editable": false,
    "run_control": {
     "frozen": true
    }
   },
   "source": [
    "<span style=\"font-size:20px; text-decoration: underline;\">_Application 1 :_</span> <br/>\n",
    "<span style=\"margin-left:30px;\"></span>Soit la liste ```semaine``` suivante :\n",
    "```python\n",
    "semaine=[\"Lundi\", \"Mardi\", \"Mercredi\", \"Jeudi\", \"Dimanche\", \"Vendredi\", \"Samedi\"]\n",
    "```\n",
    "Ecrire le code python qui permet de :\n",
    "- Supprimer ```\"Dimanche\"``` de la liste"
   ]
  },
  {
   "cell_type": "code",
   "execution_count": null,
   "metadata": {},
   "outputs": [],
   "source": [
    "semaine=[\"Lundi\", \"Mardi\", \"Mercredi\", \"Jeudi\", \"Dimanche\", \"Vendredi\", \"Samedi\"]\n",
    "...\n",
    "print(semaine)"
   ]
  },
  {
   "cell_type": "markdown",
   "metadata": {
    "deletable": false,
    "editable": false,
    "run_control": {
     "frozen": true
    }
   },
   "source": [
    "- Ajouter ```\"Dimanche\"``` à la fin de la liste"
   ]
  },
  {
   "cell_type": "code",
   "execution_count": null,
   "metadata": {},
   "outputs": [],
   "source": [
    "...\n",
    "print(semaine)"
   ]
  },
  {
   "cell_type": "markdown",
   "metadata": {
    "deletable": false,
    "editable": false,
    "run_control": {
     "frozen": true
    }
   },
   "source": [
    "- Afficher seulement les cinq premiers jours de la semaine"
   ]
  },
  {
   "cell_type": "code",
   "execution_count": null,
   "metadata": {},
   "outputs": [],
   "source": [
    "print(...)"
   ]
  },
  {
   "cell_type": "markdown",
   "metadata": {
    "deletable": false,
    "editable": false,
    "run_control": {
     "frozen": true
    }
   },
   "source": [
    "- Afficher les jours du week-end"
   ]
  },
  {
   "cell_type": "code",
   "execution_count": null,
   "metadata": {},
   "outputs": [],
   "source": [
    "print(...)"
   ]
  },
  {
   "cell_type": "markdown",
   "metadata": {
    "deletable": false,
    "editable": false,
    "run_control": {
     "frozen": true
    }
   },
   "source": [
    "- Inversez les jours de la semaine en une seule instruction python"
   ]
  },
  {
   "cell_type": "code",
   "execution_count": null,
   "metadata": {},
   "outputs": [],
   "source": [
    "...\n",
    "print(semaine)"
   ]
  },
  {
   "cell_type": "markdown",
   "metadata": {
    "deletable": false,
    "editable": false,
    "run_control": {
     "frozen": true
    }
   },
   "source": [
    "<span style=\"font-size:20px; text-decoration: underline;\">_Application 2 :_</span> <br/>\n",
    "<span style=\"margin-left:30px;\"></span>Soit la liste :\n",
    "```python\n",
    "L = [0, 1, 2, 3, 3.5, 5, 6, 6]\n",
    "```"
   ]
  },
  {
   "cell_type": "markdown",
   "metadata": {
    "deletable": false,
    "editable": false,
    "run_control": {
     "frozen": true
    }
   },
   "source": [
    "1. Ajouter ```1``` au dernier élément de la liste ```L```."
   ]
  },
  {
   "cell_type": "code",
   "execution_count": null,
   "metadata": {},
   "outputs": [],
   "source": [
    "..."
   ]
  },
  {
   "cell_type": "markdown",
   "metadata": {
    "deletable": false,
    "editable": false,
    "run_control": {
     "frozen": true
    }
   },
   "source": [
    "2. Ajouter l'élément ```8``` à la fin de la liste."
   ]
  },
  {
   "cell_type": "code",
   "execution_count": null,
   "metadata": {},
   "outputs": [],
   "source": [
    "..."
   ]
  },
  {
   "cell_type": "markdown",
   "metadata": {
    "deletable": false,
    "editable": false,
    "run_control": {
     "frozen": true
    }
   },
   "source": [
    "3. Afficher le premier élément, les deux premiers éléments, le dernier élément, les deux derniers éléments de la liste ```L```."
   ]
  },
  {
   "cell_type": "code",
   "execution_count": null,
   "metadata": {},
   "outputs": [],
   "source": [
    "...\n",
    "...\n",
    "...\n",
    "..."
   ]
  },
  {
   "cell_type": "markdown",
   "metadata": {
    "deletable": false,
    "editable": false,
    "run_control": {
     "frozen": true
    }
   },
   "source": [
    "4. Ajouter l'élément ```4``` entre ```3.5``` et ```5```."
   ]
  },
  {
   "cell_type": "code",
   "execution_count": null,
   "metadata": {},
   "outputs": [],
   "source": [
    "..."
   ]
  },
  {
   "cell_type": "markdown",
   "metadata": {
    "deletable": false,
    "editable": false,
    "run_control": {
     "frozen": true
    }
   },
   "source": [
    "5. Supprimer l'élément ```3.5```."
   ]
  },
  {
   "cell_type": "code",
   "execution_count": null,
   "metadata": {},
   "outputs": [],
   "source": [
    "..."
   ]
  },
  {
   "cell_type": "markdown",
   "metadata": {
    "deletable": false,
    "editable": false,
    "run_control": {
     "frozen": true
    }
   },
   "source": [
    "6. Inverser l'ordre des éléments de ```L```."
   ]
  },
  {
   "cell_type": "code",
   "execution_count": null,
   "metadata": {},
   "outputs": [],
   "source": [
    "..."
   ]
  },
  {
   "cell_type": "markdown",
   "metadata": {
    "deletable": false,
    "editable": false,
    "nbgrader": {
     "cell_type": "markdown",
     "checksum": "ae355202cc940cff705da447c137d992",
     "grade": false,
     "grade_id": "cell-079629c3b6154cd0",
     "locked": true,
     "schema_version": 3,
     "solution": false,
     "task": false
    },
    "run_control": {
     "frozen": true
    }
   },
   "source": [
    "<span style=\"font-size:20px; text-decoration: underline;\">_Application 3 :_</span> <br/>\n",
    "<span style=\"margin-left:30px;\"></span>Ecrire l'analyse, l'algorithme et la traduction en Python d'un programme qui permet de saisir trois chaines dans une liste ```li``` puis de la trier et d’afficher chaque chaine avec sa longueur.\n",
    "\n",
    "<span style=\"font-size:20px; text-decoration: underline;\">_Exemple :_</span> <br/>\n",
    "\n",
    "Python<br>\n",
    "Java<br>\n",
    "C++<br>\n",
    "'C++' est de longueur 3<br>\n",
    "'Java' est de longueur 4<br>\n",
    "'Python' est de longueur 6<br>\n"
   ]
  },
  {
   "cell_type": "code",
   "execution_count": null,
   "metadata": {},
   "outputs": [],
   "source": [
    "..."
   ]
  },
  {
   "cell_type": "code",
   "execution_count": null,
   "metadata": {
    "deletable": false,
    "editable": false,
    "hide_input": true,
    "init_cell": true
   },
   "outputs": [],
   "source": [
    "display(HTML(\"\"\" <iframe width=\"100%\" height=\"650px\" frameborder=\"0\"\n",
    "                    src=\"https://myquiz3.herokuapp.com/quiz/tableau\"> </iframe> \"\"\"))"
   ]
  },
  {
   "cell_type": "markdown",
   "metadata": {
    "deletable": false,
    "editable": false,
    "nbgrader": {
     "cell_type": "markdown",
     "checksum": "9a969b10db145462d87dda6b2fefd968",
     "grade": false,
     "grade_id": "cell-f3362ebdd96577fe",
     "locked": true,
     "schema_version": 3,
     "solution": false,
     "task": false
    },
    "run_control": {
     "frozen": true
    }
   },
   "source": [
    "<span style=\"font-size:20px; text-decoration: underline;\">_Exercices :_</span> 10 et 18 (Série I)."
   ]
  }
 ],
 "metadata": {
  "kernelspec": {
   "display_name": "Python 3",
   "language": "python",
   "name": "python3"
  },
  "language_info": {
   "codemirror_mode": {
    "name": "ipython",
    "version": 3
   },
   "file_extension": ".py",
   "mimetype": "text/x-python",
   "name": "python",
   "nbconvert_exporter": "python",
   "pygments_lexer": "ipython3",
   "version": "3.7.3"
  }
 },
 "nbformat": 4,
 "nbformat_minor": 4
}
