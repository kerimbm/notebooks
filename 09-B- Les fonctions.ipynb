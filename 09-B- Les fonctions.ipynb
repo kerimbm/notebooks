{
 "cells": [
  {
   "cell_type": "code",
   "execution_count": 11,
   "metadata": {
    "deletable": false,
    "editable": false,
    "hide_input": true,
    "init_cell": true,
    "nbgrader": {
     "grade": false,
     "grade_id": "cell-aab5847837a1580d",
     "locked": true,
     "schema_version": 3,
     "solution": false,
     "task": false
    }
   },
   "outputs": [],
   "source": [
    "from IPython.display import HTML, display\n",
    "from IPython.core.magic import register_line_cell_magic\n",
    "import urllib.request\n",
    "\n",
    "@register_line_cell_magic\n",
    "def tutor(line, cell):\n",
    "    code = urllib.parse.urlencode({\"code\": cell})\n",
    "    display(HTML(\"\"\"\n",
    "    <iframe width=\"970\" height=\"500px\" frameborder=\"0\"\n",
    "            src=\"http://pythontutor.com/iframe-embed.html#%s&py=3\">\n",
    "    </iframe>\n",
    "    \"\"\" % code))"
   ]
  },
  {
   "cell_type": "markdown",
   "metadata": {
    "deletable": false,
    "editable": false,
    "run_control": {
     "frozen": true
    }
   },
   "source": [
    "<div style=\"background-color:#fff5f5;border:2px solid #faa;padding:20px 0 10px 0;\">\n",
    "    <div style=\"margin-left:30px;font-size:28px;color: #009955;\">Objectifs :</div>\n",
    "    <div style=\"font-size:18px;color: #0077cc;line-height:35px;margin-left:70px;\">\n",
    "        <ul>\n",
    "<li>Découvrir l’utilité d’une fonction.</li>\n",
    "<li>Identifier des sous-problèmes pertinents (modules).</li>\n",
    "<li>Identifier les éléments principaux d’un module (Type, paramètres, résultat, etc.).</li>\n",
    "<li>Acquérir la capacité de décomposer un problème en sous-problèmes : décomposition logique.</li>\n",
    "<li>Exécuter une solution implémentée.</li>\n",
    "        </ul>\n",
    "    </div>\n",
    "</div>"
   ]
  },
  {
   "cell_type": "markdown",
   "metadata": {
    "deletable": false,
    "editable": false,
    "run_control": {
     "frozen": true
    }
   },
   "source": [
    "<span style=\"font-size:20px; text-decoration: underline;\">_Rappel :_</span> <br/>\n",
    "<span style=\"margin-left:30px;\"></span>Soit la liste mois suivante :"
   ]
  },
  {
   "cell_type": "code",
   "execution_count": 12,
   "metadata": {
    "init_cell": true
   },
   "outputs": [],
   "source": [
    "mois=[\"Janvier\", \"Fevrier\", \"Mai\", \"Mars\", \"Avril\"]"
   ]
  },
  {
   "cell_type": "markdown",
   "metadata": {
    "deletable": false,
    "editable": false,
    "run_control": {
     "frozen": true
    }
   },
   "source": [
    "Ecrire le code python qui permet de :\n",
    "- Suppimer le mois \"Mai\" de la liste"
   ]
  },
  {
   "cell_type": "code",
   "execution_count": null,
   "metadata": {},
   "outputs": [],
   "source": [
    "...\n",
    "print(mois)"
   ]
  },
  {
   "cell_type": "markdown",
   "metadata": {
    "deletable": false,
    "editable": false,
    "run_control": {
     "frozen": true
    }
   },
   "source": [
    "- Ajouter le mois \"Mai\" à la fin de la liste"
   ]
  },
  {
   "cell_type": "code",
   "execution_count": null,
   "metadata": {},
   "outputs": [],
   "source": [
    "...\n",
    "print(mois)"
   ]
  },
  {
   "cell_type": "markdown",
   "metadata": {
    "deletable": false,
    "editable": false,
    "run_control": {
     "frozen": true
    }
   },
   "source": [
    "- Afficher seulement les deux premiers mois"
   ]
  },
  {
   "cell_type": "code",
   "execution_count": null,
   "metadata": {},
   "outputs": [],
   "source": [
    "print(...)"
   ]
  },
  {
   "cell_type": "markdown",
   "metadata": {
    "deletable": false,
    "editable": false,
    "run_control": {
     "frozen": true
    }
   },
   "source": [
    "- Inversez les mois en une seule instruction python"
   ]
  },
  {
   "cell_type": "code",
   "execution_count": null,
   "metadata": {},
   "outputs": [],
   "source": [
    "...\n",
    "print(mois)"
   ]
  },
  {
   "cell_type": "markdown",
   "metadata": {
    "deletable": false,
    "editable": false,
    "nbgrader": {
     "grade": false,
     "grade_id": "cell-274af9476dab5ef5",
     "locked": true,
     "schema_version": 3,
     "solution": false,
     "task": false
    },
    "run_control": {
     "frozen": true
    }
   },
   "source": [
    "<span style=\"margin-left:30px;font-size:28px;color: #005599;\">V- Les modules :</span><br>\n",
    "\n",
    "<span style=\"margin-left:30px;\"></span>Les modules permettent de décomposer un programme complexe en une série de sous-programmes plus simples. De plus, les modules sont réutilisables : si nous disposons d'un module capable de calculer une racine carrée, par exemple, nous pouvons l'utiliser un peu partout dans notre programme sans avoir à le réécrire à chaque fois.\n",
    "\n",
    "<span style=\"margin-left:60px;font-size:20px;color: #0077cc;\">1- Les fonctions :</span><br>\n",
    "\n",
    "<span style=\"margin-left:30px;\"></span>Il existe, en Python, des modules comme ```print()``` qui ne renvoient rien, et des fonctions telles que ```input()``` qui renvoient une valeur. Vous pouvez capturer cette valeur en plaçant une variable devant (exemple ```x = input()```). En effet, ces fonctions travaillent sur des données passées en paramètre et renvoient le résultat obtenu.\n",
    "\n",
    "<span style=\"font-size:20px; text-decoration: underline;\">_Activité :_</span> <br/>\n",
    "<span style=\"margin-left:30px;\"></span>Citez d’autres fonctions prédéfinies qui renvoient des valeurs.\n",
    "\n",
    "<span style=\"font-size:20px; text-decoration: underline;\">_Remarque :_</span> <br/>\n",
    "<span style=\"margin-left:30px;\"></span>Une fonction en informatique est un peu comme une fonction en mathématiques.<br>\n",
    "Considérons par exemple la fonction affine $f$ suivante définie sur $\\mathbb{R}$ par :<br>\n",
    "$f : x ⟼ 2x + 1$\n",
    "\n",
    "Si vous voulez implémenter cette fonction en Python, il suffira d'écrire :"
   ]
  },
  {
   "cell_type": "code",
   "execution_count": 13,
   "metadata": {
    "init_cell": true
   },
   "outputs": [],
   "source": [
    "def f(x):\n",
    "    y = 2 * x + 1\n",
    "    return y"
   ]
  },
  {
   "cell_type": "markdown",
   "metadata": {
    "deletable": false,
    "editable": false,
    "run_control": {
     "frozen": true
    }
   },
   "source": [
    "<span style=\"margin-left:30px;\"></span>Pour calculer l'image de 1, en mathématiques vous feriez $f(1)$, en Python c'est pareil !\n",
    "Testez :"
   ]
  },
  {
   "cell_type": "code",
   "execution_count": null,
   "metadata": {},
   "outputs": [],
   "source": [
    "f(1)"
   ]
  },
  {
   "cell_type": "markdown",
   "metadata": {
    "deletable": false,
    "editable": false,
    "run_control": {
     "frozen": true
    }
   },
   "source": [
    "<span style=\"font-size:20px; text-decoration: underline;\">_Remarque :_</span> <br/>\n",
    "- Une fonction peut s’utiliser à la droite du signe égal tel que : ```y = sin(a)```, Dans cette expression, la fonction ```sin()``` renvoie une valeur (Le sinus du paramètre) qui est directement affectée à la variable ```y```.\n",
    "- L'instruction ```return``` signifie qu'on va renvoyer la valeur, pour pouvoir la récupérer ensuite et la stocker dans une variable."
   ]
  },
  {
   "cell_type": "markdown",
   "metadata": {
    "deletable": false,
    "editable": false,
    "run_control": {
     "frozen": true
    }
   },
   "source": [
    "<span style=\"font-size:20px; text-decoration: underline;\">_Syntaxe :_</span> <br/>\n",
    "\n",
    "<img src=\"https://coursenligne.edublogs.org/files/2021/08/fonction.png\">\n",
    "\n",
    "<span style=\"font-size:20px; text-decoration: underline;\">_Remarque :_</span> <br/>\n",
    "\n",
    "- Les noms des fonctions doivent obéir aux mêmes règles que celle des noms des variables\n",
    "- Les paramètres formels : Figurent dans la définition de la fonction.\n",
    "- Les paramètres effectifs : Figurent dans l'appel de la fonction.\n",
    "- Lors de l’appel d’une fonction, les paramètres effectifs utilisés doivent être fournis dans le même ordre que celui des paramètres formels correspondants.\n",
    "- Les avantages :<br>\n",
    "<span style=\"margin-left:30px;\"></span>- Meilleure lisibilité.<br>\n",
    "<span style=\"margin-left:30px;\"></span>- Diminution du risque d'erreurs.<br>\n",
    "<span style=\"margin-left:30px;\"></span>- Possibilité de tests sélectifs.<br>\n",
    "<span style=\"margin-left:30px;\"></span>- Réutilisation des fonctions déjà existantes.<br>\n",
    "<span style=\"margin-left:30px;\"></span>- Simplicité de l'entretien.<br>\n",
    "<span style=\"margin-left:30px;\"></span>- Favorisation du travail en équipe.<br>\n",
    "<span style=\"margin-left:30px;\"></span>- …\n"
   ]
  },
  {
   "cell_type": "markdown",
   "metadata": {
    "deletable": false,
    "editable": false,
    "run_control": {
     "frozen": true
    }
   },
   "source": [
    "<span style=\"font-size:20px; text-decoration: underline;\">_Application 1 :_</span> <br/>\n",
    "<span style=\"margin-left:30px;\"></span>Soit le programme suivant :\n",
    "\n",
    "```python\n",
    "def f(x):\n",
    "    y = 3 * x + 2\n",
    "    return y\n",
    "```\n",
    "<span style=\"margin-left:30px;\"></span>Quel est le résultat attendu de $f(4)$ ? Vérifiez votre réponse :"
   ]
  },
  {
   "cell_type": "code",
   "execution_count": null,
   "metadata": {},
   "outputs": [],
   "source": [
    "def f(x):\n",
    "    y = 3 * x + 2\n",
    "    return y\n",
    "\n",
    "..."
   ]
  },
  {
   "cell_type": "markdown",
   "metadata": {
    "deletable": false,
    "editable": false,
    "run_control": {
     "frozen": true
    }
   },
   "source": [
    "<span style=\"font-size:20px; text-decoration: underline;\">_Application 2 :_</span> <br/>\n",
    "<span style=\"margin-left:30px;\"></span>Coder en Python la fonction $f$ définie sur $\\mathbb{R}$ par :<br>\n",
    "$f : x ⟼ x^2+2x+10$"
   ]
  },
  {
   "cell_type": "code",
   "execution_count": null,
   "metadata": {},
   "outputs": [],
   "source": [
    "..."
   ]
  },
  {
   "cell_type": "markdown",
   "metadata": {
    "deletable": false,
    "editable": false,
    "run_control": {
     "frozen": true
    }
   },
   "source": [
    "<span style=\"font-size:20px; text-decoration: underline;\">_Application 3 :_</span> <br/>\n",
    "<span style=\"margin-left:30px;\"></span>Quel est le résultat attendu après l'exécution du programme ci-dessous ?\n",
    "\n",
    "```python\n",
    "def ditBonjour(nom, age):\n",
    "\tphrase = 'Bonjour ' + nom + ', vous avez ' + str(age) + ' ans.'\n",
    "\treturn phrase\n",
    "\n",
    "print(ditBonjour('Ahmed' ,14))\n",
    "print(ditBonjour('Aziz' ,17))\n",
    "```"
   ]
  },
  {
   "cell_type": "code",
   "execution_count": null,
   "metadata": {},
   "outputs": [],
   "source": []
  },
  {
   "cell_type": "markdown",
   "metadata": {
    "deletable": false,
    "editable": false,
    "run_control": {
     "frozen": true
    }
   },
   "source": [
    "<span style=\"font-size:20px; text-decoration: underline;\">_Application 4 :_</span> <br/>\n",
    "<span style=\"margin-left:30px;\"></span>Ecrire un programme Python qui calcule $a^3 + b^3$ en définissant une fonction ```cube(x)```."
   ]
  },
  {
   "cell_type": "code",
   "execution_count": null,
   "metadata": {},
   "outputs": [],
   "source": [
    "def cube(x):\n",
    "    ...\n",
    "\n",
    "a = int(input('Saisir a : '))\n",
    "b = int(input('Saisir b : '))\n",
    "res = ... + ...\n",
    "print(res)"
   ]
  },
  {
   "cell_type": "markdown",
   "metadata": {
    "deletable": false,
    "editable": false,
    "run_control": {
     "frozen": true
    }
   },
   "source": [
    "<span style=\"font-size:20px; text-decoration: underline;\">_Application 5 :_</span> <br/>\n",
    "<span style=\"margin-left:30px;\"></span>Ecrire l'analyse, l'algorithme et la traduction en Python d'un programme qui calcule la moyenne d'un élève dans une matière sachant que : ```moyenne = (Orale + 2*Ecrit)/3```."
   ]
  },
  {
   "cell_type": "code",
   "execution_count": null,
   "metadata": {},
   "outputs": [],
   "source": [
    "def ...(orale, ecrit):\n",
    "    ...\n",
    "\n",
    "o = ...(input(\"Saisir l'orale : \"))\n",
    "e = ...(input(\"Saisir l'ecrit : \"))\n",
    "print(moyenne(...))"
   ]
  },
  {
   "cell_type": "code",
   "execution_count": 14,
   "metadata": {
    "deletable": false,
    "editable": false,
    "hide_input": true,
    "init_cell": true,
    "nbgrader": {
     "grade": false,
     "grade_id": "cell-cf68e494e82f315b",
     "locked": true,
     "schema_version": 3,
     "solution": false,
     "task": false
    }
   },
   "outputs": [
    {
     "data": {
      "text/html": [
       " <iframe width=\"100%\" height=\"650px\" frameborder=\"0\"\n",
       "                    src=\"https://myquiz3.herokuapp.com/quiz/fonction\"> </iframe> "
      ],
      "text/plain": [
       "<IPython.core.display.HTML object>"
      ]
     },
     "metadata": {},
     "output_type": "display_data"
    }
   ],
   "source": [
    "display(HTML(\"\"\" <iframe width=\"100%\" height=\"650px\" frameborder=\"0\"\n",
    "                    src=\"https://myquiz3.herokuapp.com/quiz/fonction\"> </iframe> \"\"\"))"
   ]
  },
  {
   "cell_type": "markdown",
   "metadata": {
    "deletable": false,
    "editable": false,
    "run_control": {
     "frozen": true
    }
   },
   "source": [
    "<span style=\"font-size:20px; text-decoration: underline;\">_Exercices collaboratif :_</span> <br>\n",
    "<span style=\"margin-left:30px;\"></span>Ecrire un programme Python qui calcule la distance entre deux points ```A``` et ```B``` de coordonnées respectives $(x_1, y_1)$ et $(x_2, y_2)$ sachant que la distance entre deux points ```D```$=\\sqrt{(x_2 - x_1)^2 + (y_2 - y_1)^2}$"
   ]
  }
 ],
 "metadata": {
  "celltoolbar": "Initialization Cell",
  "kernelspec": {
   "display_name": "Python 3",
   "language": "python",
   "name": "python3"
  },
  "language_info": {
   "codemirror_mode": {
    "name": "ipython",
    "version": 3
   },
   "file_extension": ".py",
   "mimetype": "text/x-python",
   "name": "python",
   "nbconvert_exporter": "python",
   "pygments_lexer": "ipython3",
   "version": "3.7.3"
  }
 },
 "nbformat": 4,
 "nbformat_minor": 4
}
