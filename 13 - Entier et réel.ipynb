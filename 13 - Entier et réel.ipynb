{
 "cells": [
  {
   "cell_type": "code",
   "execution_count": null,
   "metadata": {
    "deletable": false,
    "editable": false,
    "hide_input": true,
    "init_cell": true,
    "nbgrader": {
     "cell_type": "code",
     "checksum": "f7e2f6a17bb7c73c8a953da513bc6e23",
     "grade": false,
     "grade_id": "cell-2e98a7f95be1822b",
     "locked": true,
     "schema_version": 3,
     "solution": false,
     "task": false
    }
   },
   "outputs": [],
   "source": [
    "from IPython.display import HTML, display\n",
    "from IPython.core.magic import register_line_cell_magic\n",
    "import urllib.request\n",
    "\n",
    "@register_line_cell_magic\n",
    "def tutor(line, cell):\n",
    "    code = urllib.parse.urlencode({\"code\": cell})\n",
    "    display(HTML(\"\"\"\n",
    "    <iframe width=\"970\" height=\"500px\" frameborder=\"0\"\n",
    "            src=\"http://pythontutor.com/iframe-embed.html#%s&py=3\">\n",
    "    </iframe>\n",
    "    \"\"\" % code))"
   ]
  },
  {
   "cell_type": "markdown",
   "metadata": {
    "deletable": false,
    "editable": false,
    "run_control": {
     "frozen": true
    }
   },
   "source": [
    "<div style=\"background-color:#fff5f5;border:2px solid #faa;padding:20px 0 10px 0;\"><span style=\"margin-left:30px;font-size:28px;color: #009955;\">Rappel :</span><br>\n",
    "<span style=\"font-size:18px;color: #0077cc;line-height:35px;\">\n",
    "<span style=\"margin-left:100px;\">- Les fonctions.</span><br>\n",
    "<span style=\"margin-left:100px;\">- L'instruction return.</span><br>\n",
    "</span>\n",
    "<span style=\"margin-left:30px;font-size:28px;color: #009955;\">Objectifs :</span><br>\n",
    "<span style=\"font-size:18px;color: #0077cc;line-height:35px;\">\n",
    "<span style=\"margin-left:100px;\">- Utiliser les opérateurs arithmétique et logique.</span><br>\n",
    "<span style=\"margin-left:100px;\">- Appliquer les notiens vues précedement sur les entiers et les réels.</span><br>\n",
    "</span></div>"
   ]
  },
  {
   "cell_type": "markdown",
   "metadata": {
    "deletable": false,
    "editable": false,
    "nbgrader": {
     "cell_type": "markdown",
     "checksum": "fbca9db785b949ee0d178233d349560d",
     "grade": false,
     "grade_id": "cell-79544a9ebb8e7797",
     "locked": true,
     "schema_version": 3,
     "solution": false,
     "task": false
    },
    "run_control": {
     "frozen": true
    }
   },
   "source": [
    "<span style=\"margin-left:30px;font-size:28px;color: #005599;\">VII- Les Types de Données et les Expressions :</span><br>\n",
    "<span style=\"margin-left:60px;font-size:20px;color: #0077cc;\">1- Le type entier :</span><br>\n",
    "\n",
    "_<span style=\"font-size:20px; text-decoration: underline;\">a- Domaine des valeurs de type entier :</span>_ <br/>\n",
    "\n",
    "-\tEn Python, un entier est représenté sur 4 octets (32 bits).\n",
    "-\tUne variable de type entier appartient à l’intervalle : $[-2^{n-1}, 2^{n-1}-1]$ avec n le nombre de bits.\n",
    "-\tLe domaine de définition d’un entier : [- 2 147 483 648, 2 147 483 647] \n",
    "\n",
    "_<span style=\"font-size:20px; text-decoration: underline;\">b- Les opérateurs arithmétiques sur les entiers :</span>_ <br/>\n",
    "<span style=\"margin-left:30px;\"></span>Sur les variables de type entier, on peut appliquer les opérateurs arithmétiques suivants :\n",
    "\n",
    "<img src=\"https://coursenligne.edublogs.org/files/2020/10/tab-10.png\"></img>\n",
    "\n",
    "Il y a d’autres opérateurs :<br>\n",
    "<span style=\"margin-left:30px;\"></span>// : Donne le quotient de la division entière.<br>\n",
    "<span style=\"margin-left:30px;\"></span>% : Donne le reste de la division entière.<br>\n",
    "<span style=\"margin-left:30px;\"></span>** : Donne la puissance \n",
    "\n",
    "_<span style=\"font-size:20px; text-decoration: underline;\">Exemple :</span>_ <br/>\n",
    "- 5 % 2 = 1\n",
    "- 6 % 2 = 0\n",
    "- 7 // 2 = 3\n",
    "- 4 ** 2 = 16"
   ]
  },
  {
   "cell_type": "markdown",
   "metadata": {
    "deletable": false,
    "editable": false,
    "nbgrader": {
     "cell_type": "markdown",
     "checksum": "163c740f2eb80794a2a531dd4b3de9eb",
     "grade": false,
     "grade_id": "cell-2e9bb7af1a28f189",
     "locked": true,
     "schema_version": 3,
     "solution": false,
     "task": false
    },
    "run_control": {
     "frozen": true
    }
   },
   "source": [
    "_<span style=\"font-size:20px; text-decoration: underline;\">c- Les opérateurs relationnels sur les entiers :</span>_ <br/>\n",
    "<span style=\"margin-left:30px;\"></span>Sur un type entier, on peut appliquer les opérateurs relationnels suivants :\n",
    "\n",
    "<img src=\"https://coursenligne.edublogs.org/files/2020/10/tab-11.png\"></img>\n",
    "\n",
    "_<span style=\"font-size:20px; text-decoration: underline;\">Remarque :</span>_ <br/>\n",
    "- Il est possible d’enchaîner les opérateurs : x < y < z\n",
    "\n",
    "_<span style=\"font-size:20px; text-decoration: underline;\">Application :</span>_ <br/>\n",
    "<span style=\"margin-left:30px;\"></span>Évaluer les expressions suivantes : \t\n",
    "-\tA = ((50 // 3) % 4) + 1\n",
    "-\tB = (22 % 4) // 2 == 1"
   ]
  },
  {
   "cell_type": "markdown",
   "metadata": {
    "deletable": false,
    "editable": false,
    "nbgrader": {
     "cell_type": "markdown",
     "checksum": "be576a301621913426d620291bd4fd51",
     "grade": false,
     "grade_id": "cell-47c974ae0a49ddb2",
     "locked": true,
     "schema_version": 3,
     "solution": false,
     "task": false
    },
    "run_control": {
     "frozen": true
    }
   },
   "source": [
    "_<span style=\"font-size:20px; text-decoration: underline;\">Exercices :</span>_ 1 (Série V)."
   ]
  },
  {
   "cell_type": "markdown",
   "metadata": {
    "deletable": false,
    "editable": false,
    "nbgrader": {
     "cell_type": "markdown",
     "checksum": "59933fb587d20c3b6de55911a9bf2809",
     "grade": false,
     "grade_id": "cell-8038ed1f4e9ca2e2",
     "locked": true,
     "schema_version": 3,
     "solution": false,
     "task": false
    },
    "run_control": {
     "frozen": true
    }
   },
   "source": [
    "<span style=\"margin-left:60px;font-size:20px;color: #0077cc;\">2- Les nombres à virgule flottante :</span><br>\n",
    "\n",
    "_<span style=\"font-size:20px; text-decoration: underline;\">a- Domaine des valeurs :</span>_ <br/>\n",
    "<span style=\"margin-left:30px;\"></span>Les nombres à virgule flottante utilisés pour représenter des réels sont tous à double précision, soit des nombres codés sur 64 bits.\n",
    "\n",
    "_<span style=\"font-size:20px; text-decoration: underline;\">b- Les opérateurs arithmétiques sur les nombres à virgule flottante :</span>_ <br>\n",
    "<span style=\"margin-left:30px;\"></span>Les opérateurs arithmétiques sont :+ , - , * , / (division réelle) et ** (puissance)\n",
    "\n",
    "_<span style=\"font-size:20px; text-decoration: underline;\">c- Les opérateurs relationnels sur les nombres à virgule flottante :</span>_ <br/>\n",
    "\n",
    "<img src=\"https://coursenligne.edublogs.org/files/2020/10/tab-11.png\"></img>\n",
    "\n",
    "_<span style=\"font-size:20px; text-decoration: underline;\">Application :</span>_ <br/>\n",
    "<span style=\"margin-left:30px;\"></span>Traduire en Python les affectations suivantes :\n",
    "- $A = 8X^2 + 3X – 10$\n",
    "- $B = - (b+ \\sqrt{dlt}) / (2a)$"
   ]
  },
  {
   "cell_type": "code",
   "execution_count": null,
   "metadata": {},
   "outputs": [],
   "source": []
  },
  {
   "cell_type": "code",
   "execution_count": null,
   "metadata": {
    "deletable": false,
    "editable": false,
    "hide_input": true,
    "init_cell": true
   },
   "outputs": [],
   "source": [
    "display(HTML(\"\"\" <iframe width=\"100%\" height=\"650px\" frameborder=\"0\"\n",
    "                    src=\"https://myquiz2.herokuapp.com/quiz/entier-reel\"> </iframe> \"\"\"))"
   ]
  },
  {
   "cell_type": "markdown",
   "metadata": {
    "deletable": false,
    "editable": false,
    "nbgrader": {
     "cell_type": "markdown",
     "checksum": "748b96e78a2ed1f97f52ddb1084f7daf",
     "grade": false,
     "grade_id": "cell-24e1a4778234aef4",
     "locked": true,
     "schema_version": 3,
     "solution": false,
     "task": false
    },
    "run_control": {
     "frozen": true
    }
   },
   "source": [
    "_<span style=\"font-size:20px; text-decoration: underline;\">Exercice :</span>_ <br/>\n",
    "<span style=\"margin-left:30px;\"></span>Ecrire un programme Python qui calcule la distance **d** entre deux points A et B de coordonnées respectives $(x_1, y_1)$ et $(x_2, y_2)$.\n",
    "\n",
    "Sachant que la distance entre deux points = $\\sqrt{(x_1 - x_2)^2 + (y_1 - y_2)^2}$\n",
    "\n",
    "Essayer d’apporter des améliorations à votre programme (A l’aide de la bibliothèque turtle, dessiner deux points $A(x_1, y_1)$ et $B(x_2, y_2)$ et un trait entre ces deux points de longueur d)."
   ]
  },
  {
   "cell_type": "code",
   "execution_count": null,
   "metadata": {},
   "outputs": [],
   "source": []
  },
  {
   "cell_type": "markdown",
   "metadata": {
    "deletable": false,
    "editable": false,
    "nbgrader": {
     "cell_type": "markdown",
     "checksum": "6dcd0ca9b45f3cb71d58cf43b84d490f",
     "grade": false,
     "grade_id": "cell-4c931093f3e3afa3",
     "locked": true,
     "schema_version": 3,
     "solution": false,
     "task": false
    },
    "run_control": {
     "frozen": true
    }
   },
   "source": [
    "_<span style=\"font-size:20px; text-decoration: underline;\">Exercice :</span>_ 6 (Série V)"
   ]
  }
 ],
 "metadata": {
  "kernelspec": {
   "display_name": "Python 3",
   "language": "python",
   "name": "python3"
  },
  "language_info": {
   "codemirror_mode": {
    "name": "ipython",
    "version": 3
   },
   "file_extension": ".py",
   "mimetype": "text/x-python",
   "name": "python",
   "nbconvert_exporter": "python",
   "pygments_lexer": "ipython3",
   "version": "3.7.3"
  }
 },
 "nbformat": 4,
 "nbformat_minor": 4
}
