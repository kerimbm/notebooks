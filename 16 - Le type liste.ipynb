{
 "cells": [
  {
   "cell_type": "code",
   "execution_count": null,
   "metadata": {
    "deletable": false,
    "editable": false,
    "hide_input": true,
    "init_cell": true,
    "nbgrader": {
     "cell_type": "code",
     "checksum": "a2cbc5eb7813591da89142f01043ab0c",
     "grade": false,
     "grade_id": "cell-834baa7c4d11a911",
     "locked": true,
     "schema_version": 3,
     "solution": false,
     "task": false
    }
   },
   "outputs": [],
   "source": [
    "from IPython.display import HTML, display\n",
    "from IPython.core.magic import register_line_cell_magic\n",
    "import urllib.request\n",
    "\n",
    "@register_line_cell_magic\n",
    "def tutor(line, cell):\n",
    "    code = urllib.parse.urlencode({\"code\": cell})\n",
    "    display(HTML(\"\"\"\n",
    "    <iframe width=\"970\" height=\"500px\" frameborder=\"0\"\n",
    "            src=\"http://pythontutor.com/iframe-embed.html#%s&py=3\">\n",
    "    </iframe>\n",
    "    \"\"\" % code))"
   ]
  },
  {
   "cell_type": "markdown",
   "metadata": {
    "deletable": false,
    "editable": false,
    "run_control": {
     "frozen": true
    }
   },
   "source": [
    "<div style=\"background-color:#fff5f5;border:2px solid #faa;padding:20px 0 10px 0;\"><span style=\"margin-left:30px;font-size:28px;color: #009955;\">Rappel :</span><br>\n",
    "<span style=\"font-size:18px;color: #0077cc;line-height:35px;\">\n",
    "<span style=\"margin-left:100px;\">- Le type chaîne de caractères.</span><br>\n",
    "</span>\n",
    "<span style=\"margin-left:30px;font-size:28px;color: #009955;\">Objectifs :</span><br>\n",
    "<span style=\"font-size:18px;color: #0077cc;line-height:35px;\">\n",
    "<span style=\"margin-left:100px;\">- Connaître les différentes manipulations sur les listes.</span><br>\n",
    "<span style=\"margin-left:100px;\">- Appliquer les notiens vues précedement sur les listes.</span><br>\n",
    "</span></div>"
   ]
  },
  {
   "cell_type": "markdown",
   "metadata": {
    "deletable": false,
    "editable": false,
    "nbgrader": {
     "cell_type": "markdown",
     "checksum": "cc8514cd061a313d684f32d14ef6e585",
     "grade": false,
     "grade_id": "cell-85469895f6dfb167",
     "locked": true,
     "schema_version": 3,
     "solution": false,
     "task": false
    },
    "run_control": {
     "frozen": true
    }
   },
   "source": [
    "<span style=\"margin-left:30px;font-size:28px;color: #005599;\">VII- Les Types de Données et les Expressions :</span><br>\n",
    "\n",
    "<span style=\"margin-left:60px;font-size:20px;color: #0077cc;\">5- Le type liste :</span><br>\n",
    "\n",
    "_<span style=\"font-size:20px; text-decoration: underline;\">a- Définition :</span>_ <br/>\n",
    "<span style=\"margin-left:30px;\"></span>Une liste est une collection ordonnée d’éléments éventuellement hétérogènes accessibles à l’aide des indices.\n",
    "\n",
    "_<span style=\"font-size:20px; text-decoration: underline;\">b- Création de liste :</span>_ <br/>"
   ]
  },
  {
   "cell_type": "code",
   "execution_count": null,
   "metadata": {},
   "outputs": [],
   "source": [
    "li = []                         # Déclaration d’une liste vide\n",
    "print(li)"
   ]
  },
  {
   "cell_type": "code",
   "execution_count": null,
   "metadata": {},
   "outputs": [],
   "source": [
    "li = [5, 2.33, 'e']             # Initialisation d’une liste à sa création\n",
    "print(li)"
   ]
  },
  {
   "cell_type": "code",
   "execution_count": null,
   "metadata": {},
   "outputs": [],
   "source": [
    "li = list(range(10))            # Initialisation d’une liste en utilisant la fonction range()\n",
    "print(li)"
   ]
  },
  {
   "cell_type": "markdown",
   "metadata": {
    "deletable": false,
    "editable": false,
    "nbgrader": {
     "cell_type": "markdown",
     "checksum": "c903716df4d1f2ae7269fab9aac9828a",
     "grade": false,
     "grade_id": "cell-1527899b9de18c99",
     "locked": true,
     "schema_version": 3,
     "solution": false,
     "task": false
    }
   },
   "source": [
    "_<span style=\"font-size:20px; text-decoration: underline;\">c- Parcours de liste par indice :</span>_ <br/>\n",
    "\n",
    "_<span style=\"font-size:20px; text-decoration: underline;\">Activité :</span>_ <br/>\n",
    "<span style=\"margin-left:30px;\"></span>Soit la liste suivante : li = [5, 2.33, 'e']\n",
    "-\tEcrire un programme Python qui affiche le $1^{er}$ et le dernier élément de la liste li.\n",
    "-\tEssayer de remplacer le $1^{er}$ élément par la lettre 'z'"
   ]
  },
  {
   "cell_type": "code",
   "execution_count": null,
   "metadata": {},
   "outputs": [],
   "source": [
    "li = [5, 2.33, 'e']    # Initialisation d’une liste à sa création.\n",
    "print(......)          # Afficher le 1er élément de la liste li."
   ]
  },
  {
   "cell_type": "code",
   "execution_count": null,
   "metadata": {},
   "outputs": [],
   "source": [
    "print(......)          # Afficher le dernier élément de la liste li."
   ]
  },
  {
   "cell_type": "code",
   "execution_count": null,
   "metadata": {},
   "outputs": [],
   "source": [
    "li[...] = 'z'          # Remplacer le 1er élément par la lettre 'z'\n",
    "print(li[0])"
   ]
  },
  {
   "cell_type": "markdown",
   "metadata": {
    "deletable": false,
    "editable": false,
    "nbgrader": {
     "cell_type": "markdown",
     "checksum": "210c1d7baf6010afe8fb6878170831f9",
     "grade": false,
     "grade_id": "cell-ec6ff80a9c0b5efa",
     "locked": true,
     "schema_version": 3,
     "solution": false,
     "task": false
    },
    "run_control": {
     "frozen": true
    }
   },
   "source": [
    "_<span style=\"font-size:20px; text-decoration: underline;\">Remarque :</span>_ <br/>\n",
    "- On accède aux éléments d’une liste de la même façon qu’on accède aux caractères d’une chaîne.\n",
    "- Contrairement au type str (string), le type list permet de remplacer un élément par un autre.\n",
    "\n",
    "_<span style=\"font-size:20px; text-decoration: underline;\">d- Parcours de liste par « for » :</span>_ <br/>\n",
    "\n",
    "_<span style=\"font-size:20px; text-decoration: underline;\">Activité :</span>_ <br/>\n",
    "<span style=\"margin-left:30px;\"></span>Soit la liste suivante : li = \"Ma chaîne !\"\n",
    "En utilisant une structure itérative, écrire un programme Python qui affiche chaque élément de la liste li dans une ligne.\n"
   ]
  },
  {
   "cell_type": "code",
   "execution_count": null,
   "metadata": {},
   "outputs": [],
   "source": [
    "li = ['z', 2.33, 'e']\n",
    "for ... in ... :          # Affiche chaque élément de la liste li\n",
    "    print(...)            # dans une ligne."
   ]
  },
  {
   "cell_type": "markdown",
   "metadata": {
    "deletable": false,
    "editable": false,
    "nbgrader": {
     "cell_type": "markdown",
     "checksum": "82b7d19b2fadf82c842cf7d0e060eb01",
     "grade": false,
     "grade_id": "cell-fd55866106f6831c",
     "locked": true,
     "schema_version": 3,
     "solution": false,
     "task": false
    },
    "run_control": {
     "frozen": true
    }
   },
   "source": [
    "_<span style=\"font-size:20px; text-decoration: underline;\">e- Sélection de liste :</span>_ <br/>\n",
    "<span style=\"margin-left:30px;\"></span>Le principe de sélection de liste est identique au celle utilisé avec les chaînes de caractères.\n",
    "Ainsi, la syntaxe est le suivant : li[deb : fin : pas]\n",
    "\n",
    "_<span style=\"font-size:20px; text-decoration: underline;\">Activité :</span>_ <br/>\n",
    "<span style=\"margin-left:30px;\"></span>Soit la liste suivante : li = ['z', 2.33, 'e', 5].<br>\n",
    "Ecrire un programme Python qui affiche les deux premiers éléments puis le reste de la liste."
   ]
  },
  {
   "cell_type": "code",
   "execution_count": null,
   "metadata": {},
   "outputs": [],
   "source": [
    "li = ['z', 2.33, 'e', 5]        # Créer une liste de 4 éléments\n",
    "print(......)                   # Sélectionner les deux premiers éléments"
   ]
  },
  {
   "cell_type": "code",
   "execution_count": null,
   "metadata": {},
   "outputs": [],
   "source": [
    "print(......)                   # Sélectionner la liste sauf les 2 premiers éléments"
   ]
  },
  {
   "cell_type": "markdown",
   "metadata": {
    "deletable": false,
    "editable": false,
    "nbgrader": {
     "cell_type": "markdown",
     "checksum": "12398c32c00e10ff0f2c64bf382c858d",
     "grade": false,
     "grade_id": "cell-5e7e5fa7446b9f39",
     "locked": true,
     "schema_version": 3,
     "solution": false,
     "task": false
    },
    "run_control": {
     "frozen": true
    }
   },
   "source": [
    "_<span style=\"font-size:20px; text-decoration: underline;\">Remarque :</span>_ <br/>\n",
    "- La sélection consiste alors, à extraire un ensemble d’éléments de la liste. Cette opération renvoie la partie sélectionnée, sans modifier la liste d’origine.\n",
    "\n",
    "_<span style=\"font-size:20px; text-decoration: underline;\">Application :</span>_ <br/>\n",
    "<span style=\"margin-left:30px;\"></span>Soit la liste suivante : li = ['z', 2.33, 'e', 5].<br>\n",
    "    En utilisant la téchnique de sélection de liste, écrire un programme Python qui affiche :\n",
    "    - Toute la liste\n",
    "    - Toute la liste avec un pas de deux\n",
    "    - La liste inversée."
   ]
  },
  {
   "cell_type": "code",
   "execution_count": null,
   "metadata": {},
   "outputs": [],
   "source": [
    "print(.........)          # Sélectionner toute la liste"
   ]
  },
  {
   "cell_type": "code",
   "execution_count": null,
   "metadata": {},
   "outputs": [],
   "source": [
    "print(.........)          # Afficher la liste avec un pas de deux"
   ]
  },
  {
   "cell_type": "code",
   "execution_count": null,
   "metadata": {},
   "outputs": [],
   "source": [
    "print(.........)          # Inverser la liste"
   ]
  },
  {
   "cell_type": "markdown",
   "metadata": {
    "deletable": false,
    "editable": false,
    "nbgrader": {
     "cell_type": "markdown",
     "checksum": "93b5be4a14040d9b2cad61cded928e63",
     "grade": false,
     "grade_id": "cell-41e934fefe9e74ab",
     "locked": true,
     "schema_version": 3,
     "solution": false,
     "task": false
    },
    "run_control": {
     "frozen": true
    }
   },
   "source": [
    "_<span style=\"font-size:20px; text-decoration: underline;\">f- Ajouter un élément à la fin de la liste :</span>_ <br/>\n",
    "<span style=\"margin-left:30px;\"></span>On utilise la méthode append pour ajouter un élément à la fin d'une liste.\n",
    "\n",
    "_<span style=\"font-size:20px; text-decoration: underline;\">Activité :</span>_ <br/>\n",
    "<span style=\"margin-left:30px;\"></span>Soit la liste suivante : li = ['z', 2.33, 'e', 5]<br>\n",
    "Ecrire un programme qui ajoute à la fin de cette liste l'élément 56 :"
   ]
  },
  {
   "cell_type": "code",
   "execution_count": null,
   "metadata": {},
   "outputs": [],
   "source": [
    "li = ['z', 2.33, 'e', 5]  # Créer une liste de 4 éléments\n",
    "li.append(...)            # On ajoute 56 à la fin de la liste\n",
    "print(li)"
   ]
  },
  {
   "cell_type": "markdown",
   "metadata": {
    "deletable": false,
    "editable": false,
    "nbgrader": {
     "cell_type": "markdown",
     "checksum": "6ac77012d46f61d7159d883f77d807fb",
     "grade": false,
     "grade_id": "cell-339eac3f73d750ca",
     "locked": true,
     "schema_version": 3,
     "solution": false,
     "task": false
    },
    "run_control": {
     "frozen": true
    }
   },
   "source": [
    "_<span style=\"font-size:20px; text-decoration: underline;\">Remarque :</span>_ <br/>\n",
    "- On passe en paramètre de la méthode append l'objet que l'on souhaite ajouter à la fin de la liste.\n"
   ]
  },
  {
   "cell_type": "code",
   "execution_count": null,
   "metadata": {
    "deletable": false,
    "editable": false,
    "hide_input": true,
    "init_cell": true
   },
   "outputs": [],
   "source": [
    "display(HTML(\"\"\" <iframe style=\"border: 1px solid #aaa; width:100%; height:calc(100vw * 0.5625);\" frameborder=\"0\"  \n",
    "                    src=\"https://kerimbm.edublogs.org/files/2020/10/10-Liste-1.mp4\"> </iframe> \"\"\"))"
   ]
  },
  {
   "cell_type": "code",
   "execution_count": null,
   "metadata": {
    "deletable": false,
    "editable": false,
    "hide_input": true,
    "init_cell": true
   },
   "outputs": [],
   "source": [
    "display(HTML(\"\"\" <iframe width=\"100%\" height=\"650px\" frameborder=\"0\"\n",
    "                    src=\"https://myquiz2.herokuapp.com/quiz/list\"> </iframe> \"\"\"))"
   ]
  },
  {
   "cell_type": "markdown",
   "metadata": {
    "deletable": false,
    "editable": false,
    "nbgrader": {
     "cell_type": "markdown",
     "checksum": "2c71705b3103b2c62e884df1627fd7c7",
     "grade": false,
     "grade_id": "cell-f3362ebdd96577fe",
     "locked": true,
     "schema_version": 3,
     "solution": false,
     "task": false
    },
    "run_control": {
     "frozen": true
    }
   },
   "source": [
    "_<span style=\"font-size:20px; text-decoration: underline;\">Exercices :</span>_ 22 et 23 (Série V)."
   ]
  }
 ],
 "metadata": {
  "kernelspec": {
   "display_name": "Python 3",
   "language": "python",
   "name": "python3"
  },
  "language_info": {
   "codemirror_mode": {
    "name": "ipython",
    "version": 3
   },
   "file_extension": ".py",
   "mimetype": "text/x-python",
   "name": "python",
   "nbconvert_exporter": "python",
   "pygments_lexer": "ipython3",
   "version": "3.7.3"
  }
 },
 "nbformat": 4,
 "nbformat_minor": 4
}
