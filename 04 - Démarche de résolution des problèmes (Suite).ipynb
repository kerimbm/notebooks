{
 "cells": [
  {
   "cell_type": "markdown",
   "metadata": {
    "deletable": false,
    "editable": false,
    "hide_input": true,
    "run_control": {
     "frozen": true
    }
   },
   "source": [
    "<div style=\"background-color:#fff5f5;border:2px solid #faa;padding:20px 0 10px 0;\"><span style=\"margin-left:30px;font-size:28px;color: #009955;\">Rappel :</span><br>\n",
    "<span style=\"font-size:18px;color: #0077cc;line-height:35px;\">\n",
    "<span style=\"margin-left:100px;\">- Les phases de résolution d’un problème.</span><br>\n",
    "</span>\n",
    "<span style=\"margin-left:30px;font-size:28px;color: #009955;\">Objectifs :</span><br>\n",
    "<span style=\"font-size:18px;color: #0077cc;line-height:35px;\">\n",
    "<span style=\"margin-left:100px;\"></span>- Consolider les requis appris au cours de la dernière séance en réalisant au minimum deux<br>\n",
    "<span style=\"margin-left:113px;\"></span>exercices.<br>\n",
    "<span style=\"margin-left:100px;\"></span>- Savoir écrire un script en Python et l'enregistrer pour une utilisation ultérieure.<br>\n",
    "</span></div>"
   ]
  },
  {
   "cell_type": "markdown",
   "metadata": {
    "deletable": false,
    "editable": false,
    "run_control": {
     "frozen": true
    }
   },
   "source": [
    "<span style=\"margin-left:30px;font-size:28px;color: #005599;\">III. Démarche de résolution des problèmes :</span><br>\n",
    "\n",
    "_<span style=\"font-size:20px; text-decoration: underline;\">Exercices :</span>_ 13 et 16 en groupes de deux ou de trois élèves (Série I) :\n",
    "\n",
    "_<span style=\"font-size:20px; text-decoration: underline;\">Exercices :</span>_ 15 et 19 (Série I) :"
   ]
  }
 ],
 "metadata": {
  "kernelspec": {
   "display_name": "Python 3",
   "language": "python",
   "name": "python3"
  },
  "language_info": {
   "codemirror_mode": {
    "name": "ipython",
    "version": 3
   },
   "file_extension": ".py",
   "mimetype": "text/x-python",
   "name": "python",
   "nbconvert_exporter": "python",
   "pygments_lexer": "ipython3",
   "version": "3.7.3"
  }
 },
 "nbformat": 4,
 "nbformat_minor": 4
}
