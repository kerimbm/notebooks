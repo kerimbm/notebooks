{
 "cells": [
  {
   "cell_type": "code",
   "execution_count": 12,
   "metadata": {
    "deletable": false,
    "editable": false,
    "hide_input": true,
    "init_cell": true,
    "nbgrader": {
     "grade": false,
     "grade_id": "cell-189e2b1c38c7b68b",
     "locked": true,
     "schema_version": 3,
     "solution": false,
     "task": false
    }
   },
   "outputs": [],
   "source": [
    "from IPython.display import HTML, display\n",
    "from IPython.core.magic import register_line_cell_magic\n",
    "import urllib.request\n",
    "\n",
    "@register_line_cell_magic\n",
    "def tutor(line, cell):\n",
    "    code = urllib.parse.urlencode({\"code\": cell})\n",
    "    display(HTML(\"\"\"\n",
    "    <iframe width=\"970\" height=\"500px\" frameborder=\"0\"\n",
    "            src=\"http://pythontutor.com/iframe-embed.html#%s&py=3\">\n",
    "    </iframe>\n",
    "    \"\"\" % code))"
   ]
  },
  {
   "cell_type": "markdown",
   "metadata": {
    "deletable": false,
    "editable": false,
    "run_control": {
     "frozen": true
    }
   },
   "source": [
    "<div style=\"background-color:#fff5f5;border:2px solid #faa;padding:20px 0 10px 0;\">\n",
    "    <div style=\"margin-left:30px;font-size:28px;color: #009955;\">Objectifs :</div>\n",
    "    <div style=\"font-size:18px;color: #0077cc;line-height:35px;margin-left:70px;\">\n",
    "        <ul>\n",
    "<li>Utiliser les structures répétitives pour répéter un ensemble d'instructions autant de fois que nécessaire.</li>\n",
    "<li>Utiliser la structure de contrôle itérative complète pour résoudre un problème.</li>\n",
    "<li>Traduire un algorithme en un programme exécutable.</li>\n",
    "<li>Écrire un programme pour résoudre un problème.</li>\n",
    "        </ul>\n",
    "    </div>\n",
    "</div>"
   ]
  },
  {
   "cell_type": "markdown",
   "metadata": {
    "deletable": false,
    "editable": false,
    "run_control": {
     "frozen": true
    }
   },
   "source": [
    "<span style=\"font-size:20px; text-decoration: underline;\">_Rappel :_</span> <br/>\n",
    "<span style=\"margin-left:30px;\"></span>Écrire un programme qui accepte un numéro du jour de la semaine (1-7) et affiche le nom du jour correspondant."
   ]
  },
  {
   "cell_type": "code",
   "execution_count": null,
   "metadata": {},
   "outputs": [],
   "source": [
    "... semaine(n):\n",
    "    ...\n",
    "    return ...\n",
    "\n",
    "j = ...(input('...'))\n",
    "print(semaine(j))"
   ]
  },
  {
   "cell_type": "markdown",
   "metadata": {
    "deletable": false,
    "editable": false,
    "nbgrader": {
     "grade": false,
     "grade_id": "cell-4b609323e76884a9",
     "locked": true,
     "schema_version": 3,
     "solution": false,
     "task": false
    },
    "run_control": {
     "frozen": true
    }
   },
   "source": [
    "<span style=\"margin-left:30px;font-size:28px;color: #005599;\">VII- Les structures de contrôle itératives :</span><br>\n",
    "\n",
    "<span style=\"font-size:20px; text-decoration: underline;\">_Activité :_</span> <br/>\n",
    "<span style=\"margin-left:30px;\"></span>Ecrire un programme Python qui calcule la moyenne de 3 élèves.\n",
    "\n",
    "<span style=\"font-size:20px; text-decoration: underline;\">_Solution :_</span> <br/>\n"
   ]
  },
  {
   "cell_type": "code",
   "execution_count": null,
   "metadata": {},
   "outputs": [],
   "source": [
    "nc = float(input('Saisir la note de contrôle du 1er élève : '))   # Saisir la note de DC1 du 1er élève\n",
    "ng = ......................................................       # Saisir la note de DC2 du 1er élève\n",
    "ns = ......................................................       # Saisir la note de DS du 1er élève\n",
    "\n",
    "moy = (... + ... + 2*...)/...                                     # Calculer la moyenne du 1er élève\n",
    "\n",
    "print('la moyenne du 1er élève est : ', ...)                      # Afficher la moyenne du 1er élève\n",
    "\n",
    "nc = ......(input('Saisir la note de contrôle du ... élève : '))  # Saisir la note de DC1 du 2ème élève\n",
    "ng = .......................................................      # Saisir la note de DC2 du 2ème élève\n",
    "...                                                               # Compléter la suite du programme\n",
    "..."
   ]
  },
  {
   "cell_type": "markdown",
   "metadata": {
    "deletable": false,
    "editable": false,
    "nbgrader": {
     "grade": false,
     "grade_id": "cell-86814fad7728d377",
     "locked": true,
     "schema_version": 3,
     "solution": false,
     "task": false
    },
    "run_control": {
     "frozen": true
    }
   },
   "source": [
    "<span style=\"font-size:20px; text-decoration: underline;\">_Remarque :_</span> <br/>\n",
    "<span style=\"margin-left:30px;\"></span>Si on souhaite calculer la moyenne de 30 élèves, est ce qu’on va réaliser la même tâche 30 fois ?\n",
    "\n",
    "<span style=\"margin-left:60px;font-size:20px;color: #0077cc;\">1- La structure de contrôle itérative complète :</span><br>\n",
    "\n",
    "<span style=\"font-size:20px; text-decoration: underline;\">_Définition :_</span> <br/>\n",
    "<span style=\"margin-left:30px;\"></span>Un résultat à une structure itérative complète est obtenu après la répétition d’un traitement (ensemble d’instructions) un nombre fini de fois connu à l’avance.\n",
    "\n",
    "<img src=\"https://coursenligne.edublogs.org/files/2021/08/pour.png\"></img>\n",
    "\n",
    "<span style=\"font-size:20px; text-decoration: underline;\">_Syntaxe :_</span> <br/>\n",
    "\n",
    "<img src=\"https://coursenligne.edublogs.org/files/2021/08/tab-7.png\"></img>"
   ]
  },
  {
   "cell_type": "markdown",
   "metadata": {
    "deletable": false,
    "editable": false,
    "run_control": {
     "frozen": true
    }
   },
   "source": [
    "<span style=\"font-size:20px; text-decoration: underline;\">_Remarque :_</span> <br/>\n",
    "- L’incrémentation du compteur est automatique avec, généralement, un pas de ```1```\n",
    "- L’expression séquence peut être générée par ```range()``` ou remplacé par n’importe quelle variable de type ```Iterator``` (Exemple : chaîne de caractères, liste, …)"
   ]
  },
  {
   "cell_type": "code",
   "execution_count": 13,
   "metadata": {
    "deletable": false,
    "editable": false,
    "hide_input": true,
    "init_cell": true,
    "scrolled": false
   },
   "outputs": [
    {
     "data": {
      "text/html": [
       " <iframe style=\"border: 1px solid #aaa; width:100%; height:calc(100vw * 0.5625);\" frameborder=\"0\"  \n",
       "                    src=\"https://coursenligne.edublogs.org/files/2021/08/for.mp4\"> </iframe> "
      ],
      "text/plain": [
       "<IPython.core.display.HTML object>"
      ]
     },
     "metadata": {},
     "output_type": "display_data"
    }
   ],
   "source": [
    "display(HTML(\"\"\" <iframe style=\"border: 1px solid #aaa; width:100%; height:calc(100vw * 0.5625);\" frameborder=\"0\"  \n",
    "                    src=\"https://coursenligne.edublogs.org/files/2021/08/for.mp4\"> </iframe> \"\"\"))"
   ]
  },
  {
   "cell_type": "markdown",
   "metadata": {
    "deletable": false,
    "editable": false,
    "nbgrader": {
     "grade": false,
     "grade_id": "cell-502703bc78e5b27c",
     "locked": true,
     "schema_version": 3,
     "solution": false,
     "task": false
    },
    "run_control": {
     "frozen": true
    }
   },
   "source": [
    "<span style=\"font-size:20px; text-decoration: underline;\">_Application 1 :_</span> <br/>\n",
    "1. Ecrire un programme Python qui affiche les ```10``` premiers entiers.<br>\n",
    "2. Modifier, ensuite, le programme pour qu’il affiche leurs carrés.<br>\n",
    "3. Modifier encore le programme pour afficher la somme de leurs carrés."
   ]
  },
  {
   "cell_type": "code",
   "execution_count": null,
   "metadata": {},
   "outputs": [],
   "source": [
    "... i in range(...):  # Une boucle qui répète le traitement 10 fois\n",
    "    print(...)        # A chaque itération, afficher un entier\n",
    "\n",
    "# Déduire l'algorithme"
   ]
  },
  {
   "cell_type": "markdown",
   "metadata": {
    "deletable": false,
    "editable": false,
    "run_control": {
     "frozen": true
    }
   },
   "source": [
    "<span style=\"font-size:20px; text-decoration: underline;\">_Application 2 :_</span> <br/>\n",
    "<span style=\"margin-left:30px;\"></span>Le programme suivant doit afficher les entiers de ```3``` à ```11```. Trouvez les erreurs et corrigez ce programme pour qu'il affiche les valeurs demandées."
   ]
  },
  {
   "cell_type": "code",
   "execution_count": null,
   "metadata": {},
   "outputs": [],
   "source": [
    "for i in range(2,11):\n",
    "    print(3)"
   ]
  },
  {
   "cell_type": "markdown",
   "metadata": {
    "deletable": false,
    "editable": false,
    "run_control": {
     "frozen": true
    }
   },
   "source": [
    "<span style=\"font-size:20px; text-decoration: underline;\">_Application 3 :_</span> <br/>\n",
    "<span style=\"margin-left:30px;\"></span>Écrire un programme qui affiche les nombres impairs de ```7``` à ```29```."
   ]
  },
  {
   "cell_type": "code",
   "execution_count": null,
   "metadata": {},
   "outputs": [],
   "source": [
    "for ...\n",
    "    if ...\n",
    "        ..."
   ]
  },
  {
   "cell_type": "markdown",
   "metadata": {
    "deletable": false,
    "editable": false,
    "nbgrader": {
     "grade": false,
     "grade_id": "cell-53e57c6e36798f23",
     "locked": true,
     "schema_version": 3,
     "solution": false,
     "task": false
    },
    "run_control": {
     "frozen": true
    }
   },
   "source": [
    "<span style=\"font-size:20px; text-decoration: underline;\">_Application 4 :_</span> <br/>\n",
    "<span style=\"margin-left:30px;\"></span>Ecrire l'analyse, l'algorithme et la traduction en Python d'un programme solution de l’activité précédente en utilisant la structure itérative complète."
   ]
  },
  {
   "cell_type": "code",
   "execution_count": null,
   "metadata": {},
   "outputs": [],
   "source": [
    "... i in ......(5):                                  # Une boucle qui répète le traitement 5 fois\n",
    "    dc1 = .......................................    # A chaque itération, saisir DC1\n",
    "    dc2 = .......................................    # A chaque itération, saisir DC2\n",
    "    ds = .......................................     # A chaque itération, saisir DS\n",
    "    ...... = (............................)/...      # A chaque itération, calculer la moyenne\n",
    "    print(...............................)           # A chaque itération, afficher la moyenne"
   ]
  },
  {
   "cell_type": "code",
   "execution_count": 14,
   "metadata": {
    "deletable": false,
    "editable": false,
    "hide_input": true,
    "init_cell": true,
    "nbgrader": {
     "grade": false,
     "grade_id": "cell-c6993cbe4b7de68e",
     "locked": true,
     "schema_version": 3,
     "solution": false,
     "task": false
    }
   },
   "outputs": [
    {
     "data": {
      "text/html": [
       " <iframe width=\"100%\" height=\"650px\" frameborder=\"0\"\n",
       "                    src=\"https://myquiz3.herokuapp.com/quiz/for\"> </iframe> "
      ],
      "text/plain": [
       "<IPython.core.display.HTML object>"
      ]
     },
     "metadata": {},
     "output_type": "display_data"
    }
   ],
   "source": [
    "display(HTML(\"\"\" <iframe width=\"100%\" height=\"650px\" frameborder=\"0\"\n",
    "                    src=\"https://myquiz3.herokuapp.com/quiz/for\"> </iframe> \"\"\"))"
   ]
  },
  {
   "cell_type": "markdown",
   "metadata": {
    "deletable": false,
    "editable": false,
    "run_control": {
     "frozen": true
    }
   },
   "source": [
    "<span style=\"font-size:20px; text-decoration: underline;\">_Exercices collaboratif :_</span> <br>\n",
    "1. Écrire une fonction qui affiche la table de multiplication d'un (entier ente ```1``` et ```9```) passé en paramètre.\n",
    "2. Ajouter le code nécessaire pour afficher les tables de multiplication de tous les entiers de ```1``` à ```9```."
   ]
  },
  {
   "cell_type": "code",
   "execution_count": null,
   "metadata": {},
   "outputs": [],
   "source": [
    "... tablemultiplication(n):\n",
    "    ...\n",
    "\n",
    "..."
   ]
  }
 ],
 "metadata": {
  "celltoolbar": "Initialization Cell",
  "kernelspec": {
   "display_name": "Python 3",
   "language": "python",
   "name": "python3"
  },
  "language_info": {
   "codemirror_mode": {
    "name": "ipython",
    "version": 3
   },
   "file_extension": ".py",
   "mimetype": "text/x-python",
   "name": "python",
   "nbconvert_exporter": "python",
   "pygments_lexer": "ipython3",
   "version": "3.7.3"
  }
 },
 "nbformat": 4,
 "nbformat_minor": 4
}
