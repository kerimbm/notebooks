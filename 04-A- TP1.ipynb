{
 "cells": [
  {
   "cell_type": "code",
   "execution_count": 5,
   "metadata": {
    "deletable": false,
    "editable": false,
    "hide_input": true,
    "init_cell": true
   },
   "outputs": [],
   "source": [
    "from IPython.display import HTML, display\n",
    "from IPython.core.magic import register_line_cell_magic\n",
    "import urllib.request\n",
    "\n",
    "@register_line_cell_magic\n",
    "def tutor(line, cell):\n",
    "    code = urllib.parse.urlencode({\"code\": cell})\n",
    "    display(HTML(\"\"\"\n",
    "    <iframe width=\"970\" height=\"500px\" frameborder=\"0\"\n",
    "            src=\"http://pythontutor.com/iframe-embed.html#%s&py=3\">\n",
    "    </iframe>\n",
    "    \"\"\" % code))"
   ]
  },
  {
   "cell_type": "markdown",
   "metadata": {
    "deletable": false,
    "editable": false,
    "run_control": {
     "frozen": true
    }
   },
   "source": [
    "<h1 style=\"text-align:center;font-size:42px;color:#005599;\">Travaux pratiques 1</h1>\n",
    "<h3 style=\"text-align:center;font-size:22px;color:#22bb88;\">45 mn</h3>\n",
    "<br><br>\n",
    "\n",
    "<span style=\"font-size:20px; text-decoration: underline;\">_Exercice 1 :_</span> <br>\n",
    "1. Réaliser un programme Blockly qui dessine trois cercles comme l'illustre la figure suivante :\n",
    "<img src=\"https://coursenligne.edublogs.org/files/2021/08/turtle-1.png\">\n",
    "2. Basculer vers l'éditeur Python.\n",
    "3. Modifier le code Python pour qu’il affiche trois carrés au lieu de trois cercles."
   ]
  },
  {
   "cell_type": "code",
   "execution_count": 6,
   "metadata": {
    "deletable": false,
    "editable": false,
    "hide_input": true,
    "init_cell": true
   },
   "outputs": [
    {
     "data": {
      "text/html": [
       " <iframe width=\"100%\" height=\"1080\" frameborder=\"0\"\n",
       "                    src=\"https://sofuspy3.herokuapp.com/sofuspy/run.html\"> </iframe> "
      ],
      "text/plain": [
       "<IPython.core.display.HTML object>"
      ]
     },
     "metadata": {},
     "output_type": "display_data"
    }
   ],
   "source": [
    "display(HTML(\"\"\" <iframe width=\"100%\" height=\"1080\" frameborder=\"0\"\n",
    "                    src=\"https://sofuspy3.herokuapp.com/sofuspy/run.html\"> </iframe> \"\"\"))"
   ]
  },
  {
   "cell_type": "markdown",
   "metadata": {
    "deletable": false,
    "editable": false,
    "run_control": {
     "frozen": true
    }
   },
   "source": [
    "<span style=\"font-size:20px; text-decoration: underline;\">_Exercice 2 :_</span> <br>\n",
    "<span style=\"margin-left:30px;\"></span>Définir une variable ```a``` dont la valeur est égale à ```9```, et une variable ```b``` dont la valeur est égale au cube de ```a```.\n",
    "\n",
    "Ecrire l’instruction qui permet d’afficher les valeurs de ```a``` et ```b```."
   ]
  },
  {
   "cell_type": "code",
   "execution_count": null,
   "metadata": {},
   "outputs": [],
   "source": [
    "...\n",
    "..."
   ]
  },
  {
   "cell_type": "markdown",
   "metadata": {
    "deletable": false,
    "editable": false,
    "run_control": {
     "frozen": true
    }
   },
   "source": [
    "<span style=\"font-size:20px; text-decoration: underline;\">_Exercice 3 :_</span> <br>\n",
    "<span style=\"margin-left:30px;\"></span>Voici un programme Python : \n",
    "\n",
    "```python\n",
    "a = ... \n",
    "a = a * 5 \n",
    "a = a - 1 \n",
    "a = 2 * a - 4 \n",
    "print(a) \n",
    "```\n",
    "\n",
    "Une fois exécuté, le programme affiche ```9.0```. Quelle est la valeur de la variable ```a``` ?"
   ]
  },
  {
   "cell_type": "markdown",
   "metadata": {
    "deletable": false,
    "editable": false,
    "run_control": {
     "frozen": true
    }
   },
   "source": [
    "<span style=\"font-size:20px; text-decoration: underline;\">_Exercice 4 :_</span> <br>\n",
    "<span style=\"margin-left:30px;\"></span>On considère l’algorithme ci-dessous :\n",
    "\n",
    "```\n",
    "ALGORITHME Exercice\n",
    "DEBUT\n",
    "    a ← 6\n",
    "    b ← 3\n",
    "    c ← a + b\n",
    "    a ← 2\n",
    "    c ← c - a\n",
    "    a ← a + 1\n",
    "FIN\n",
    "```\n",
    "1. Quelles sont les valeurs des variables ```a```, ```b``` et ```c``` après l'exécution de cet algorithme ?"
   ]
  },
  {
   "cell_type": "markdown",
   "metadata": {
    "deletable": false,
    "editable": false,
    "run_control": {
     "frozen": true
    }
   },
   "source": [
    "2. Traduire cet algorithme en Python."
   ]
  },
  {
   "cell_type": "code",
   "execution_count": null,
   "metadata": {},
   "outputs": [],
   "source": [
    "..."
   ]
  },
  {
   "cell_type": "markdown",
   "metadata": {
    "deletable": false,
    "editable": false,
    "run_control": {
     "frozen": true
    }
   },
   "source": [
    "<span style=\"font-size:20px; text-decoration: underline;\">_Exercice 5 :_</span> <br>\n",
    "<span style=\"margin-left:30px;\"></span>Ce trimestre, Amine a obtenu trois notes en maths, notées ```A```, ```B``` et ```C```. La note ```A``` est de coefficient 2. Les notes ```B``` et ```C``` sont de coefficient 1.\n",
    "\n",
    "Écrire l'analyse l'algorithme et la traduction en Python d'un programme qui permette à Amine de connaître sa moyenne."
   ]
  },
  {
   "cell_type": "code",
   "execution_count": null,
   "metadata": {},
   "outputs": [],
   "source": [
    "..."
   ]
  }
 ],
 "metadata": {
  "celltoolbar": "Initialization Cell",
  "kernelspec": {
   "display_name": "Python 3",
   "language": "python",
   "name": "python3"
  },
  "language_info": {
   "codemirror_mode": {
    "name": "ipython",
    "version": 3
   },
   "file_extension": ".py",
   "mimetype": "text/x-python",
   "name": "python",
   "nbconvert_exporter": "python",
   "pygments_lexer": "ipython3",
   "version": "3.7.3"
  }
 },
 "nbformat": 4,
 "nbformat_minor": 4
}
