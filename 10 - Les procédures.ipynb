{
 "cells": [
  {
   "cell_type": "code",
   "execution_count": null,
   "metadata": {
    "deletable": false,
    "editable": false,
    "hide_input": true,
    "init_cell": true,
    "nbgrader": {
     "cell_type": "code",
     "checksum": "e2058447f954789e1c08230ee1f218b8",
     "grade": false,
     "grade_id": "cell-9250e5df79e52828",
     "locked": true,
     "schema_version": 3,
     "solution": false,
     "task": false
    }
   },
   "outputs": [],
   "source": [
    "from IPython.display import HTML, display\n",
    "from IPython.core.magic import register_line_cell_magic\n",
    "import urllib.request\n",
    "\n",
    "@register_line_cell_magic\n",
    "def tutor(line, cell):\n",
    "    code = urllib.parse.urlencode({\"code\": cell})\n",
    "    display(HTML(\"\"\"\n",
    "    <iframe width=\"970\" height=\"500px\" frameborder=\"0\"\n",
    "            src=\"http://pythontutor.com/iframe-embed.html#%s&py=3\">\n",
    "    </iframe>\n",
    "    \"\"\" % code))"
   ]
  },
  {
   "cell_type": "markdown",
   "metadata": {
    "deletable": false,
    "editable": false,
    "run_control": {
     "frozen": true
    }
   },
   "source": [
    "<div style=\"background-color:#fff5f5;border:2px solid #faa;padding:20px 0 10px 0;\">\n",
    "    <div style=\"margin-left:30px;font-size:28px;color: #009955;\">Objectifs :</div>\n",
    "    <div style=\"font-size:18px;color: #0077cc;line-height:35px;margin-left:70px;\">\n",
    "        <ul>\n",
    "<li>Identifier des sous-problèmes pertinents (modules).</li>\n",
    "<li>Identifier les éléments principaux d’un module (Type, paramètres, résultat, etc.).</li>\n",
    "<li>Acquérir la capacité de décomposer un problème en sous-problèmes : décomposition logique.</li>\n",
    "<li>Maîtriser l'utilisation des variables locales et globales.</li>\n",
    "<li>Exécuter une solution implémentée.</li>\n",
    "        </ul>\n",
    "    </div>\n",
    "</div>"
   ]
  },
  {
   "cell_type": "markdown",
   "metadata": {
    "deletable": false,
    "editable": false,
    "run_control": {
     "frozen": true
    }
   },
   "source": [
    "<span style=\"font-size:20px; text-decoration: underline;\">_Rappel :_</span> <br/>\n",
    "<span style=\"margin-left:30px;\"></span>Écrire un programme Python qui calcule le volume d’une sphère de rayon ```r``` sachant que ```volume``` $= \\frac{4πr^3}{3}$."
   ]
  },
  {
   "cell_type": "code",
   "execution_count": null,
   "metadata": {},
   "outputs": [],
   "source": [
    "...\n",
    "\n",
    "def volumeSphere(r):\n",
    "    ...\n",
    "\n",
    "volume = ...                       # 1ère appel de la fonction volumeSphere\n",
    "print(volume)\n",
    "print(volumeSphere(7))             # 2ème appel de la fonction volumeSphere"
   ]
  },
  {
   "cell_type": "markdown",
   "metadata": {
    "deletable": false,
    "editable": false,
    "nbgrader": {
     "cell_type": "markdown",
     "checksum": "865bea89213bdf5121ff771a446744ca",
     "grade": false,
     "grade_id": "cell-56b122ea3658c763",
     "locked": true,
     "schema_version": 3,
     "solution": false,
     "task": false
    },
    "run_control": {
     "frozen": true
    }
   },
   "source": [
    "<span style=\"margin-left:30px;font-size:28px;color: #005599;\">V- Les modules :</span><br>\n",
    "\n",
    "<span style=\"margin-left:60px;font-size:20px;color: #0077cc;\">2- Les procédures :</span><br>\n",
    "\n",
    "<span style=\"font-size:20px; text-decoration: underline;\">_Activité :_</span> <br/>\n",
    "<span style=\"margin-left:30px;\"></span>Soit deux variables ```a = 4``` et ```b = 9```. Pour permuter ces deux variables il suffit d'écrire : ```a, b = b, a```. Une deuxième méthode consiste à utiliser une troisième variable ```temp``` pour échanger les valeurs de ```a``` et ```b```.<br>\n",
    "Compléter le module suivant pour permuter ```a``` et ```b``` :"
   ]
  },
  {
   "cell_type": "code",
   "execution_count": null,
   "metadata": {},
   "outputs": [],
   "source": [
    "def permute(a, b):\n",
    "    temp = ...\n",
    "    ...\n",
    "    ...\n",
    "    ...\n",
    "\n",
    "a = 4\n",
    "b = 9\n",
    "permute(a, b)\n",
    "print(a, b)"
   ]
  },
  {
   "cell_type": "markdown",
   "metadata": {
    "deletable": false,
    "editable": false,
    "run_control": {
     "frozen": true
    }
   },
   "source": [
    "<span style=\"font-size:20px; text-decoration: underline;\">_Remarque :_</span> <br/>\n",
    "- Une fonction ne permet pas de retourner plusieurs résultats\n",
    "- Une procédure est un sous-programme qui ne contient pas l'instruction ```return```.\n",
    "\n",
    "<span style=\"font-size:20px; text-decoration: underline;\">_Syntaxe :_</span> <br/>\n",
    "\n",
    "<img src=\"https://coursenligne.edublogs.org/files/2021/08/procedure.png\">"
   ]
  },
  {
   "cell_type": "markdown",
   "metadata": {
    "deletable": false,
    "editable": false,
    "run_control": {
     "frozen": true
    }
   },
   "source": [
    "<span style=\"font-size:20px; text-decoration: underline;\">_Application 1 :_</span> <br/>\n",
    "<span style=\"margin-left:30px;\"></span>Ecrire une solution de l'activité précédente en définissant une procédure :"
   ]
  },
  {
   "cell_type": "code",
   "execution_count": null,
   "metadata": {},
   "outputs": [],
   "source": [
    "def permute(a, b):\n",
    "    temp = ...\n",
    "    ...\n",
    "    ...\n",
    "    ...\n",
    "\n",
    "a = 4\n",
    "b = 9\n",
    "permute(a, b)"
   ]
  },
  {
   "cell_type": "markdown",
   "metadata": {
    "deletable": false,
    "editable": false,
    "run_control": {
     "frozen": true
    }
   },
   "source": [
    "<span style=\"font-size:20px; text-decoration: underline;\">_Application 2 :_</span> <br/>\n",
    "- Ecrire une procédure ayant pour paramètres formels deux entiers ```a``` et ```b``` et qui affiche leur somme.\n",
    "- Ecrire deux exemples d'appel de la procédure ```affichesomme``` :"
   ]
  },
  {
   "cell_type": "code",
   "execution_count": null,
   "metadata": {},
   "outputs": [],
   "source": [
    "... affichesomme(..., ...):\n",
    "    s = ... + ...\n",
    "    print(\"somme = \", ...)\n",
    "\n",
    "\n",
    "...\n",
    "..."
   ]
  },
  {
   "cell_type": "markdown",
   "metadata": {
    "deletable": false,
    "editable": false,
    "run_control": {
     "frozen": true
    }
   },
   "source": [
    "<span style=\"font-size:20px; text-decoration: underline;\">_Application 3 :_</span> <br/>\n",
    "- Ecrire une procédure ayant pour paramètres formels trois entiers ```a```, ```b``` et ```c``` et qui affiche leur moyenne.\n",
    "- Ecrire deux exemples d'appel de la procédure ```affichemoyenne``` :"
   ]
  },
  {
   "cell_type": "code",
   "execution_count": null,
   "metadata": {},
   "outputs": [],
   "source": [
    "... affichemoyenne(...\n",
    "    moy = ...\n",
    "    print(\"moyenne =\",...)\n",
    "\n",
    "\n",
    "...\n",
    "..."
   ]
  },
  {
   "cell_type": "markdown",
   "metadata": {
    "deletable": false,
    "editable": false,
    "nbgrader": {
     "cell_type": "markdown",
     "checksum": "49c45b8d361eb5e2b386a547d715bb54",
     "grade": false,
     "grade_id": "cell-20523ac53a752361",
     "locked": true,
     "schema_version": 3,
     "solution": false,
     "task": false
    },
    "run_control": {
     "frozen": true
    }
   },
   "source": [
    "<span style=\"font-size:20px; text-decoration: underline;\">_Application 4 :_</span> <br/>\n",
    "<span style=\"margin-left:30px;\"></span>Ecrire l'analyse, l'algorithme et la traduction en Python d'un programme qui affiche la somme des carrés de deux nombres saisies au clavier $(a^2 + b^2)$, en définissant une procédure ```sommecarre```."
   ]
  },
  {
   "cell_type": "code",
   "execution_count": null,
   "metadata": {},
   "outputs": [],
   "source": [
    "..."
   ]
  },
  {
   "cell_type": "markdown",
   "metadata": {
    "deletable": false,
    "editable": false,
    "nbgrader": {
     "cell_type": "markdown",
     "checksum": "ab06b2572a6d38d1553f7994a6d22dbb",
     "grade": false,
     "grade_id": "cell-e91613f3b1e31367",
     "locked": true,
     "schema_version": 3,
     "solution": false,
     "task": false
    },
    "run_control": {
     "frozen": true
    }
   },
   "source": [
    "<span style=\"margin-left:60px;font-size:20px;color: #0077cc;\">3- Variables locales, variables globales :</span><br>\n",
    "\n",
    "<span style=\"margin-left:30px;\"></span>Les variables locaux (définis à l’intérieur d’une procédure) ne sont accessibles qu’à la procédure elle-même. Ainsi par exemple, si nous essayons d'afficher le contenu de la variable ```s``` dans le programme principale, nous obtenons un message d'erreur :"
   ]
  },
  {
   "cell_type": "code",
   "execution_count": null,
   "metadata": {},
   "outputs": [],
   "source": [
    "def somme(a, b) :\n",
    "    s = a + b\n",
    "    print(s)\n",
    "\n",
    "somme(5, 3)\n",
    "print(s)           # Erreur ! : s n’est pas définit."
   ]
  },
  {
   "cell_type": "markdown",
   "metadata": {
    "deletable": false,
    "editable": false,
    "nbgrader": {
     "cell_type": "markdown",
     "checksum": "3c841e6a6f5732e40958cdd9c75fdb23",
     "grade": false,
     "grade_id": "cell-3cc34afb722649a0",
     "locked": true,
     "schema_version": 3,
     "solution": false,
     "task": false
    },
    "run_control": {
     "frozen": true
    }
   },
   "source": [
    "<span style=\"margin-left:30px;\"></span>Les variables définies à l’extérieur d’une procédure sont des variables globales. Leurs contenu est « visible » de l’intérieur d’une procédure, mais la procédure ne peut pas les modifier.\n",
    "\n",
    "<span style=\"font-size:20px; text-decoration: underline;\">_Exemple :_</span> <br/>"
   ]
  },
  {
   "cell_type": "code",
   "execution_count": null,
   "metadata": {},
   "outputs": [],
   "source": [
    "def affiche():\n",
    "    a = 20\n",
    "    print(\"A l'intérieur de la procédure : a = \", a)\n",
    "\n",
    "a = 5\n",
    "affiche()\n",
    "print(\"A l'extérieur de la procédure : a = \", a)"
   ]
  },
  {
   "cell_type": "markdown",
   "metadata": {
    "deletable": false,
    "editable": false,
    "nbgrader": {
     "cell_type": "markdown",
     "checksum": "b1f620fdfc29b0864adcd01f231f1e4f",
     "grade": false,
     "grade_id": "cell-1108fa62998ae210",
     "locked": true,
     "schema_version": 3,
     "solution": false,
     "task": false
    },
    "run_control": {
     "frozen": true
    }
   },
   "source": [
    "<span style=\"font-size:20px; text-decoration: underline;\">_Remarque :_</span> <br/>\n",
    "- Pour modifier une variable globale il suffit d'utiliser l'instruction ```global```.\n",
    "\n",
    "<span style=\"font-size:20px; text-decoration: underline;\">_Exemple :_</span> <br/>"
   ]
  },
  {
   "cell_type": "code",
   "execution_count": null,
   "metadata": {},
   "outputs": [],
   "source": [
    "def affiche():\n",
    "    global a\n",
    "    a = 20\n",
    "    print(\"A l'intérieur de la procédure : a = \", a)\n",
    "\n",
    "a = 5\n",
    "affiche()\n",
    "print(\"A l'extérieur de la procédure : a = \", a)"
   ]
  },
  {
   "cell_type": "markdown",
   "metadata": {
    "deletable": false,
    "editable": false,
    "run_control": {
     "frozen": true
    }
   },
   "source": [
    "- En algorithmique, on doit ajouter le terme ```var``` avant les paramètres qu'on souhaite les modifier.\n",
    "\n",
    "<span style=\"font-size:20px; text-decoration: underline;\">_Exemple :_</span> <br/>\n",
    "\n",
    "```\n",
    "Procédure permute(var a : entier, var b : entier)\n",
    "DEBUT\n",
    "    ...\n",
    "FIN\n",
    "```"
   ]
  },
  {
   "cell_type": "markdown",
   "metadata": {
    "deletable": false,
    "editable": false,
    "run_control": {
     "frozen": true
    }
   },
   "source": [
    "<span style=\"font-size:20px; text-decoration: underline;\">_Application 1 :_</span> <br>\n",
    "<span style=\"margin-left:30px;\"></span>Pour  chacun  des  programmes  suivants,  indiquez :\n",
    "- Quelles  variables  sont  locales.\n",
    "- Lesquelles sont globales.\n",
    "- La valeur de la variable ```p``` après l’exécution du programme.<br><br>\n",
    "\n",
    "<div style=\"width:50%; float:left;\">\n",
    "<strong style=\"text-decoration: underline;\">Programme 1 :</strong>\n",
    "<pre>\n",
    "def multiplierpar(x):\n",
    "    p = p*x\n",
    "    print(p)\n",
    "\n",
    "\n",
    "p = 4\n",
    "print(p)\n",
    "multiplierpar(3)\n",
    "print(p)\n",
    "</pre>\n",
    "</div>\n",
    "<div style=\"width:50%; float:left;\">\n",
    "<strong style=\"text-decoration: underline;\">Programme 2 :</strong>\n",
    "<pre>\n",
    "def multiplierpar(x):\n",
    "    global p\n",
    "    p = p*x\n",
    "    print(p)\n",
    "\n",
    "p = 4\n",
    "print(p)\n",
    "multiplierpar(3)\n",
    "print(p)\n",
    "</pre>\n",
    "</div>"
   ]
  },
  {
   "cell_type": "markdown",
   "metadata": {
    "deletable": false,
    "editable": false,
    "run_control": {
     "frozen": true
    }
   },
   "source": [
    "<span style=\"font-size:20px; text-decoration: underline;\">_Application 2 :_</span> <br/>\n",
    "<span style=\"margin-left:30px;\"></span>Ecrire l'analyse, l'algorithme et la traduction en Python d'un programme qui calcule $a^b$ puis permute a et b puis calcule à nouveau $a^b$ en définissant deux procédures ```permute()``` et ```puissance(x, y)```."
   ]
  },
  {
   "cell_type": "code",
   "execution_count": null,
   "metadata": {},
   "outputs": [],
   "source": [
    "..."
   ]
  },
  {
   "cell_type": "code",
   "execution_count": null,
   "metadata": {
    "deletable": false,
    "editable": false,
    "hide_input": true,
    "init_cell": true,
    "nbgrader": {
     "cell_type": "code",
     "checksum": "76e6f8a3771a207549933444247d488f",
     "grade": false,
     "grade_id": "cell-b081698cdfd36159",
     "locked": true,
     "schema_version": 3,
     "solution": false,
     "task": false
    }
   },
   "outputs": [],
   "source": [
    "display(HTML(\"\"\" <iframe width=\"100%\" height=\"650px\" frameborder=\"0\"\n",
    "                    src=\"https://myquiz3.herokuapp.com/quiz/procedure\"> </iframe> \"\"\"))"
   ]
  },
  {
   "cell_type": "markdown",
   "metadata": {
    "deletable": false,
    "editable": false,
    "nbgrader": {
     "cell_type": "markdown",
     "checksum": "10ed2970667190bf1c6d63020e13593c",
     "grade": false,
     "grade_id": "cell-fd36332ad91cafab",
     "locked": true,
     "schema_version": 3,
     "solution": false,
     "task": false
    },
    "run_control": {
     "frozen": true
    }
   },
   "source": [
    "<span style=\"font-size:20px; text-decoration: underline;\">_Exercice :_</span> 17 (Série I)."
   ]
  }
 ],
 "metadata": {
  "kernelspec": {
   "display_name": "Python 3",
   "language": "python",
   "name": "python3"
  },
  "language_info": {
   "codemirror_mode": {
    "name": "ipython",
    "version": 3
   },
   "file_extension": ".py",
   "mimetype": "text/x-python",
   "name": "python",
   "nbconvert_exporter": "python",
   "pygments_lexer": "ipython3",
   "version": "3.7.3"
  }
 },
 "nbformat": 4,
 "nbformat_minor": 4
}
