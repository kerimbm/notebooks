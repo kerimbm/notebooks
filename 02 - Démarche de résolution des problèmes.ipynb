{
 "cells": [
  {
   "cell_type": "code",
   "execution_count": 9,
   "metadata": {
    "deletable": false,
    "editable": false,
    "hide_input": true,
    "init_cell": true,
    "nbgrader": {
     "grade": false,
     "grade_id": "cell-46a46b703625499d",
     "locked": true,
     "schema_version": 3,
     "solution": false,
     "task": false
    }
   },
   "outputs": [],
   "source": [
    "from IPython.display import HTML, display\n",
    "from IPython.core.magic import register_line_cell_magic\n",
    "import urllib.request\n",
    "\n",
    "@register_line_cell_magic\n",
    "def tutor(line, cell):\n",
    "    code = urllib.parse.urlencode({\"code\": cell})\n",
    "    display(HTML(\"\"\"\n",
    "    <iframe width=\"970\" height=\"500px\" frameborder=\"0\"\n",
    "            src=\"http://pythontutor.com/iframe-embed.html#%s&py=3\">\n",
    "    </iframe>\n",
    "    \"\"\" % code))"
   ]
  },
  {
   "cell_type": "markdown",
   "metadata": {
    "deletable": false,
    "editable": false,
    "run_control": {
     "frozen": true
    }
   },
   "source": [
    "<div style=\"background-color:#fff5f5;border:2px solid #faa;padding:20px 0 10px 0;\">\n",
    "    <div style=\"margin-left:30px;font-size:28px;color: #009955;\">Objectifs :</div>\n",
    "    <div style=\"font-size:18px;color: #0077cc;line-height:35px;margin-left:70px;\">\n",
    "        <ul>\n",
    "<li>Reconnaître les phases de résolution d’un problème :\n",
    "            <ul>\n",
    "               <li>Lire et comprendre l’énoncé d’un problème afin de dégager les tâches à réaliser.</li>\n",
    "               <li>Dégager les éléments essentiels pour la résolution (les entrées, les sorties et les traitements).</li>\n",
    "               <li>Élaborer une solution sous forme d’un algorithme.</li>\n",
    "               <li>Écrire et tester le programme solution sur ordinateur.</li>\n",
    "               <li>Apporter des modifications à la solution (actions correctives, actions évolutives).</li>\n",
    "            </ul>\n",
    "</li>\n",
    "        </ul>\n",
    "    </div>\n",
    "</div>"
   ]
  },
  {
   "cell_type": "markdown",
   "metadata": {
    "deletable": false,
    "editable": false,
    "run_control": {
     "frozen": true
    }
   },
   "source": [
    "<span style=\"font-size:20px; text-decoration: underline;\">_Rappel :_</span> <br/>\n"
   ]
  },
  {
   "cell_type": "code",
   "execution_count": 10,
   "metadata": {
    "deletable": false,
    "editable": false,
    "hide_input": true,
    "init_cell": true
   },
   "outputs": [
    {
     "data": {
      "text/html": [
       " <iframe width=\"100%\" height=\"650px\" frameborder=\"0\"\n",
       "                    src=\"https://myquiz3.herokuapp.com/quiz/introduction\"> </iframe> "
      ],
      "text/plain": [
       "<IPython.core.display.HTML object>"
      ]
     },
     "metadata": {},
     "output_type": "display_data"
    }
   ],
   "source": [
    "display(HTML(\"\"\" <iframe width=\"100%\" height=\"650px\" frameborder=\"0\"\n",
    "                    src=\"https://myquiz3.herokuapp.com/quiz/introduction\"> </iframe> \"\"\"))"
   ]
  },
  {
   "cell_type": "markdown",
   "metadata": {
    "deletable": false,
    "editable": false,
    "nbgrader": {
     "grade": false,
     "grade_id": "cell-39d2ca21d1403902",
     "locked": true,
     "schema_version": 3,
     "solution": false,
     "task": false
    },
    "run_control": {
     "frozen": true
    }
   },
   "source": [
    "<span style=\"margin-left:30px;font-size:28px;color: #005599;\">II. Démarche de résolution des problèmes :</span><br>\n",
    "\n",
    "<span style=\"font-size:20px; text-decoration: underline;\">_Activité :_</span> <br/>\n",
    "<span style=\"margin-left:30px;\"></span>On se propose d’écrire un programme qui permet de calculer et d’afficher le volume d'un parallélépipède rectangle dont sont fournis au départ la largeur, la hauteur et la profondeur.\n",
    "\n",
    "<img src=\"https://coursenligne.edublogs.org/files/2021/08/parallelepipede.png\">\n",
    "\n",
    "<span style=\"font-size:20px; text-decoration: underline;\">_Remarque :_</span> <br/>\n",
    "<span style=\"margin-left:30px;\"></span>Pour trouver une solution informatique à un problème donné, il faut passer par quatre étapes :\n",
    "\n",
    "\n",
    "<span style=\"margin-left:60px;font-size:20px;color: #0077cc;\">1. Première étape : Analyse</span><br>\n",
    "\n",
    "<span style=\"margin-left:30px;\"></span>L'analyse peut prendre différentes formes, dont les plus simples sont :"
   ]
  },
  {
   "cell_type": "markdown",
   "metadata": {
    "deletable": false,
    "editable": false,
    "run_control": {
     "frozen": true
    }
   },
   "source": [
    "- Une carte mentale\n",
    "\n",
    "<img src=\"https://coursenligne.edublogs.org/files/2021/08/carte-1.png\">\n"
   ]
  },
  {
   "cell_type": "markdown",
   "metadata": {
    "deletable": false,
    "editable": false,
    "run_control": {
     "frozen": true
    }
   },
   "source": [
    "- Entrées, Traitement, Sorties :\n",
    "\n",
    "<img src=\"https://coursenligne.edublogs.org/files/2021/08/carte-2.png\"></img>\n"
   ]
  },
  {
   "cell_type": "markdown",
   "metadata": {
    "deletable": false,
    "editable": false,
    "run_control": {
     "frozen": true
    }
   },
   "source": [
    "- Un organigramme\n",
    "\n",
    "<img src=\"https://coursenligne.edublogs.org/files/2021/08/carte-3.png\"></img>"
   ]
  },
  {
   "cell_type": "markdown",
   "metadata": {
    "deletable": false,
    "editable": false,
    "run_control": {
     "frozen": true
    }
   },
   "source": [
    "<img style=\"display:inline;\" src=\"https://coursenligne.edublogs.org/files/2020/10/remarque.png\"> Nous allons choisir la méthode la plus simple qui consiste à élaborer une carte mentale pour décrire les grandes lignes solution du problème <span style=\"color:#888;\">_(Vous pouvez choisir la méthode qui vous convient si la carte mentale vous semble difficile)_</span>.\n",
    "\n",
    "<span style=\"font-size:20px; text-decoration: underline;\">_Activité :_</span> <br/>\n",
    "<span style=\"margin-left:30px;\"></span>Développer une carte mentale solution de l'activité précédente."
   ]
  },
  {
   "cell_type": "markdown",
   "metadata": {
    "deletable": false,
    "editable": false,
    "nbgrader": {
     "grade": false,
     "grade_id": "cell-ef971637cc4276e2",
     "locked": true,
     "schema_version": 3,
     "solution": false,
     "task": false
    },
    "run_control": {
     "frozen": true
    }
   },
   "source": [
    "<span style=\"margin-left:60px;font-size:20px;color: #0077cc;\">2. Deuxième étape : Algorithme</span><br>\n",
    "\n",
    "<span style=\"font-size:20px; text-decoration: underline;\">_Définition :_</span> <br/>\n",
    "<span style=\"margin-left:30px;\"></span>Un algorithme est une suite finie d’actions ou instructions sert à résoudre un problème de manière systématique.\n",
    "\n",
    "<span style=\"margin-left:30px;\"></span>Afin de pouvoir exécuter de manière systématique un algorithme, on doit obligatoirement éviter l'ambiguïté. Or les langues naturelles, comme le français, sont intrinsèquement ambiguës. Il est donc indispensable d'écrire les algorithmes dans un langage formel, dont la sémantique est précisément définie.\n",
    "\n",
    "<span style=\"font-size:20px; text-decoration: underline;\">_Forme générale d'un algorithme :_</span> <br/>\n",
    "<pre>\n",
    "ALGORITHME Nom\n",
    "DEBUT\n",
    "    Traitements\n",
    "    ...\n",
    "FIN\n",
    "</pre>\n",
    "\n",
    "<span style=\"font-size:20px; text-decoration: underline;\">_Remarque :_</span> <br/>\n",
    "- On utilise le verbe \"Lire\" pour la saisie de données et le verbe \"Afficher\" pour l’affichage ou la sortie du résultat.\n",
    "- On utilise le signe \"<img style=\"display:inline;\" src=\"https://coursenligne.edublogs.org/files/2020/10/fleche.png\"></img>\" pour mettre une valeur dans une variable.\n",
    "- Chaque programme manipule des données que ce soit en entrée, au cours du traitement ou en sortie. Ces données nécessitent un emplacement en mémoire. C’est pour cette raison que tous les langages de programmation exigent d’utiliser des variables pour que le programme prépare leurs emplacements en mémoire. Donc, avant d’écrire un programme, il faut dresser un tableau afin de déclarer tous les objets à utilisés dans ce programme. Le tableau est de cette forme :\n",
    "\n",
    "<div style=\"text-align:center;\">\n",
    "    <span style=\"background-color:#ddd; color:#914; font-size:18px; padding:3px 6px\">\n",
    "        Tableau de déclaration des objets\n",
    "    </span>\n",
    "</div>\n",
    "<img src=\"https://coursenligne.edublogs.org/files/2021/08/tdo.png\"></img>\n",
    "\n",
    "<span style=\"font-size:20px; text-decoration: underline;\">_Activité :_</span> <br/>\n",
    "\n",
    "1. Utiliser Blockly pour réaliser l’activité précédente puis écrire l'algorithme de votre programme.\n",
    "2. Déduire le tableau de déclaration des objets de l’algorithme ```volume_parallelepipede```."
   ]
  },
  {
   "cell_type": "code",
   "execution_count": 11,
   "metadata": {
    "deletable": false,
    "editable": false,
    "hide_input": true,
    "init_cell": true,
    "scrolled": false
   },
   "outputs": [
    {
     "data": {
      "text/html": [
       " <iframe width=\"100%\" height=\"1080\" frameborder=\"0\"\n",
       "                    src=\"https://sofuspy3.herokuapp.com/sofuspy/run.html\"> </iframe> "
      ],
      "text/plain": [
       "<IPython.core.display.HTML object>"
      ]
     },
     "metadata": {},
     "output_type": "display_data"
    }
   ],
   "source": [
    "display(HTML(\"\"\" <iframe width=\"100%\" height=\"1080\" frameborder=\"0\"\n",
    "                    src=\"https://sofuspy3.herokuapp.com/sofuspy/run.html\"> </iframe> \"\"\"))"
   ]
  },
  {
   "cell_type": "markdown",
   "metadata": {
    "deletable": false,
    "editable": false,
    "run_control": {
     "frozen": true
    }
   },
   "source": [
    "<span style=\"margin-left:60px;font-size:20px;color: #0077cc;\">3. Troisième étape : Ecriture du programme et tests</span><br>\n",
    "\n",
    "<span style=\"font-size:20px; text-decoration: underline;\">_Activité :_</span> <br/>\n",
    "-\tCliquer sur le bouton « Editeur » dans Blockly pour traduire l’algorithme précédent en programme Python.\n",
    "-\tCopier le code obtenu dans la cellule ci-dessous.\n",
    "-\tAjouter au début de cette cellule la directive ```%%tutor``` pour visualiser les étapes d’exécution du programme."
   ]
  },
  {
   "cell_type": "code",
   "execution_count": null,
   "metadata": {},
   "outputs": [],
   "source": []
  },
  {
   "cell_type": "markdown",
   "metadata": {
    "deletable": false,
    "editable": false,
    "nbgrader": {
     "grade": false,
     "grade_id": "cell-1d26eb562c0c6027",
     "locked": true,
     "schema_version": 3,
     "solution": false,
     "task": false
    },
    "run_control": {
     "frozen": true
    }
   },
   "source": [
    "<span style=\"margin-left:60px;font-size:20px;color: #0077cc;\">4. Quatrième étape : Appliquer des correctifs et des améliorations à la solution</span><br>\n",
    "\n",
    "<span style=\"margin-left:30px;\"></span>Dans cette étape nous allons corriger les éventuelles erreurs de notre programme s’ils existent, et luis ajouter des améliorations si c’est possible.\n",
    "\n",
    "<span style=\"font-size:20px; text-decoration: underline;\">_Activité :_</span> <br/>\n",
    "\n",
    "-\tEssayer de corriger les erreurs de votre programme s’il ne s’exécute pas comme prévue.\n",
    "-\tEssayer d’apporter des améliorations à votre programme."
   ]
  },
  {
   "cell_type": "code",
   "execution_count": null,
   "metadata": {},
   "outputs": [],
   "source": []
  },
  {
   "cell_type": "markdown",
   "metadata": {
    "deletable": false,
    "editable": false,
    "hide_input": false,
    "nbgrader": {
     "grade": false,
     "grade_id": "cell-f7a0f3930c139b61",
     "locked": true,
     "schema_version": 3,
     "solution": false,
     "task": false
    },
    "run_control": {
     "frozen": true
    }
   },
   "source": [
    "<span style=\"font-size:20px; text-decoration: underline;\">_Applications :_</span> <br/>\n",
    "\n",
    "<span style=\"margin-left:30px;\"></span>Soit à écrire les programmes suivants :\n",
    "1. Calcul de la moyenne de trois nombres.\n",
    "2. Calcul de la surface d'un rectangle.\n",
    "4. Calcul du résultat de la fonction suivante : $f(x) = 2x + 3$.\n",
    "\n",
    "On vous demande d’appliquer la démarche de résolution des problèmes vus précédemment pour résoudre les applications ci-dessus."
   ]
  },
  {
   "cell_type": "code",
   "execution_count": null,
   "metadata": {},
   "outputs": [],
   "source": []
  },
  {
   "cell_type": "code",
   "execution_count": 12,
   "metadata": {
    "deletable": false,
    "editable": false,
    "hide_input": true,
    "init_cell": true,
    "nbgrader": {
     "grade": false,
     "grade_id": "cell-fffeef2ce00941f5",
     "locked": true,
     "schema_version": 3,
     "solution": false,
     "task": false
    }
   },
   "outputs": [
    {
     "data": {
      "text/html": [
       " <iframe width=\"100%\" height=\"650px\" frameborder=\"0\"\n",
       "                    src=\"https://myquiz3.herokuapp.com/quiz/demarche-resolution\"> </iframe> "
      ],
      "text/plain": [
       "<IPython.core.display.HTML object>"
      ]
     },
     "metadata": {},
     "output_type": "display_data"
    }
   ],
   "source": [
    "display(HTML(\"\"\" <iframe width=\"100%\" height=\"650px\" frameborder=\"0\"\n",
    "                    src=\"https://myquiz3.herokuapp.com/quiz/demarche-resolution\"> </iframe> \"\"\"))"
   ]
  }
 ],
 "metadata": {
  "celltoolbar": "Initialization Cell",
  "kernelspec": {
   "display_name": "Python 3",
   "language": "python",
   "name": "python3"
  },
  "language_info": {
   "codemirror_mode": {
    "name": "ipython",
    "version": 3
   },
   "file_extension": ".py",
   "mimetype": "text/x-python",
   "name": "python",
   "nbconvert_exporter": "python",
   "pygments_lexer": "ipython3",
   "version": "3.7.3"
  }
 },
 "nbformat": 4,
 "nbformat_minor": 4
}
