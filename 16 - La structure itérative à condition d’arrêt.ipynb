{
 "cells": [
  {
   "cell_type": "code",
   "execution_count": null,
   "metadata": {
    "deletable": false,
    "editable": false,
    "hide_input": true,
    "init_cell": true,
    "nbgrader": {
     "cell_type": "code",
     "checksum": "59c2447459df35ddf9b1e40518a38d93",
     "grade": false,
     "grade_id": "cell-6066f314307f8dc2",
     "locked": true,
     "schema_version": 3,
     "solution": false,
     "task": false
    }
   },
   "outputs": [],
   "source": [
    "from IPython.display import HTML, display\n",
    "from IPython.core.magic import register_line_cell_magic\n",
    "import urllib.request\n",
    "\n",
    "@register_line_cell_magic\n",
    "def tutor(line, cell):\n",
    "    code = urllib.parse.urlencode({\"code\": cell})\n",
    "    display(HTML(\"\"\"\n",
    "    <iframe width=\"970\" height=\"500px\" frameborder=\"0\"\n",
    "            src=\"http://pythontutor.com/iframe-embed.html#%s&py=3\">\n",
    "    </iframe>\n",
    "    \"\"\" % code))"
   ]
  },
  {
   "cell_type": "markdown",
   "metadata": {
    "deletable": false,
    "editable": false,
    "run_control": {
     "frozen": true
    }
   },
   "source": [
    "<div style=\"background-color:#fff5f5;border:2px solid #faa;padding:20px 0 10px 0;\">\n",
    "    <div style=\"margin-left:30px;font-size:28px;color: #009955;\">Objectifs :</div>\n",
    "    <div style=\"font-size:18px;color: #0077cc;line-height:35px;margin-left:70px;\">\n",
    "        <ul>\n",
    "<li>Utiliser les structures répétitives pour répéter un ensemble d'instructions autant de fois que nécessaire.</li>\n",
    "<li>Utiliser la structure itérative à condition d’arrêt pour résoudre un problème.</li>\n",
    "<li>Utiliser un langage de programmation pour implémenter une solution.</li>\n",
    "<li>Traduire un algorithme en un programme exécutable.</li>\n",
    "<li>Écrire un programme pour résoudre un problème.</li>\n",
    "<li>Modifier un code de programmation existant pour changer le comportement d’un programme.</li>\n",
    "        </ul>\n",
    "    </div>\n",
    "</div>"
   ]
  },
  {
   "cell_type": "markdown",
   "metadata": {
    "deletable": false,
    "editable": false,
    "run_control": {
     "frozen": true
    }
   },
   "source": [
    "<span style=\"font-size:20px; text-decoration: underline;\">_Rappel :_</span> <br/>\n",
    "<span style=\"margin-left:30px;\"></span>Ecrire un programme qui demande un nombre de départ, et qui ensuite affiche les dix nombres suivants. Par exemple, si l'utilisateur entre le nombre ```17```, le programme affichera les nombres de ```18``` à ```27```."
   ]
  },
  {
   "cell_type": "code",
   "execution_count": null,
   "metadata": {},
   "outputs": [],
   "source": [
    "..."
   ]
  },
  {
   "cell_type": "markdown",
   "metadata": {
    "deletable": false,
    "editable": false,
    "nbgrader": {
     "cell_type": "markdown",
     "checksum": "16366e147fef7399e3cb9fce438958bd",
     "grade": false,
     "grade_id": "cell-1513b72d7b7772f9",
     "locked": true,
     "schema_version": 3,
     "solution": false,
     "task": false
    },
    "run_control": {
     "frozen": true
    }
   },
   "source": [
    "<span style=\"margin-left:30px;font-size:28px;color: #005599;\">VII- Les structures de contrôle itératives :</span><br>\n",
    "\n",
    "<span style=\"margin-left:60px;font-size:20px;color: #0077cc;\">2- La structure itérative à condition d’arrêt :</span><br>\n",
    "\n",
    "<span style=\"font-size:20px; text-decoration: underline;\">_Activité :_</span> <br/>\n",
    "<span style=\"margin-left:30px;\"></span>Dans le cadre d'écrire un programme qui calcule les moyennes des élèves, on souhaite ajouter un contrôle de saisie sur les notes de telle façon qu’elles soient dans l’intervalle ```[0, 20]``` :\n",
    "- Ecrire la fonction ```saisirNote()``` qui demande à l’utilisateur un nombre compris entre: ```0``` et ```20``` jusqu’à ce que la réponse convienne.\n",
    "- Ecrire un exemple d'appel de cette fonction."
   ]
  },
  {
   "cell_type": "code",
   "execution_count": null,
   "metadata": {},
   "outputs": [],
   "source": [
    "def saisirNote() :\n",
    "    ...\n",
    "    return ...\n",
    "\n",
    "\n",
    "..."
   ]
  },
  {
   "cell_type": "markdown",
   "metadata": {
    "deletable": false,
    "editable": false,
    "nbgrader": {
     "cell_type": "markdown",
     "checksum": "2b909d8550823be88db670ad1142e6f0",
     "grade": false,
     "grade_id": "cell-db68bc17001f1f7e",
     "locked": true,
     "schema_version": 3,
     "solution": false,
     "task": false
    },
    "run_control": {
     "frozen": true
    }
   },
   "source": [
    "<span style=\"font-size:20px; text-decoration: underline;\">_Définition :_</span> <br/>\n",
    "<span style=\"margin-left:30px;\"></span>La structure itérative à condition d’arrêt permet de répéter un traitement (ensemble d’instructions) un nombre fini de fois mais inconnu à l’avance.\n",
    "\n",
    "<img src=\"https://coursenligne.edublogs.org/files/2021/08/tant-que.png\"></img>\n",
    "\n",
    "<span style=\"font-size:20px; text-decoration: underline;\">_Syntaxe :_</span> <br/>\n",
    "\n",
    "<img src=\"https://coursenligne.edublogs.org/files/2021/08/tab-8.png\"></img>\n",
    "\n",
    "<span style=\"font-size:20px; text-decoration: underline;\">_Remarque :_</span> <br/>\n",
    "- En général, quand on sait combien de fois doit avoir lieu la répétition, on utilise la boucle \"pour\".\n",
    "- Si on ne connaît pas à l’avance le nombre de répétitions, on choisit la boucle « Tant que ».\n",
    "- Le nombre d’itération dans la structure ```while``` (Tant que) doit être fini. En effet, elle s’arrête lorsque la condition est évaluée à faux."
   ]
  },
  {
   "cell_type": "code",
   "execution_count": null,
   "metadata": {
    "deletable": false,
    "editable": false,
    "hide_input": true,
    "init_cell": true
   },
   "outputs": [],
   "source": [
    "display(HTML(\"\"\" <iframe style=\"border: 1px solid #aaa; width:100%; height:calc(100vw * 0.5625);\" frameborder=\"0\"  \n",
    "                    src=\"https://coursenligne.edublogs.org/files/2021/08/while.mp4\"> </iframe> \"\"\"))"
   ]
  },
  {
   "cell_type": "markdown",
   "metadata": {
    "deletable": false,
    "editable": false,
    "run_control": {
     "frozen": true
    }
   },
   "source": [
    "<span style=\"font-size:20px; text-decoration: underline;\">_Application 1 :_</span> <br/>\n",
    "<span style=\"margin-left:30px;\"></span>Ecrire l'analyse, l'algorithme et la traduction en Python de l’activité précédente."
   ]
  },
  {
   "cell_type": "code",
   "execution_count": null,
   "metadata": {},
   "outputs": [],
   "source": [
    "..."
   ]
  },
  {
   "cell_type": "markdown",
   "metadata": {
    "deletable": false,
    "editable": false,
    "run_control": {
     "frozen": true
    }
   },
   "source": [
    "<span style=\"font-size:20px; text-decoration: underline;\">_Application 2 :_</span> <br/>\n",
    "<span style=\"margin-left:30px;\"></span>Ecrire un programme qui calcule la moyenne d'un élève dans une matière en utilisant la fonction ```saisirNote()``` pour ajouter un contrôle sur les notes saisies."
   ]
  },
  {
   "cell_type": "code",
   "execution_count": null,
   "metadata": {},
   "outputs": [],
   "source": [
    "def saisirNote():\n",
    "    ...\n",
    "\n",
    "\n",
    "dc1 = ...\n",
    "\n",
    "dc2 = ...\n",
    "\n",
    "ds = ...\n",
    "\n",
    "moy = ............\n",
    "print('La moyenne est : ', ...)\n",
    "\n",
    "# déduire l'algorithme !"
   ]
  },
  {
   "cell_type": "markdown",
   "metadata": {
    "deletable": false,
    "editable": false,
    "run_control": {
     "frozen": true
    }
   },
   "source": [
    "<span style=\"font-size:20px; text-decoration: underline;\">_Application 3 :_</span> <br/>\n",
    "<span style=\"margin-left:30px;\"></span>Le programme suivant doit afficher les entiers de ```7``` à ```17``` à l'aide d'une boucle ```while```. Trouvez les erreurs et corrigez ce programme pour qu'il affiche les valeurs demandées."
   ]
  },
  {
   "cell_type": "code",
   "execution_count": null,
   "metadata": {},
   "outputs": [],
   "source": [
    "n = 0\n",
    "\n",
    "while n < 17:\n",
    "    print(n)\n",
    "    n = n + 2"
   ]
  },
  {
   "cell_type": "markdown",
   "metadata": {
    "deletable": false,
    "editable": false,
    "nbgrader": {
     "cell_type": "markdown",
     "checksum": "b81740576750121b29f210144bcd0617",
     "grade": false,
     "grade_id": "cell-33b8cb254fbe9000",
     "locked": true,
     "schema_version": 3,
     "solution": false,
     "task": false
    },
    "run_control": {
     "frozen": true
    }
   },
   "source": [
    "<span style=\"font-size:20px; text-decoration: underline;\">_Application 4 :_</span> <br/>\n",
    "<span style=\"margin-left:30px;\"></span>Ecrire un programme permettant d’afficher la somme d’une liste de nombres saisis au clavier. La liste se termine par ```-1``` qui ne fera pas partie de la somme."
   ]
  },
  {
   "cell_type": "code",
   "execution_count": null,
   "metadata": {},
   "outputs": [],
   "source": [
    "..."
   ]
  },
  {
   "cell_type": "markdown",
   "metadata": {
    "deletable": false,
    "editable": false,
    "run_control": {
     "frozen": true
    }
   },
   "source": [
    "<span style=\"font-size:20px; text-decoration: underline;\">_Application 5 :_</span> <br/>\n",
    "<span style=\"margin-left:30px;\"></span>Ecrire un programme qui demande successivement des nombres à l’utilisateur, et qui lui affiche ensuite quel était le plus grand (La saisie des nombres s’arrête lorsque l’utilisateur entre ```-1```)"
   ]
  },
  {
   "cell_type": "code",
   "execution_count": null,
   "metadata": {},
   "outputs": [],
   "source": [
    "n = ...\n",
    "max = ...\n",
    "\n",
    "while ...:\n",
    "    n = .....................\n",
    "    if ... :\n",
    "        ...\n",
    "\n",
    "print(...)"
   ]
  },
  {
   "cell_type": "markdown",
   "metadata": {
    "deletable": false,
    "editable": false,
    "nbgrader": {
     "cell_type": "markdown",
     "checksum": "16e2fe38edadb772027368be66a09a50",
     "grade": false,
     "grade_id": "cell-4600565ab79f3d8a",
     "locked": true,
     "schema_version": 3,
     "solution": false,
     "task": false
    },
    "run_control": {
     "frozen": true
    }
   },
   "source": [
    "<span style=\"font-size:20px; text-decoration: underline;\">_Exercice collaboratif :_</span> <br/>\n",
    "<span style=\"margin-left:30px;\"></span>Ecrire un programme Python qui permet de calculer le PGCD de deux entiers entrés au clavier. La méthode de la différence permet de faire ce calcul :\n",
    "\n",
    "PGCD (```m```, ```n```) = PGCD (```m-n```, ```n```) si ```m > n``` (on pose ```m = m - n```)<br>\n",
    "Ou<br>\n",
    "PGCD (```m```, ```n```) = PGCD (```m```, ```n-m```) si ```n > m``` (on pose ```n = n – m```)<br>\n",
    "\n",
    "<span style=\"margin-left:10px;\"><img style=\"display:inline;\" src=\"https://coursenligne.edublogs.org/files/2020/10/remarque.png\"></img> **Le calcul s’arrête quand ```m``` devient égal à ```n```**</span>\n",
    "\n",
    "Exemples : <br>\n",
    "PGCD (```16```,```10```) = PGCD (```6```, ```10```) <br>\n",
    "<span style=\"margin-left:114px;\"></span>= PGCD (```6```, ```4```)<br>\n",
    "<span style=\"margin-left:114px;\"></span>= PGCD (```2```, ```4```)<br>\n",
    "<span style=\"margin-left:114px;\"></span>= PGCD (```2```, ```2```)<br>\n",
    "<span style=\"margin-left:114px;\"></span>=```2```<br>\n",
    "\n",
    "PGCD (```184```, ```184```) = ```184```    aucun calcul ne sera fait."
   ]
  },
  {
   "cell_type": "code",
   "execution_count": null,
   "metadata": {
    "deletable": false,
    "editable": false,
    "hide_input": true,
    "init_cell": true,
    "nbgrader": {
     "cell_type": "code",
     "checksum": "3670169101507690f7cff49b4e7a1d1e",
     "grade": false,
     "grade_id": "cell-49deb1d9f3ebd1ab",
     "locked": true,
     "schema_version": 3,
     "solution": false,
     "task": false
    }
   },
   "outputs": [],
   "source": [
    "display(HTML(\"\"\" <iframe width=\"100%\" height=\"650px\" frameborder=\"0\"\n",
    "                    src=\"https://myquiz3.herokuapp.com/quiz/while\"> </iframe> \"\"\"))"
   ]
  }
 ],
 "metadata": {
  "kernelspec": {
   "display_name": "Python 3",
   "language": "python",
   "name": "python3"
  },
  "language_info": {
   "codemirror_mode": {
    "name": "ipython",
    "version": 3
   },
   "file_extension": ".py",
   "mimetype": "text/x-python",
   "name": "python",
   "nbconvert_exporter": "python",
   "pygments_lexer": "ipython3",
   "version": "3.7.3"
  }
 },
 "nbformat": 4,
 "nbformat_minor": 4
}
