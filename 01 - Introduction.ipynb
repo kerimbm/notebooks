{
 "cells": [
  {
   "cell_type": "code",
   "execution_count": 1,
   "metadata": {
    "deletable": false,
    "editable": false,
    "hide_input": true,
    "init_cell": true,
    "nbgrader": {
     "grade": false,
     "grade_id": "cell-d384fcd294285ea7",
     "locked": true,
     "schema_version": 3,
     "solution": false,
     "task": false
    }
   },
   "outputs": [],
   "source": [
    "from IPython.display import HTML, display\n",
    "from IPython.core.magic import register_line_cell_magic\n",
    "import urllib.request\n",
    "\n",
    "@register_line_cell_magic\n",
    "def tutor(line, cell):\n",
    "    code = urllib.parse.urlencode({\"code\": cell})\n",
    "    display(HTML(\"\"\"\n",
    "    <iframe width=\"970\" height=\"500px\" frameborder=\"0\"\n",
    "            src=\"http://pythontutor.com/iframe-embed.html#%s&py=3\">\n",
    "    </iframe>\n",
    "    \"\"\" % code))"
   ]
  },
  {
   "cell_type": "markdown",
   "metadata": {
    "deletable": false,
    "editable": false,
    "hide_input": false,
    "run_control": {
     "frozen": true
    }
   },
   "source": [
    "<div style=\"background-color:#fff5f5;border:2px solid #faa;padding:20px 0 10px 0;\">\n",
    "    <div style=\"margin-left:30px;font-size:28px;color: #009955;\">Objectifs :</div>\n",
    "    <div style=\"font-size:18px;color: #0077cc;line-height:35px;margin-left:70px;\">\n",
    "        <ul>\n",
    "<li>Présentation des environnements de programmation.</li>\n",
    "<li>Connaître les différences entre langage compilé et langage interprété.</li>\n",
    "<li>Connaître les étapes d'exécution d'un programme écrit en langage interprété.</li>\n",
    "<li>Faire les premiers calculs avec Python.</li>\n",
    "<li>Exécuter une solution implémentée.</li>\n",
    "<li>Modifier un code de programmation existant pour changer le comportement d’un programme.</li>\n",
    "        </ul>\n",
    "    </div>\n",
    "</div>"
   ]
  },
  {
   "cell_type": "markdown",
   "metadata": {
    "deletable": false,
    "editable": false,
    "run_control": {
     "frozen": true
    }
   },
   "source": [
    "<span style=\"color:#005599;\">Chapitre I</span>\n",
    "<h1 style=\"text-align:center;font-size:42px;color:#005599;\">Pensée computationnelle et Programmation</h1>\n",
    "\n",
    "<br><br>\n",
    "<span style=\"font-size:20px; text-decoration: underline;\">_Rappel :_</span> <br/>\n",
    "1. Réaliser le programme suivant avec Blockly :\n",
    "    - Avancer 100 pixels\n",
    "    - Tourner à gauche 120°\n",
    "    - Avancer 100 pixels\n",
    "    - Tourner à gauche 120°\n",
    "    - Avancer 100 pixels\n",
    "2. Modifier le programme précédent pour qu’il dessine un carré\n",
    "3. Basculer vers l'éditeur Python\n",
    "4. Modifier le code Python pour qu’il affiche un pentagone\n",
    "5. Modifier le programme précédent pour qu’il dessine un hexagone d’épaisseur 3\n",
    "\n",
    "<img style=\"display:inline;\" src=\"https://coursenligne.edublogs.org/files/2020/10/remarque.png\"> Angle de rotation = 360°/nombre de cotées"
   ]
  },
  {
   "cell_type": "code",
   "execution_count": 2,
   "metadata": {
    "deletable": false,
    "editable": false,
    "hide_input": true,
    "init_cell": true,
    "scrolled": false
   },
   "outputs": [
    {
     "data": {
      "text/html": [
       " <iframe width=\"100%\" height=\"1080\" frameborder=\"0\"\n",
       "                    src=\"https://sofuspy3.herokuapp.com/sofuspy/run.html\"> </iframe> "
      ],
      "text/plain": [
       "<IPython.core.display.HTML object>"
      ]
     },
     "metadata": {},
     "output_type": "display_data"
    }
   ],
   "source": [
    "display(HTML(\"\"\" <iframe width=\"100%\" height=\"1080\" frameborder=\"0\"\n",
    "                    src=\"https://sofuspy3.herokuapp.com/sofuspy/run.html\"> </iframe> \"\"\"))"
   ]
  },
  {
   "cell_type": "markdown",
   "metadata": {
    "deletable": false,
    "editable": false,
    "hide_input": false,
    "nbgrader": {
     "grade": false,
     "grade_id": "cell-055d5d0b8cca3db7",
     "locked": true,
     "schema_version": 3,
     "solution": false,
     "task": false
    },
    "run_control": {
     "frozen": true
    }
   },
   "source": [
    "\n",
    "<span style=\"margin-left:30px;font-size:28px;color: #005599;\">I. Introduction :</span><br>\n",
    "<span style=\"margin-left:60px;font-size:20px;color: #0077cc;\">1- Langage machine :</span><br>\n",
    "\n",
    "<span style=\"margin-left:30px;\"></span>L’ordinateur se fonde sur un langage pour communiquer avec vous ou avec lui-même. Ce langage est très éloigné de ce que nous utilisons, c'est une longue suite de 0 et de 1 : les uniques valeurs de la base binaire. Les opérations qu'un ordinateur peut effectuer aux nombres de cette base sont assez simples, mais sachez qu’ils suffisent amplement à faire fonctionner des logiciels ou des jeux super-réalistes.\n",
    "\n",
    "Tous les logiciels fonctionnent en gros de la même façon :\n",
    "\n",
    "- Une suite d'instructions écrites en langage machine compose le programme ;\n",
    "- Lors de l'exécution du programme, ces instructions décrivent à l'ordinateur ce qu'il faut faire.\n",
    "\n",
    "<span style=\"margin-left:30px;\"></span>Un langage de programmation sert à traduire un programme source formant des mots-clés (anglais en général), qui seront plus significatifs pour nous, en nombres binaires (langage machine) pour que l’ordinateur puisse l’exécuter. L’exécution de ce programme dépend du langage choisi : compilé ou interprété.\n",
    "\n",
    "<span style=\"margin-left:60px;font-size:20px;color: #0077cc;\">2- Langage compilé :</span><br>\n",
    "\n",
    "<span style=\"margin-left:30px;\"></span>Le compilateur lit toutes les lignes du programme source et produit une nouvelle suite de codes que l'on appelle programme objet. Celui-ci peut être exécuté indépendamment du compilateur et être conservé tel quel dans un fichier (« fichier exécutable »). Exemples : C, C++, Pascal, Algol, …\n",
    "\n",
    "<img src=\"https://coursenligne.edublogs.org/files/2021/08/lang-compile.png\"></img>\n",
    "\n",
    "<span style=\"margin-left:60px;font-size:20px;color: #0077cc;\">3- Langage interprété :</span><br>\n",
    "\n",
    "<span style=\"margin-left:30px;\"></span>Dans cette technique, l’interpréteur doit être utilisé chaque fois que l'on veut faire fonctionner le programme : chaque ligne du programme source analysé est traduite au fur et à mesure en langage machine, qui sont ensuite directement exécutées. S’il y a une erreur l’exécution s’arrête. Aucun programme exécutable n'est généré. Exemples : Basic, APL, Python, …\n",
    "\n",
    "<img src=\"https://coursenligne.edublogs.org/files/2021/08/lang-interprete.png\"></img>\n",
    "\n",
    "<span style=\"font-size:20px; text-decoration: underline;\">_Premiers essais :_</span> <br/>\n",
    "- Que donnent les instructions suivantes (Saisir ces instructions dans le shell Python puis appuyez sur « Entrée »)<br>\n",
    "- Modifier la dernière instruction en ajoutant votre prénom et votre âge."
   ]
  },
  {
   "cell_type": "code",
   "execution_count": null,
   "metadata": {},
   "outputs": [],
   "source": [
    "2 + 3"
   ]
  },
  {
   "cell_type": "code",
   "execution_count": null,
   "metadata": {},
   "outputs": [],
   "source": [
    "print(2 + 3)"
   ]
  },
  {
   "cell_type": "code",
   "execution_count": null,
   "metadata": {},
   "outputs": [],
   "source": [
    "print(\"Je suis un élève, je m'appelle ... et j'ai ... ans.\")"
   ]
  },
  {
   "cell_type": "markdown",
   "metadata": {
    "deletable": false,
    "editable": false,
    "run_control": {
     "frozen": true
    }
   },
   "source": [
    "<span style=\"font-size:20px; text-decoration: underline;\">_Applications 1 :_</span> <br>\n",
    "- Saisir dans le Shell Python les instructions suivantes puis terminer par « Entrée ». Que donnent ces instructions ?"
   ]
  },
  {
   "cell_type": "code",
   "execution_count": null,
   "metadata": {},
   "outputs": [],
   "source": [
    "5 + 3"
   ]
  },
  {
   "cell_type": "code",
   "execution_count": null,
   "metadata": {},
   "outputs": [],
   "source": [
    "7 - 5"
   ]
  },
  {
   "cell_type": "code",
   "execution_count": null,
   "metadata": {},
   "outputs": [],
   "source": [
    "5 - 7"
   ]
  },
  {
   "cell_type": "code",
   "execution_count": null,
   "metadata": {},
   "outputs": [],
   "source": [
    "2 + 3 * 5        # Les règles de priorité entre les opérations mathématiques sont-elles respectées ?"
   ]
  },
  {
   "cell_type": "code",
   "execution_count": null,
   "metadata": {},
   "outputs": [],
   "source": [
    "(2 + 3) * 5"
   ]
  },
  {
   "cell_type": "code",
   "execution_count": null,
   "metadata": {},
   "outputs": [],
   "source": [
    "10 / 2"
   ]
  },
  {
   "cell_type": "code",
   "execution_count": null,
   "metadata": {},
   "outputs": [],
   "source": [
    "10 / 3"
   ]
  },
  {
   "cell_type": "code",
   "execution_count": null,
   "metadata": {},
   "outputs": [],
   "source": [
    "10 // 3"
   ]
  },
  {
   "cell_type": "code",
   "execution_count": null,
   "metadata": {},
   "outputs": [],
   "source": [
    "10 % 3"
   ]
  },
  {
   "cell_type": "code",
   "execution_count": null,
   "metadata": {},
   "outputs": [],
   "source": [
    "3 ** 2"
   ]
  },
  {
   "cell_type": "code",
   "execution_count": null,
   "metadata": {},
   "outputs": [],
   "source": [
    "print('Je programme avec Python')"
   ]
  },
  {
   "cell_type": "markdown",
   "metadata": {
    "deletable": false,
    "editable": false,
    "run_control": {
     "frozen": true
    }
   },
   "source": [
    "- Exécuter puis corriger les instructions suivantes :"
   ]
  },
  {
   "cell_type": "code",
   "execution_count": null,
   "metadata": {},
   "outputs": [],
   "source": [
    "print('Ceci est un message)"
   ]
  },
  {
   "cell_type": "code",
   "execution_count": null,
   "metadata": {},
   "outputs": [],
   "source": [
    "print('Maintenant, j'ai une apostrophe au milieu !!!')"
   ]
  },
  {
   "cell_type": "markdown",
   "metadata": {
    "deletable": false,
    "editable": false,
    "run_control": {
     "frozen": true
    }
   },
   "source": [
    "<span style=\"font-size:20px; text-decoration: underline;\">_Applications 2 :_</span> <br>\n",
    "<span style=\"margin-left:30px;\"></span>Soit le programme Python suivant :"
   ]
  },
  {
   "cell_type": "code",
   "execution_count": null,
   "metadata": {},
   "outputs": [],
   "source": [
    "largeur = 6\n",
    "hauteur = 12\n",
    "surface = largeur * hauteur\n",
    "print('La surface du rectangle est : ', surface)"
   ]
  },
  {
   "cell_type": "markdown",
   "metadata": {
    "deletable": false,
    "editable": false,
    "run_control": {
     "frozen": true
    }
   },
   "source": [
    "- Exécuter le programme ci-dessus puis décrire le résultat.\n",
    "- Modifier les valeurs de ```largeur``` et ```hauteur```  puis exécuter à nouveau le programme.\n",
    "- Modifier le programme pour qu'il affiche le périmètre d'un rectangle.<span style=\"color:#888;\">_(N'oublier pas de modifier le message !)_</span>"
   ]
  },
  {
   "cell_type": "code",
   "execution_count": 3,
   "metadata": {
    "deletable": false,
    "editable": false,
    "hide_input": true,
    "init_cell": true,
    "nbgrader": {
     "grade": false,
     "grade_id": "cell-c857dbaba95ae29b",
     "locked": true,
     "schema_version": 3,
     "solution": false,
     "task": false
    },
    "scrolled": false
   },
   "outputs": [
    {
     "data": {
      "text/html": [
       " <iframe width=\"100%\" height=\"650px\" frameborder=\"0\"\n",
       "                    src=\"https://myquiz3.herokuapp.com/quiz/introduction\"> </iframe> "
      ],
      "text/plain": [
       "<IPython.core.display.HTML object>"
      ]
     },
     "metadata": {},
     "output_type": "display_data"
    }
   ],
   "source": [
    "display(HTML(\"\"\" <iframe width=\"100%\" height=\"650px\" frameborder=\"0\"\n",
    "                    src=\"https://myquiz3.herokuapp.com/quiz/introduction\"> </iframe> \"\"\"))"
   ]
  },
  {
   "cell_type": "code",
   "execution_count": 4,
   "metadata": {
    "deletable": false,
    "editable": false,
    "hide_input": true,
    "init_cell": true
   },
   "outputs": [
    {
     "data": {
      "text/html": [
       " <iframe style=\"border: 1px solid #aaa; width:100%; height:calc(100vw * 0.5625);\" frameborder=\"0\"  \n",
       "                    src=\"https://coursenligne.edublogs.org/files/2021/08/trinket-intro.mp4\"> </iframe> "
      ],
      "text/plain": [
       "<IPython.core.display.HTML object>"
      ]
     },
     "metadata": {},
     "output_type": "display_data"
    }
   ],
   "source": [
    "display(HTML(\"\"\" <iframe style=\"border: 1px solid #aaa; width:100%; height:calc(100vw * 0.5625);\" frameborder=\"0\"  \n",
    "                    src=\"https://coursenligne.edublogs.org/files/2021/08/trinket-intro.mp4\"> </iframe> \"\"\"))"
   ]
  },
  {
   "cell_type": "code",
   "execution_count": 5,
   "metadata": {
    "deletable": false,
    "editable": false,
    "hide_input": true,
    "init_cell": true
   },
   "outputs": [
    {
     "data": {
      "text/html": [
       " <iframe style=\"border: 1px solid #aaa; width:100%; height:calc(100vw * 0.5625);\" frameborder=\"0\"  \n",
       "                    src=\"https://coursenligne.edublogs.org/files/2021/08/CodeSkulptor-intro.mp4\"> </iframe> "
      ],
      "text/plain": [
       "<IPython.core.display.HTML object>"
      ]
     },
     "metadata": {},
     "output_type": "display_data"
    }
   ],
   "source": [
    "display(HTML(\"\"\" <iframe style=\"border: 1px solid #aaa; width:100%; height:calc(100vw * 0.5625);\" frameborder=\"0\"  \n",
    "                    src=\"https://coursenligne.edublogs.org/files/2021/08/CodeSkulptor-intro.mp4\"> </iframe> \"\"\"))"
   ]
  }
 ],
 "metadata": {
  "celltoolbar": "Initialization Cell",
  "kernelspec": {
   "display_name": "Python 3",
   "language": "python",
   "name": "python3"
  },
  "language_info": {
   "codemirror_mode": {
    "name": "ipython",
    "version": 3
   },
   "file_extension": ".py",
   "mimetype": "text/x-python",
   "name": "python",
   "nbconvert_exporter": "python",
   "pygments_lexer": "ipython3",
   "version": "3.7.3"
  }
 },
 "nbformat": 4,
 "nbformat_minor": 4
}
