{
 "cells": [
  {
   "cell_type": "code",
   "execution_count": 1,
   "metadata": {
    "deletable": false,
    "editable": false,
    "hide_input": true,
    "init_cell": true,
    "nbgrader": {
     "cell_type": "code",
     "checksum": "a26febbac4d08cd2ced5a5017ecf2357",
     "grade": false,
     "grade_id": "cell-d384fcd294285ea7",
     "locked": true,
     "schema_version": 3,
     "solution": false,
     "task": false
    }
   },
   "outputs": [],
   "source": [
    "from IPython.display import HTML, display\n",
    "from IPython.core.magic import register_line_cell_magic\n",
    "import urllib.request\n",
    "\n",
    "@register_line_cell_magic\n",
    "def tutor(line, cell):\n",
    "    code = urllib.parse.urlencode({\"code\": cell})\n",
    "    display(HTML(\"\"\"\n",
    "    <iframe width=\"970\" height=\"500px\" frameborder=\"0\"\n",
    "            src=\"http://pythontutor.com/iframe-embed.html#%s&py=3\">\n",
    "    </iframe>\n",
    "    \"\"\" % code))"
   ]
  },
  {
   "cell_type": "markdown",
   "metadata": {
    "deletable": false,
    "editable": false,
    "hide_input": true,
    "run_control": {
     "frozen": true
    }
   },
   "source": [
    "<div style=\"background-color:#fff5f5;border:2px solid #faa;padding:20px 0 10px 0;\"><span style=\"margin-left:30px;font-size:28px;color: #009955;\">Rappel :</span><br>\n",
    "<span style=\"font-size:18px;color: #0077cc;line-height:35px;\">\n",
    "<span style=\"margin-left:100px;\"></span>- Rappeler les près-requis de l'année dernière.<br>\n",
    "</span>\n",
    "<span style=\"margin-left:30px;font-size:28px;color: #009955;\">Objectifs :</span><br>\n",
    "<span style=\"font-size:18px;color: #0077cc;line-height:35px;\">\n",
    "<span style=\"margin-left:100px;\"></span>- Présentation des environnements de programmation<br>\n",
    "<span style=\"margin-left:100px;\"></span>- Faire les premiers calculs avec Python<br>\n",
    "<span style=\"margin-left:100px;\"></span>- Connaître les différences entre langage compilé et langage interprété.<br>\n",
    "<span style=\"margin-left:100px;\"></span>- Connaître les étapes d'exécution d'un programme écrit en langage interprété.<br>\n",
    "<span style=\"margin-left:100px;\"></span>- Faire les premiers essais sous Blockly<br>\n",
    "<span style=\"margin-left:100px;\"></span>- Réaliser un quiz pour consolider les requis.<br>\n",
    "</span></div>"
   ]
  },
  {
   "cell_type": "markdown",
   "metadata": {
    "deletable": false,
    "editable": false,
    "nbgrader": {
     "cell_type": "markdown",
     "checksum": "8842377d73b5e6358fc726547fd39bbf",
     "grade": false,
     "grade_id": "cell-055d5d0b8cca3db7",
     "locked": true,
     "schema_version": 3,
     "solution": false,
     "task": false
    },
    "run_control": {
     "frozen": true
    }
   },
   "source": [
    "<span style=\"color:#005599;\">Chapitre I</span>\n",
    "<h1 style=\"text-align:center;font-size:42px;color:#005599;\">Pensée computationnelle et Programmation</h1>\n",
    "\n",
    "<br><br>\n",
    "\n",
    "<span style=\"margin-left:30px;font-size:28px;color: #005599;\">I. Introduction :</span><br>\n",
    "<span style=\"margin-left:60px;font-size:20px;color: #0077cc;\">a- Langage machine :</span><br>\n",
    "\n",
    "<span style=\"margin-left:30px;\"></span>L’ordinateur se fonde sur un ___langage___ pour communiquer avec vous ou avec lui-même. Les opérations qu'un ordinateur peut effectuer à la base sont : l'addition de deux nombres(+), leur soustraction(-), leur multiplication(*), leur division(/), entière ou non. Ces cinq opérations suffisent amplement à faire fonctionner des logiciels ou des jeux super-réalistes.\n",
    "\n",
    "Tous ces logiciels fonctionnent en gros de la même façon :\n",
    "\n",
    "- Une suite d'instructions écrites en langage machine compose le programme ;\n",
    "- Lors de l'exécution du programme, ces instructions décrivent à l'ordinateur ce qu'il faut faire.\n",
    "\n",
    "<span style=\"margin-left:30px;\"></span>Un langage de programmation sert à traduire un programme source en langage binaire (machine) pour que l’ordinateur puisse l’exécuter. L’exécution de ce programme dépend du langage choisi : compilé ou interprété.\n",
    "\n",
    "<span style=\"margin-left:60px;font-size:20px;color: #0077cc;\">b- Langage compilé :</span><br>\n",
    "\n",
    "<span style=\"margin-left:30px;\"></span>Avec ce type de langage, avant de traduire le programme source en langage binaire, il faut compiler ce programme et corriger les erreurs pour produire un autre programme dit « Programme Exécutable ».\n",
    "Exemples : C, C++, Pascal, Algol, …\n",
    "\n",
    "<img src=\"https://coursenligne.edublogs.org/files/2020/10/lang-compile.jpg\"></img>\n",
    "\n",
    "<span style=\"margin-left:60px;font-size:20px;color: #0077cc;\">c- Langage interprété :</span><br>\n",
    "\n",
    "<span style=\"margin-left:30px;\"></span>Avec ce type de langage, la traduction de programme source en langage machine (binaire), se fait au moment de l’exécution et instruction par instruction. S’il y a une erreur l’exécution est arrêtée.\n",
    "Exemples : Basic, APL, **Python**, …\n",
    "\n",
    "<img src=\"https://coursenligne.edublogs.org/files/2020/10/lang-interprete.jpg\"></img>\n",
    "\n",
    "_<span style=\"font-size:20px; text-decoration: underline;\">Applications :</span>_ <br/>\n",
    "<span style=\"margin-left:30px;\"></span>A l'aide de l'interface Blockly suivante, réaliser les exercices 1, 2, 3, 4 et 5 (série I)."
   ]
  },
  {
   "cell_type": "code",
   "execution_count": 2,
   "metadata": {
    "deletable": false,
    "editable": false,
    "hide_input": true,
    "init_cell": true,
    "nbgrader": {
     "cell_type": "code",
     "checksum": "a038335861474b50152b659ce33cb1d0",
     "grade": false,
     "grade_id": "cell-ed2bef36822433a1",
     "locked": true,
     "schema_version": 3,
     "solution": false,
     "task": false
    }
   },
   "outputs": [
    {
     "data": {
      "text/html": [
       " <iframe width=\"100%\" height=\"1080\" frameborder=\"0\"\n",
       "                    src=\"https://sofuspy.herokuapp.com/sofuspy/run.html\"> </iframe> "
      ],
      "text/plain": [
       "<IPython.core.display.HTML object>"
      ]
     },
     "metadata": {},
     "output_type": "display_data"
    }
   ],
   "source": [
    "display(HTML(\"\"\" <iframe width=\"100%\" height=\"1080\" frameborder=\"0\"\n",
    "                    src=\"https://sofuspy.herokuapp.com/sofuspy/run.html\"> </iframe> \"\"\"))"
   ]
  },
  {
   "cell_type": "code",
   "execution_count": 3,
   "metadata": {
    "deletable": false,
    "editable": false,
    "hide_input": true,
    "init_cell": true,
    "nbgrader": {
     "cell_type": "code",
     "checksum": "63f38503af589197518ca6f5f750388a",
     "grade": false,
     "grade_id": "cell-c857dbaba95ae29b",
     "locked": true,
     "schema_version": 3,
     "solution": false,
     "task": false
    }
   },
   "outputs": [
    {
     "data": {
      "text/html": [
       " <iframe width=\"100%\" height=\"650px\" frameborder=\"0\"\n",
       "                    src=\"https://myquiz2.herokuapp.com/quiz/introduction\"> </iframe> "
      ],
      "text/plain": [
       "<IPython.core.display.HTML object>"
      ]
     },
     "metadata": {},
     "output_type": "display_data"
    }
   ],
   "source": [
    "display(HTML(\"\"\" <iframe width=\"100%\" height=\"650px\" frameborder=\"0\"\n",
    "                    src=\"https://myquiz2.herokuapp.com/quiz/introduction\"> </iframe> \"\"\"))"
   ]
  }
 ],
 "metadata": {
  "kernelspec": {
   "display_name": "Python 3",
   "language": "python",
   "name": "python3"
  },
  "language_info": {
   "codemirror_mode": {
    "name": "ipython",
    "version": 3
   },
   "file_extension": ".py",
   "mimetype": "text/x-python",
   "name": "python",
   "nbconvert_exporter": "python",
   "pygments_lexer": "ipython3",
   "version": "3.7.3"
  }
 },
 "nbformat": 4,
 "nbformat_minor": 4
}
