{
 "cells": [
  {
   "cell_type": "code",
   "execution_count": 3,
   "metadata": {
    "deletable": false,
    "editable": false,
    "hide_input": true,
    "init_cell": true
   },
   "outputs": [],
   "source": [
    "from IPython.display import HTML, display\n",
    "from IPython.core.magic import register_line_cell_magic\n",
    "import urllib.request\n",
    "\n",
    "@register_line_cell_magic\n",
    "def tutor(line, cell):\n",
    "    code = urllib.parse.urlencode({\"code\": cell})\n",
    "    display(HTML(\"\"\"\n",
    "    <iframe width=\"970\" height=\"500px\" frameborder=\"0\"\n",
    "            src=\"http://pythontutor.com/iframe-embed.html#%s&py=3\">\n",
    "    </iframe>\n",
    "    \"\"\" % code))"
   ]
  },
  {
   "cell_type": "markdown",
   "metadata": {
    "deletable": false,
    "editable": false,
    "run_control": {
     "frozen": true
    }
   },
   "source": [
    "<h1 style=\"text-align:center;font-size:42px;color:#005599;\">Travaux pratiques 2</h1>\n",
    "<h3 style=\"text-align:center;font-size:22px;color:#22bb88;\">45 mn</h3>\n",
    "<br><br>\n",
    "\n",
    "<span style=\"font-size:20px; text-decoration: underline;\">_Exercice 1 :_</span> <br>\n",
    "<span style=\"margin-left:30px;\"></span>Soit le programme suivant :\n",
    "\n",
    "```python\n",
    "n = ...\n",
    "u = n % 10\n",
    "d = n // 10\n",
    "print(u*10 + d)\n",
    "```\n",
    "\n",
    "1. Une fois exécuté, le programme affiche ```71```. Quelle est la valeur de la variable ```n``` sachant qu'elle se compose de deux chiffres?\n",
    "2. Traduire le programme précedent en algorithmique."
   ]
  },
  {
   "cell_type": "code",
   "execution_count": null,
   "metadata": {},
   "outputs": [],
   "source": [
    "..."
   ]
  },
  {
   "cell_type": "markdown",
   "metadata": {
    "deletable": false,
    "editable": false,
    "run_control": {
     "frozen": true
    }
   },
   "source": [
    "<span style=\"font-size:20px; text-decoration: underline;\">_Exercice 2 :_</span> <br>\n",
    "<span style=\"margin-left:30px;\"></span>Modifier le code Python suivant afin qu'il affiche le résultat correct de l'opération : $ 7 + \\frac{20 ^ 2 + 7}{10 + 3 ^ 2} $"
   ]
  },
  {
   "cell_type": "code",
   "execution_count": null,
   "metadata": {},
   "outputs": [],
   "source": [
    "print(7 + 20 ** 2 + 7 / 10 + 3 ** 2)"
   ]
  },
  {
   "cell_type": "markdown",
   "metadata": {
    "deletable": false,
    "editable": false,
    "run_control": {
     "frozen": true
    }
   },
   "source": [
    "<span style=\"font-size:20px; text-decoration: underline;\">_Exercice 3 :_</span> <br>\n",
    "<span style=\"margin-left:30px;\"></span>Evaluer les expressions logiques suivantes, sachant que : ```A=7``` et ```B=3```\n",
    "\n",
    "- X = (A != B + 4) and not (B <= 3)\n",
    "- Y = (B > 1) and (not (B == 3) or (A > B))\n",
    "- Z = not (not (int (7.67) == A) or sqrt (9) >= B)"
   ]
  },
  {
   "cell_type": "code",
   "execution_count": null,
   "metadata": {},
   "outputs": [],
   "source": [
    "..."
   ]
  },
  {
   "cell_type": "markdown",
   "metadata": {
    "deletable": false,
    "editable": false,
    "run_control": {
     "frozen": true
    }
   },
   "source": [
    "<span style=\"font-size:20px; text-decoration: underline;\">_Exercice 4 :_</span> <br>\n",
    "1. Ecrire l'instruction python qui permet de saisir votre prénom :"
   ]
  },
  {
   "cell_type": "code",
   "execution_count": null,
   "metadata": {},
   "outputs": [],
   "source": [
    "aproposdemoi = ..."
   ]
  },
  {
   "cell_type": "markdown",
   "metadata": {
    "deletable": false,
    "editable": false,
    "run_control": {
     "frozen": true
    }
   },
   "source": [
    "2. Afficher la longueur de la chaîne ```aproposdemoi``` :"
   ]
  },
  {
   "cell_type": "code",
   "execution_count": null,
   "metadata": {},
   "outputs": [],
   "source": [
    "..."
   ]
  },
  {
   "cell_type": "markdown",
   "metadata": {
    "deletable": false,
    "editable": false,
    "run_control": {
     "frozen": true
    }
   },
   "source": [
    "3. Vérifier que la première lettre est en majuscule :"
   ]
  },
  {
   "cell_type": "code",
   "execution_count": null,
   "metadata": {},
   "outputs": [],
   "source": [
    "..."
   ]
  },
  {
   "cell_type": "markdown",
   "metadata": {
    "deletable": false,
    "editable": false,
    "run_control": {
     "frozen": true
    }
   },
   "source": [
    "4. Vérifier que la deuxième lettre est en minuscule :"
   ]
  },
  {
   "cell_type": "code",
   "execution_count": null,
   "metadata": {},
   "outputs": [],
   "source": [
    "..."
   ]
  },
  {
   "cell_type": "markdown",
   "metadata": {
    "deletable": false,
    "editable": false,
    "run_control": {
     "frozen": true
    }
   },
   "source": [
    "5. Afficher le code ASCII de la dernière lettre de votre prénom :"
   ]
  },
  {
   "cell_type": "code",
   "execution_count": null,
   "metadata": {},
   "outputs": [],
   "source": [
    "..."
   ]
  },
  {
   "cell_type": "markdown",
   "metadata": {
    "deletable": false,
    "editable": false,
    "run_control": {
     "frozen": true
    }
   },
   "source": [
    "6. Afficher votre prénom inversé :"
   ]
  },
  {
   "cell_type": "code",
   "execution_count": null,
   "metadata": {},
   "outputs": [],
   "source": [
    "..."
   ]
  },
  {
   "cell_type": "markdown",
   "metadata": {
    "deletable": false,
    "editable": false,
    "run_control": {
     "frozen": true
    }
   },
   "source": [
    "7. Ajouter à la fin de la variable ```aproposdemoi``` votre nom et votre âge"
   ]
  },
  {
   "cell_type": "code",
   "execution_count": null,
   "metadata": {},
   "outputs": [],
   "source": [
    "aproposdemoi = ..."
   ]
  },
  {
   "cell_type": "markdown",
   "metadata": {
    "deletable": false,
    "editable": false,
    "run_control": {
     "frozen": true
    }
   },
   "source": [
    "<span style=\"font-size:20px; text-decoration: underline;\">_Exercice 5 :_</span> <br>\n",
    "<span style=\"margin-left:30px;\"></span>Soit la liste suivante :\n",
    "\n",
    "```python\n",
    "li = [0, '2', 3, 1]\n",
    "```\n",
    "\n",
    "1. Indiquez le résultat des instructions suivantes :\n",
    "\n",
    "<img src=\"https://coursenligne.edublogs.org/files/2021/08/tab-15.png\">\n",
    "\n",
    "2. Ecrire les instructions Python qui permettent de :\n",
    "\n",
    "<img src=\"https://coursenligne.edublogs.org/files/2021/08/tab-16.png\">"
   ]
  }
 ],
 "metadata": {
  "celltoolbar": "Initialization Cell",
  "kernelspec": {
   "display_name": "Python 3",
   "language": "python",
   "name": "python3"
  },
  "language_info": {
   "codemirror_mode": {
    "name": "ipython",
    "version": 3
   },
   "file_extension": ".py",
   "mimetype": "text/x-python",
   "name": "python",
   "nbconvert_exporter": "python",
   "pygments_lexer": "ipython3",
   "version": "3.7.3"
  }
 },
 "nbformat": 4,
 "nbformat_minor": 4
}
