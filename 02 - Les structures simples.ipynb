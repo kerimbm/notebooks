{
 "cells": [
  {
   "cell_type": "code",
   "execution_count": null,
   "metadata": {
    "deletable": false,
    "editable": false,
    "hide_input": true,
    "init_cell": true,
    "nbgrader": {
     "cell_type": "code",
     "checksum": "af398f7ecd555f9d86de3e0a89b1edd0",
     "grade": false,
     "grade_id": "cell-b5e2efa0d42c1af1",
     "locked": true,
     "schema_version": 3,
     "solution": false,
     "task": false
    }
   },
   "outputs": [],
   "source": [
    "from IPython.display import HTML, display\n",
    "from IPython.core.magic import register_line_cell_magic\n",
    "import urllib.request\n",
    "\n",
    "@register_line_cell_magic\n",
    "def tutor(line, cell):\n",
    "    code = urllib.parse.urlencode({\"code\": cell})\n",
    "    display(HTML(\"\"\"\n",
    "    <iframe width=\"970\" height=\"500px\" frameborder=\"0\"\n",
    "            src=\"http://pythontutor.com/iframe-embed.html#%s&py=3\">\n",
    "    </iframe>\n",
    "    \"\"\" % code))"
   ]
  },
  {
   "cell_type": "markdown",
   "metadata": {
    "deletable": false,
    "editable": false,
    "run_control": {
     "frozen": true
    }
   },
   "source": [
    "<div style=\"background-color:#fff5f5;border:2px solid #faa;padding:20px 0 10px 0;\"><span style=\"margin-left:30px;font-size:28px;color: #009955;\">Rappel :</span><br>\n",
    "<span style=\"font-size:18px;color: #0077cc;line-height:35px;\">\n",
    "<span style=\"margin-left:100px;\">- Langage machine.</span><br>\n",
    "<span style=\"margin-left:100px;\">- Langage compilé.</span><br>\n",
    "<span style=\"margin-left:100px;\">- Langage interprété.</span><br>\n",
    "</span>\n",
    "<span style=\"margin-left:30px;font-size:28px;color: #009955;\">Objectifs :</span><br>\n",
    "<span style=\"font-size:18px;color: #0077cc;line-height:35px;\">\n",
    "<span style=\"margin-left:100px;\">- Connaître les règles de définition  des variables.</span><br>\n",
    "<span style=\"margin-left:100px;\">- Définir l'action d'affetation et s'entrainer sur ses différents modes d'utilisations.</span><br>\n",
    "<span style=\"margin-left:100px;\">- Maîtriser les opérations d'entrées/sorties.</span><br>\n",
    "<span style=\"margin-left:100px;\">- Consolider les requis appris au cours de la séance en réalisant deux applications et un quiz.</span><br>\n",
    "</span></div>"
   ]
  },
  {
   "cell_type": "markdown",
   "metadata": {
    "deletable": false,
    "editable": false,
    "hide_input": true,
    "nbgrader": {
     "cell_type": "markdown",
     "checksum": "857e0f439a7a876199b13af08d8d12dd",
     "grade": false,
     "grade_id": "cell-4bdde5e906fe1f12",
     "locked": true,
     "schema_version": 3,
     "solution": false,
     "task": false
    },
    "run_control": {
     "frozen": true
    }
   },
   "source": [
    "<span style=\"margin-left:30px;font-size:28px;color: #005599;\">II- Les structures simples :</span><br>\n",
    "<span style=\"margin-left:60px;font-size:20px;color: #0077cc;\">1- Les variables :</span><br>\n",
    "\n",
    "_<span style=\"font-size:20px; text-decoration: underline;\">Définition :</span>_ <br/>\n",
    "<span style=\"margin-left:30px;\"></span>Une variable est un objet pouvant prendre différentes valeurs tout le long d’un programme. Elle   est caractérisée par son nom, son type et son contenu.\n",
    "\n",
    "_<span style=\"font-size:20px; text-decoration: underline;\">Exemple :</span>_ <br/>"
   ]
  },
  {
   "cell_type": "code",
   "execution_count": null,
   "metadata": {},
   "outputs": [],
   "source": [
    "Pi = 3.14"
   ]
  },
  {
   "cell_type": "markdown",
   "metadata": {
    "deletable": false,
    "editable": false,
    "nbgrader": {
     "cell_type": "markdown",
     "checksum": "2da396fdf9d88c31f9ba449102ba55b3",
     "grade": false,
     "grade_id": "cell-92bc093c03727c31",
     "locked": true,
     "schema_version": 3,
     "solution": false,
     "task": false
    },
    "run_control": {
     "frozen": true
    }
   },
   "source": [
    "_<span style=\"font-size:20px; text-decoration: underline;\">Remarque :</span>_ <br/>\n",
    "<span style=\"margin-left:30px;\"></span>Le nom de la variable doit obéir à quelques règles simples :\n",
    "- Il doit être composé par des lettres, des chiffres et des traits d’union.\n",
    "- Seules les lettres ordinaires sont autorisées. Les lettres accentuées, les espaces, les caractères spéciaux sont interdits\n",
    "- Il doit commencer obligatoirement par une lettre.\n",
    "- Il est sensible à la casse (les majuscules et les minuscules sont distinguées)\n",
    "\n",
    "_<span style=\"font-size:20px; text-decoration: underline;\">Application :</span>_ <br/>\n",
    "<span style=\"margin-left:30px;\"></span>Corriger les identificateurs incorrects :"
   ]
  },
  {
   "cell_type": "code",
   "execution_count": null,
   "metadata": {},
   "outputs": [],
   "source": [
    "Date Systeme = '19/09/2020'"
   ]
  },
  {
   "cell_type": "code",
   "execution_count": null,
   "metadata": {},
   "outputs": [],
   "source": [
    "2bornes = 100"
   ]
  },
  {
   "cell_type": "code",
   "execution_count": null,
   "metadata": {},
   "outputs": [],
   "source": [
    "Adresse-2 = 'Tunis'"
   ]
  },
  {
   "cell_type": "markdown",
   "metadata": {
    "deletable": false,
    "editable": false,
    "nbgrader": {
     "cell_type": "markdown",
     "checksum": "03db8e2239b33b89ec1471663baa76fa",
     "grade": false,
     "grade_id": "cell-bafb113c319e9379",
     "locked": true,
     "schema_version": 3,
     "solution": false,
     "task": false
    },
    "run_control": {
     "frozen": true
    }
   },
   "source": [
    "<span style=\"margin-left:60px;font-size:20px;color: #0077cc;\">2- L’affectation :</span><br>\n",
    "\n",
    "_<span style=\"font-size:20px; text-decoration: underline;\">Définition :</span>_ <br/>\n",
    "<span style=\"margin-left:30px;\"></span>L’affectation est l’action qui consiste à attribuer une valeur à une variable.\n",
    "\n",
    "L’instruction d’affectation se note avec le signe \"<img style=\"display:inline;\" src=\"https://coursenligne.edublogs.org/files/2020/10/fleche.png\"></img>\". La variable réceptrice est placée à gauche du signe et l’expression est placée à sa droite.\n",
    "\n",
    "_<span style=\"font-size:20px; text-decoration: underline;\">Exemple :</span>_ <br/>\n",
    "\n",
    "A <img style=\"display:inline;\" src=\"https://coursenligne.edublogs.org/files/2020/10/fleche.png\"></img> 45\n",
    "\n",
    "<img src=\"https://coursenligne.edublogs.org/files/2020/10/affectation-1.png\"></img>\n",
    "\n",
    "_<span style=\"font-size:20px; text-decoration: underline;\">Vocabulaire et Syntaxe :</span>_ <br/>\n",
    "\n",
    "<img src=\"https://coursenligne.edublogs.org/files/2020/10/affectation-2.png\"></img>\n",
    "\n",
    "_<span style=\"font-size:20px; text-decoration: underline;\">Remarque :</span>_ <br/>\n",
    "- La valeur de l’évaluation de l’expression doit être compatible avec le type de la variable.\n",
    "- La partie gauche du signe \"=\" doit toujours être une variable, puisqu’il s'agit d'un symbole d'affectation (mettre une valeur dans une variable), et non un symbole d'égalité. Ainsi, l'instruction m + 1 = b est interdite. Par contre, écrire a = a + 1 est inacceptable en mathématique, alors que cette forme d'écriture est très fréquente en programmation. L'instruction a = a + 1 signifie « augmenter la valeur de la variable a d'une unité » (ou encore : « incrémenter a »).\n",
    "- Sous Python, on peut assigner une valeur à plusieurs variables simultanément. Exemple :\n"
   ]
  },
  {
   "cell_type": "code",
   "execution_count": null,
   "metadata": {},
   "outputs": [],
   "source": [
    "a = b = 7"
   ]
  },
  {
   "cell_type": "markdown",
   "metadata": {
    "deletable": false,
    "editable": false,
    "nbgrader": {
     "cell_type": "markdown",
     "checksum": "b41073e328e5033056e0afa045a7a13f",
     "grade": false,
     "grade_id": "cell-f1698578b6ee5119",
     "locked": true,
     "schema_version": 3,
     "solution": false,
     "task": false
    },
    "run_control": {
     "frozen": true
    }
   },
   "source": [
    "- On peut aussi effectuer des affectations parallèles à l'aide d'un seul opérateur :"
   ]
  },
  {
   "cell_type": "code",
   "execution_count": null,
   "metadata": {},
   "outputs": [],
   "source": [
    "a, b = 4, 8"
   ]
  },
  {
   "cell_type": "markdown",
   "metadata": {
    "deletable": false,
    "editable": false,
    "nbgrader": {
     "cell_type": "markdown",
     "checksum": "b7852ee9d8135815acc6dc8726e8be79",
     "grade": false,
     "grade_id": "cell-db12da8bf606137f",
     "locked": true,
     "schema_version": 3,
     "solution": false,
     "task": false
    },
    "run_control": {
     "frozen": true
    }
   },
   "source": [
    "- Pour permuter deux variables on peut utiliser la syntaxe précédente :"
   ]
  },
  {
   "cell_type": "code",
   "execution_count": null,
   "metadata": {},
   "outputs": [],
   "source": [
    "a, b = b, a"
   ]
  },
  {
   "cell_type": "code",
   "execution_count": null,
   "metadata": {},
   "outputs": [],
   "source": []
  },
  {
   "cell_type": "markdown",
   "metadata": {
    "deletable": false,
    "editable": false,
    "nbgrader": {
     "cell_type": "markdown",
     "checksum": "50aff35f5b80b76cc78a1af3005413f2",
     "grade": false,
     "grade_id": "cell-a043add076e60da1",
     "locked": true,
     "schema_version": 3,
     "solution": false,
     "task": false
    },
    "run_control": {
     "frozen": true
    }
   },
   "source": [
    "- Pour incrémenter une variable (i.e augmenter la valeur de la variable d'une unité) on peut saisir :"
   ]
  },
  {
   "cell_type": "code",
   "execution_count": null,
   "metadata": {},
   "outputs": [],
   "source": [
    "a = a + 1"
   ]
  },
  {
   "cell_type": "code",
   "execution_count": null,
   "metadata": {},
   "outputs": [],
   "source": [
    "# Ou aussi :\n",
    "a += 1"
   ]
  },
  {
   "cell_type": "markdown",
   "metadata": {
    "deletable": false,
    "editable": false,
    "nbgrader": {
     "cell_type": "markdown",
     "checksum": "1310fac2db3aa4f7482beb77d6518c0e",
     "grade": false,
     "grade_id": "cell-14a0754938f0f620",
     "locked": true,
     "schema_version": 3,
     "solution": false,
     "task": false
    },
    "run_control": {
     "frozen": true
    }
   },
   "source": [
    "_<span style=\"font-size:20px; text-decoration: underline;\">Application :</span>_ <br/>\n",
    "<span style=\"margin-left:30px;\"></span>Soit la séquence d’instructions suivante :\n",
    "\n",
    "1)\tX <img style=\"display:inline;\" src=\"https://coursenligne.edublogs.org/files/2020/10/fleche.png\"> 70 <br>\n",
    "\n",
    "2)\tY <img style=\"display:inline;\" src=\"https://coursenligne.edublogs.org/files/2020/10/fleche.png\"> 40 <br>\n",
    "\n",
    "3)\tZ <img style=\"display:inline;\" src=\"https://coursenligne.edublogs.org/files/2020/10/fleche.png\"> X + Y <br>\n",
    "\n",
    "4)\tX <img style=\"display:inline;\" src=\"https://coursenligne.edublogs.org/files/2020/10/fleche.png\"> X - Y <br>\n",
    "\n",
    "5)\tY <img style=\"display:inline;\" src=\"https://coursenligne.edublogs.org/files/2020/10/fleche.png\"> Y - X <br>\n",
    "\n",
    "Compléter le tableau suivant :\n",
    "\n",
    "<img src=\"https://coursenligne.edublogs.org/files/2020/10/tab-1.png\"></img>"
   ]
  },
  {
   "cell_type": "markdown",
   "metadata": {
    "deletable": false,
    "editable": false,
    "nbgrader": {
     "cell_type": "markdown",
     "checksum": "3732141f566b86d80f5b456aab501229",
     "grade": false,
     "grade_id": "cell-ab8a7894179a9f71",
     "locked": true,
     "schema_version": 3,
     "solution": false,
     "task": false
    },
    "run_control": {
     "frozen": true
    }
   },
   "source": [
    "<span style=\"margin-left:60px;font-size:20px;color: #0077cc;\">3- Les opérations d’entrée/sortie :</span><br>\n",
    "\n",
    "_<span style=\"font-size:20px; text-decoration: underline;\">a- L’opération de sortie :</span>_ <br/>\n",
    "<span style=\"margin-left:30px;\"></span>Elle regroupe toutes les opérations de sortie des résultats sur écran.\n",
    "\n",
    "_<span style=\"font-size:20px; text-decoration: underline;\">Remarque :</span>_ <br/>\n",
    "<span style=\"margin-left:30px;\"></span>Cette opération s’appelle écriture.\n",
    "\n",
    "_<span style=\"font-size:20px; text-decoration: underline;\">Vocabulaire et Syntaxe :</span>_ <br/>\n",
    "\n",
    "<img src=\"https://coursenligne.edublogs.org/files/2020/10/tab-2.png\"></img>\n",
    "\n",
    "_<span style=\"font-size:20px; text-decoration: underline;\">Remarque :</span>_ <br/>\n",
    "<span style=\"margin-left:30px;\"></span>Pour afficher une valeur d’une variable nommée a, on peut utiliser ces deux modes d’affichage :\n",
    "- Affichage sans message :\n",
    "      Ecrire (a)"
   ]
  },
  {
   "cell_type": "code",
   "execution_count": null,
   "metadata": {},
   "outputs": [],
   "source": [
    "print(a)"
   ]
  },
  {
   "cell_type": "markdown",
   "metadata": {
    "deletable": false,
    "editable": false,
    "nbgrader": {
     "cell_type": "markdown",
     "checksum": "8944640353d4033d9f32a5de2d27fa9a",
     "grade": false,
     "grade_id": "cell-8205b35218365c7c",
     "locked": true,
     "schema_version": 3,
     "solution": false,
     "task": false
    },
    "run_control": {
     "frozen": true
    }
   },
   "source": [
    "- Affichage avec message :\n",
    "      Ecrire (\"La valeur de la variable a est : \", a)"
   ]
  },
  {
   "cell_type": "code",
   "execution_count": null,
   "metadata": {},
   "outputs": [],
   "source": [
    "print('La valeur de la variable a est : ', a)"
   ]
  },
  {
   "cell_type": "markdown",
   "metadata": {
    "deletable": false,
    "editable": false,
    "nbgrader": {
     "cell_type": "markdown",
     "checksum": "1969d5587025828c619c3db798e7de4e",
     "grade": false,
     "grade_id": "cell-7db7b0e7d0f10181",
     "locked": true,
     "schema_version": 3,
     "solution": false,
     "task": false
    },
    "run_control": {
     "frozen": true
    }
   },
   "source": [
    "_<span style=\"font-size:20px; text-decoration: underline;\">b- L’opération d’entrée :</span>_ <br/>\n",
    "<span style=\"margin-left:30px;\"></span>Une opération d’entrée consiste à saisir des données au clavier pour qu’elles soient utilisées par le programme. Le type de cette valeur doit être compatible avec le type de la variable en question.\n",
    "\n",
    "_<span style=\"font-size:20px; text-decoration: underline;\">Remarque :</span>_ <br/>\n",
    "<span style=\"margin-left:30px;\"></span>Cette opération s’appelle lecture.\n",
    "\n",
    "_<span style=\"font-size:20px; text-decoration: underline;\">Vocabulaire et Syntaxe :</span>_ <br/>\n",
    "\n",
    "<img src=\"https://coursenligne.edublogs.org/files/2020/10/tab-3.png\"></img>\n",
    "\n",
    "_<span style=\"font-size:20px; text-decoration: underline;\">Exemple :</span>_ <br/>\n",
    "\n",
    "<img src=\"https://coursenligne.edublogs.org/files/2020/10/tab-4.png\"></img>"
   ]
  },
  {
   "cell_type": "code",
   "execution_count": null,
   "metadata": {},
   "outputs": [],
   "source": [
    "x = input('Donner un entier')"
   ]
  },
  {
   "cell_type": "code",
   "execution_count": null,
   "metadata": {
    "deletable": false,
    "editable": false,
    "hide_input": true,
    "init_cell": true,
    "nbgrader": {
     "cell_type": "code",
     "checksum": "3513cff0111653fa574399e8f8e05571",
     "grade": false,
     "grade_id": "cell-eda70ab3ccd50204",
     "locked": true,
     "schema_version": 3,
     "solution": false,
     "task": false
    },
    "run_control": {
     "frozen": true
    }
   },
   "outputs": [],
   "source": [
    "display(HTML(\"\"\" <iframe style=\"border: 1px solid #aaa; width:100%; height:calc(100vw * 0.5625);\" frameborder=\"0\"  \n",
    "                    src=\"https://kerimbm.edublogs.org/files/2020/10/01-print-input.mp4\"> </iframe> \"\"\"))"
   ]
  },
  {
   "cell_type": "markdown",
   "metadata": {
    "deletable": false,
    "editable": false,
    "nbgrader": {
     "cell_type": "markdown",
     "checksum": "e1931e3c45c83aaa9390eab83490ba71",
     "grade": false,
     "grade_id": "cell-bb413ab9e8d37481",
     "locked": true,
     "schema_version": 3,
     "solution": false,
     "task": false
    },
    "run_control": {
     "frozen": true
    }
   },
   "source": [
    "_<span style=\"font-size:20px; text-decoration: underline;\">Application :</span>_ <br/>\n",
    "<span style=\"margin-left:30px;\"></span>Écrire un programme en Python, qui calcule le périmètre et la surface d’un cercle de rayon r saisi au clavier ;\n",
    "\n",
    "_<span style=\"font-size:20px; text-decoration: underline;\">Solution :</span>_ <br/>"
   ]
  },
  {
   "cell_type": "code",
   "execution_count": null,
   "metadata": {},
   "outputs": [],
   "source": [
    "Pi = ......                                             #1- Initialiser une variable Pi à 3.14159\n",
    "R = int(..............................)                 #2- Saisir le rayon et le stocker dans une variable R\n",
    "P ........................                              #3- Calculer le périmètre P (= 2 * Pi * R)\n",
    "S ........................                              #4- Calculer la surface S (= Pi * R ** 2)\n",
    "....................................                    #5- Afficher le périmètre et la surface du cercle"
   ]
  },
  {
   "cell_type": "markdown",
   "metadata": {
    "deletable": false,
    "editable": false,
    "nbgrader": {
     "cell_type": "markdown",
     "checksum": "d957acd727ab5176b86f72670409ccd7",
     "grade": false,
     "grade_id": "cell-137074772d8d7761",
     "locked": true,
     "schema_version": 3,
     "solution": false,
     "task": false
    },
    "run_control": {
     "frozen": true
    }
   },
   "source": [
    "_<span style=\"font-size:20px; text-decoration: underline;\">Application :</span>_ <br/>\n",
    "<span style=\"margin-left:30px;\"></span>Écrire un programme Python, qui affiche le carré et le cube d’un entier donné."
   ]
  },
  {
   "cell_type": "code",
   "execution_count": null,
   "metadata": {},
   "outputs": [],
   "source": [
    "..............................                          #1- Saisir un entier n\n",
    "..............................                          #2- Calculer le carré de n\n",
    "..............................                          #3- Calculer le cube de n\n",
    "..............................                          #4- Afficher le carré et le cube"
   ]
  },
  {
   "cell_type": "code",
   "execution_count": null,
   "metadata": {
    "deletable": false,
    "editable": false,
    "hide_input": true,
    "init_cell": true,
    "nbgrader": {
     "cell_type": "code",
     "checksum": "498db2ff78b06f5d7fd5de07fb3abd00",
     "grade": false,
     "grade_id": "cell-a025fa18aeb136a3",
     "locked": true,
     "schema_version": 3,
     "solution": false,
     "task": false
    },
    "run_control": {
     "frozen": true
    }
   },
   "outputs": [],
   "source": [
    "display(HTML(\"\"\" <iframe width=\"100%\" height=\"650px\" frameborder=\"0\"\n",
    "                    src=\"https://myquiz2.herokuapp.com/quiz/structure-simple\"> </iframe> \"\"\"))"
   ]
  }
 ],
 "metadata": {
  "kernelspec": {
   "display_name": "Python 3",
   "language": "python",
   "name": "python3"
  },
  "language_info": {
   "codemirror_mode": {
    "name": "ipython",
    "version": 3
   },
   "file_extension": ".py",
   "mimetype": "text/x-python",
   "name": "python",
   "nbconvert_exporter": "python",
   "pygments_lexer": "ipython3",
   "version": "3.7.3"
  }
 },
 "nbformat": 4,
 "nbformat_minor": 4
}
