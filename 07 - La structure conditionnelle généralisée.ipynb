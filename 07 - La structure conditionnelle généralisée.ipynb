{
 "cells": [
  {
   "cell_type": "code",
   "execution_count": null,
   "metadata": {
    "deletable": false,
    "editable": false,
    "hide_input": true,
    "init_cell": true,
    "nbgrader": {
     "cell_type": "code",
     "checksum": "6ecae6f66ba7259ea3e3858ce31762f4",
     "grade": false,
     "grade_id": "cell-0962acf67650c5a6",
     "locked": true,
     "schema_version": 3,
     "solution": false,
     "task": false
    }
   },
   "outputs": [],
   "source": [
    "from IPython.display import HTML, display\n",
    "from IPython.core.magic import register_line_cell_magic\n",
    "import urllib.request\n",
    "\n",
    "@register_line_cell_magic\n",
    "def tutor(line, cell):\n",
    "    code = urllib.parse.urlencode({\"code\": cell})\n",
    "    display(HTML(\"\"\"\n",
    "    <iframe width=\"970\" height=\"500px\" frameborder=\"0\"\n",
    "            src=\"http://pythontutor.com/iframe-embed.html#%s&py=3\">\n",
    "    </iframe>\n",
    "    \"\"\" % code))"
   ]
  },
  {
   "cell_type": "markdown",
   "metadata": {
    "deletable": false,
    "editable": false,
    "run_control": {
     "frozen": true
    }
   },
   "source": [
    "<div style=\"background-color:#fff5f5;border:2px solid #faa;padding:20px 0 10px 0;\"><span style=\"margin-left:30px;font-size:28px;color: #009955;\">Rappel :</span><br>\n",
    "<span style=\"font-size:18px;color: #0077cc;line-height:35px;\">\n",
    "<span style=\"margin-left:100px;\">- La structure conditionnelle simple.</span><br>\n",
    "</span>\n",
    "<span style=\"margin-left:30px;font-size:28px;color: #009955;\">Objectifs :</span><br>\n",
    "<span style=\"font-size:18px;color: #0077cc;line-height:35px;\">\n",
    "<span style=\"margin-left:100px;\">- Utiliser la structure conditionnelle généralisée pour résoudre des problèmes.</span><br>\n",
    "<span style=\"margin-left:100px;\">- Consolider les requis appris au cours de la séance en réalisant deux exercices.</span><br>\n",
    "</span></div>"
   ]
  },
  {
   "cell_type": "markdown",
   "metadata": {
    "deletable": false,
    "editable": false,
    "nbgrader": {
     "cell_type": "markdown",
     "checksum": "1defc1dbb56e7bc937ac63835a04003a",
     "grade": false,
     "grade_id": "cell-9e7b587b805fcb85",
     "locked": true,
     "schema_version": 3,
     "solution": false,
     "task": false
    },
    "run_control": {
     "frozen": true
    }
   },
   "source": [
    "<span style=\"margin-left:30px;font-size:28px;color: #005599;\">IV- Les structures conditionnelles :</span><br>\n",
    "\n",
    "<span style=\"margin-left:60px;font-size:20px;color: #0077cc;\">2- La structure conditionnelle généralisée :</span><br>\n",
    "\n",
    "_<span style=\"font-size:20px; text-decoration: underline;\">Syntaxe :</span>_ <br/>\n",
    "\n",
    "\n",
    "<img src=\"https://coursenligne.edublogs.org/files/2020/10/tab-6.png\"></img>\n",
    "\n",
    "_<span style=\"font-size:20px; text-decoration: underline;\">Activité :</span>_ <br/>\n",
    "<span style=\"margin-left:30px;\"></span>En utilisant la structure conditionnelle généralisée, écrire un programme qui permet de saisir la moyenne d’un élève puis d’afficher l’appréciation adéquate :\n",
    "\n",
    "|          |                   |\n",
    "|----------|-------------------|\n",
    "|Echec     |si 0 <= moy < 10   |\n",
    "|Passable  |si 10 <= moy < 13  |\n",
    "|Bien      |si 13 <= moy < 16  |\n",
    "|Excellent |si 16 <= moy <= 20 |\n",
    "\n",
    "\n",
    "_<span style=\"font-size:20px; text-decoration: underline;\">Solution :</span>_ <br/>\n"
   ]
  },
  {
   "cell_type": "code",
   "execution_count": null,
   "metadata": {},
   "outputs": [],
   "source": [
    "moy = ......... (input('Saisir la moyenne : '))  # Saisir la moyenne\n",
    "............... :                                # Tester si la moyenne est inférieure à 10\n",
    "    print('Echec')                               # Afficher : Echec\n",
    "............... :                                # Tester si la moyenne est inférieure à 13\n",
    "    print('Passable')                            # Afficher : Passable\n",
    "............... :                                # Tester si la moyenne est inférieure à 16\n",
    "    print('Bien')                                # Afficher : Bien\n",
    "......... :                                      # Tester si la moyenne est inférieure à 20\n",
    "    print('Excellent')                           # Afficher : Excellent\n",
    "\n",
    "# déduire l'agorithme."
   ]
  },
  {
   "cell_type": "markdown",
   "metadata": {
    "deletable": false,
    "editable": false,
    "nbgrader": {
     "cell_type": "markdown",
     "checksum": "1901ee760b329ab415a76b23870f295e",
     "grade": false,
     "grade_id": "cell-f363af1c1c8f276f",
     "locked": true,
     "schema_version": 3,
     "solution": false,
     "task": false
    },
    "run_control": {
     "frozen": true
    }
   },
   "source": [
    "_<span style=\"font-size:20px; text-decoration: underline;\">Application :</span>_ <br/>\n",
    "<span style=\"margin-left:30px;\"></span>Ecrire l'analyse, l'algorithme et la traduction en Python d'un programme qui permet de choisir une opération arithmétique, puis à partir de la saisie de deux entiers affiche le résultat de l’opération choisie."
   ]
  },
  {
   "cell_type": "code",
   "execution_count": null,
   "metadata": {
    "deletable": false,
    "editable": false,
    "hide_input": true,
    "init_cell": true,
    "nbgrader": {
     "cell_type": "code",
     "checksum": "7b786b9690f9a64fcf4a8dec2b51b334",
     "grade": false,
     "grade_id": "cell-d4252e028e18f6b5",
     "locked": true,
     "schema_version": 3,
     "solution": false,
     "task": false
    }
   },
   "outputs": [],
   "source": [
    "display(HTML(\"\"\" <iframe width=\"100%\" height=\"1080\" frameborder=\"0\"\n",
    "                    src=\"https://sofuspy.herokuapp.com/sofuspy/run.html\"> </iframe> \"\"\"))"
   ]
  },
  {
   "cell_type": "code",
   "execution_count": null,
   "metadata": {},
   "outputs": [],
   "source": []
  },
  {
   "cell_type": "code",
   "execution_count": null,
   "metadata": {
    "deletable": false,
    "editable": false,
    "hide_input": true,
    "init_cell": true,
    "nbgrader": {
     "cell_type": "code",
     "checksum": "575e849f8b1ffeb29f2fcf3a0641b5f5",
     "grade": false,
     "grade_id": "cell-cce3f128b4be1f9a",
     "locked": true,
     "schema_version": 3,
     "solution": false,
     "task": false
    }
   },
   "outputs": [],
   "source": [
    "display(HTML(\"\"\" <iframe width=\"100%\" height=\"650px\" frameborder=\"0\"\n",
    "                    src=\"https://myquiz2.herokuapp.com/quiz/si-generalisee\"> </iframe> \"\"\"))"
   ]
  },
  {
   "cell_type": "markdown",
   "metadata": {
    "deletable": false,
    "editable": false,
    "run_control": {
     "frozen": true
    }
   },
   "source": [
    "_<span style=\"font-size:20px; text-decoration: underline;\">Exercices :</span>_ 4 et 7 (Série II)."
   ]
  }
 ],
 "metadata": {
  "kernelspec": {
   "display_name": "Python 3",
   "language": "python",
   "name": "python3"
  },
  "language_info": {
   "codemirror_mode": {
    "name": "ipython",
    "version": 3
   },
   "file_extension": ".py",
   "mimetype": "text/x-python",
   "name": "python",
   "nbconvert_exporter": "python",
   "pygments_lexer": "ipython3",
   "version": "3.7.3"
  }
 },
 "nbformat": 4,
 "nbformat_minor": 4
}
