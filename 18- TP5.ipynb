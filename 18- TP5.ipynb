{
 "cells": [
  {
   "cell_type": "code",
   "execution_count": null,
   "metadata": {
    "deletable": false,
    "editable": false,
    "hide_input": true,
    "init_cell": true,
    "nbgrader": {
     "cell_type": "code",
     "checksum": "6ecae6f66ba7259ea3e3858ce31762f4",
     "grade": false,
     "grade_id": "cell-0962acf67650c5a6",
     "locked": true,
     "schema_version": 3,
     "solution": false,
     "task": false
    }
   },
   "outputs": [],
   "source": [
    "from IPython.display import HTML, display\n",
    "from IPython.core.magic import register_line_cell_magic\n",
    "import urllib.request\n",
    "\n",
    "@register_line_cell_magic\n",
    "def tutor(line, cell):\n",
    "    code = urllib.parse.urlencode({\"code\": cell})\n",
    "    display(HTML(\"\"\"\n",
    "    <iframe width=\"970\" height=\"500px\" frameborder=\"0\"\n",
    "            src=\"http://pythontutor.com/iframe-embed.html#%s&py=3\">\n",
    "    </iframe>\n",
    "    \"\"\" % code))"
   ]
  },
  {
   "cell_type": "markdown",
   "metadata": {
    "deletable": false,
    "editable": false,
    "run_control": {
     "frozen": true
    }
   },
   "source": [
    "<h1 style=\"text-align:center;font-size:42px;color:#005599;\">Travaux pratiques 5</h1>\n",
    "<h3 style=\"text-align:center;font-size:22px;color:#22bb88;\">45 mn</h3>\n",
    "<br><br>\n",
    "\n",
    "<span style=\"font-size:20px; text-decoration: underline;\">_Exercice 1 :_</span> <br>\n",
    "<span style=\"margin-left:30px;\"></span>Vous disposez de 10DT et économisez 3DT par jour pendant 29 jours.\n",
    "De quelle somme disposerez-vous ?"
   ]
  },
  {
   "cell_type": "code",
   "execution_count": null,
   "metadata": {},
   "outputs": [],
   "source": []
  },
  {
   "cell_type": "markdown",
   "metadata": {
    "deletable": false,
    "editable": false,
    "run_control": {
     "frozen": true
    }
   },
   "source": [
    "<span style=\"font-size:20px; text-decoration: underline;\">_Exercice 2 :_</span> <br>\n",
    "<span style=\"margin-left:30px;\"></span>Écrire un programme qui affiche les entiers pairs de ```17``` à ```38```."
   ]
  },
  {
   "cell_type": "code",
   "execution_count": null,
   "metadata": {},
   "outputs": [],
   "source": []
  },
  {
   "cell_type": "markdown",
   "metadata": {
    "deletable": false,
    "editable": false,
    "run_control": {
     "frozen": true
    }
   },
   "source": [
    "<span style=\"font-size:20px; text-decoration: underline;\">_Exercice 3 :_</span> <br>\n",
    "<span style=\"margin-left:30px;\"></span>Vous disposez de 40DT et économisez 3DT par jour.<br>\n",
    "Au bout de quelle durée pourrez-vous acheter une tablette à 300DT ?"
   ]
  },
  {
   "cell_type": "code",
   "execution_count": null,
   "metadata": {},
   "outputs": [],
   "source": []
  },
  {
   "cell_type": "markdown",
   "metadata": {
    "deletable": false,
    "editable": false,
    "run_control": {
     "frozen": true
    }
   },
   "source": [
    "<span style=\"font-size:20px; text-decoration: underline;\">_Exercice 4 :_</span> <br>\n",
    "<span style=\"margin-left:30px;\"></span>Ecrire un programme Python permettant d’afficher la somme, le produit et la moyenne d’une liste de nombres saisis au clavier. La liste se termine par ```-1``` qui ne fera pas partie du calcul."
   ]
  },
  {
   "cell_type": "code",
   "execution_count": null,
   "metadata": {},
   "outputs": [],
   "source": []
  }
 ],
 "metadata": {
  "kernelspec": {
   "display_name": "Python 3",
   "language": "python",
   "name": "python3"
  },
  "language_info": {
   "codemirror_mode": {
    "name": "ipython",
    "version": 3
   },
   "file_extension": ".py",
   "mimetype": "text/x-python",
   "name": "python",
   "nbconvert_exporter": "python",
   "pygments_lexer": "ipython3",
   "version": "3.7.3"
  }
 },
 "nbformat": 4,
 "nbformat_minor": 4
}
